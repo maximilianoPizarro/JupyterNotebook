{
  "nbformat": 4,
  "nbformat_minor": 0,
  "metadata": {
    "colab": {
      "name": "Ejemplo Análisis métricas.ipynb",
      "version": "0.3.2",
      "provenance": [],
      "collapsed_sections": [
        "58-TazfZTLwl",
        "PX7PdQ6oT485",
        "33ri719LVzi3",
        "HS8nX62oVxdf",
        "nz8ETM8gWha0",
        "yJe0g-PHWpse",
        "DyQ29wudbBVp"
      ],
      "include_colab_link": true
    },
    "kernelspec": {
      "name": "python3",
      "display_name": "Python 3"
    }
  },
  "cells": [
    {
      "cell_type": "markdown",
      "metadata": {
        "id": "view-in-github",
        "colab_type": "text"
      },
      "source": [
        "<a href=\"https://colab.research.google.com/github/maximilianoPizarro/Machine-Learning/blob/master/Ejemplo_An%C3%A1lisis_m%C3%A9tricas.ipynb\" target=\"_parent\"><img src=\"https://colab.research.google.com/assets/colab-badge.svg\" alt=\"Open In Colab\"/></a>"
      ]
    },
    {
      "cell_type": "markdown",
      "metadata": {
        "id": "hXTd7Pk3S05X",
        "colab_type": "text"
      },
      "source": [
        "#Ejemplo comportamiento de métricas"
      ]
    },
    {
      "cell_type": "code",
      "metadata": {
        "id": "8R0vkBvFSyBV",
        "colab_type": "code",
        "colab": {}
      },
      "source": [
        "import pandas as pd\n",
        "import numpy as np\n",
        "from sklearn.metrics import mean_absolute_error, mean_squared_error\n",
        "import matplotlib.pyplot as plt\n",
        "import seaborn as sns"
      ],
      "execution_count": 0,
      "outputs": []
    },
    {
      "cell_type": "markdown",
      "metadata": {
        "id": "58-TazfZTLwl",
        "colab_type": "text"
      },
      "source": [
        "## Creando un dataset de ejemplo manualmente"
      ]
    },
    {
      "cell_type": "code",
      "metadata": {
        "id": "u2NNpRpCTGT-",
        "colab_type": "code",
        "outputId": "ee5b0455-f7ac-4ada-b526-26dd15a16b48",
        "colab": {
          "base_uri": "https://localhost:8080/",
          "height": 204
        }
      },
      "source": [
        "# creamos 2 variables (simuladas) para evaluar el rendimiento \"de un modelo\"\n",
        "values = [\n",
        "    {\"y\": 10,\"y_pred\": 10},\n",
        "    {\"y\": 10,\"y_pred\": 11},\n",
        "    {\"y\": 10,\"y_pred\": 9},\n",
        "    {\"y\": 10,\"y_pred\": 10},\n",
        "    {\"y\": 10,\"y_pred\": 11},\n",
        "    {\"y\": 10,\"y_pred\": 9},\n",
        "    {\"y\": 10,\"y_pred\": 10},\n",
        "]\n",
        "df = pd.DataFrame()\n",
        "df = df.append(values)\n",
        "df.head()"
      ],
      "execution_count": 0,
      "outputs": [
        {
          "output_type": "execute_result",
          "data": {
            "text/html": [
              "<div>\n",
              "<style scoped>\n",
              "    .dataframe tbody tr th:only-of-type {\n",
              "        vertical-align: middle;\n",
              "    }\n",
              "\n",
              "    .dataframe tbody tr th {\n",
              "        vertical-align: top;\n",
              "    }\n",
              "\n",
              "    .dataframe thead th {\n",
              "        text-align: right;\n",
              "    }\n",
              "</style>\n",
              "<table border=\"1\" class=\"dataframe\">\n",
              "  <thead>\n",
              "    <tr style=\"text-align: right;\">\n",
              "      <th></th>\n",
              "      <th>y</th>\n",
              "      <th>y_pred</th>\n",
              "    </tr>\n",
              "  </thead>\n",
              "  <tbody>\n",
              "    <tr>\n",
              "      <th>0</th>\n",
              "      <td>10</td>\n",
              "      <td>10</td>\n",
              "    </tr>\n",
              "    <tr>\n",
              "      <th>1</th>\n",
              "      <td>10</td>\n",
              "      <td>11</td>\n",
              "    </tr>\n",
              "    <tr>\n",
              "      <th>2</th>\n",
              "      <td>10</td>\n",
              "      <td>9</td>\n",
              "    </tr>\n",
              "    <tr>\n",
              "      <th>3</th>\n",
              "      <td>10</td>\n",
              "      <td>10</td>\n",
              "    </tr>\n",
              "    <tr>\n",
              "      <th>4</th>\n",
              "      <td>10</td>\n",
              "      <td>11</td>\n",
              "    </tr>\n",
              "  </tbody>\n",
              "</table>\n",
              "</div>"
            ],
            "text/plain": [
              "    y  y_pred\n",
              "0  10      10\n",
              "1  10      11\n",
              "2  10       9\n",
              "3  10      10\n",
              "4  10      11"
            ]
          },
          "metadata": {
            "tags": []
          },
          "execution_count": 2
        }
      ]
    },
    {
      "cell_type": "markdown",
      "metadata": {
        "id": "PX7PdQ6oT485",
        "colab_type": "text"
      },
      "source": [
        "## calculemos la diferencia simple (sin aplicar formulas)"
      ]
    },
    {
      "cell_type": "code",
      "metadata": {
        "id": "xwR5LsAET2aC",
        "colab_type": "code",
        "outputId": "065f3704-06f2-45ea-c3b4-0d1d9ef1d05e",
        "colab": {
          "base_uri": "https://localhost:8080/",
          "height": 34
        }
      },
      "source": [
        "# Sumatoria(real - pred)\n",
        "# calculamos la diff por fila\n",
        "print(\"Error: %f\" % np.sum(df[\"y\"] - df[\"y_pred\"]))"
      ],
      "execution_count": 0,
      "outputs": [
        {
          "output_type": "stream",
          "text": [
            "Error: 0.000000\n"
          ],
          "name": "stdout"
        }
      ]
    },
    {
      "cell_type": "code",
      "metadata": {
        "id": "dils1mFSURA2",
        "colab_type": "code",
        "outputId": "5a0fd27e-d7b8-40bd-9281-91726ae8dd93",
        "colab": {
          "base_uri": "https://localhost:8080/",
          "height": 153
        }
      },
      "source": [
        "df[\"y\"] - df[\"y_pred\"]"
      ],
      "execution_count": 0,
      "outputs": [
        {
          "output_type": "execute_result",
          "data": {
            "text/plain": [
              "0    0\n",
              "1   -1\n",
              "2    1\n",
              "3    0\n",
              "4   -1\n",
              "5    1\n",
              "6    0\n",
              "dtype: int64"
            ]
          },
          "metadata": {
            "tags": []
          },
          "execution_count": 4
        }
      ]
    },
    {
      "cell_type": "code",
      "metadata": {
        "id": "BuM7ikcNe3PX",
        "colab_type": "code",
        "outputId": "6066f96d-039e-43e9-c0f1-d2f4deef587f",
        "colab": {
          "base_uri": "https://localhost:8080/",
          "height": 395
        }
      },
      "source": [
        "# miremos la distribución de las variables\n",
        "# pandas nos prove de funciones simples de visualización super útiles!!\n",
        "f, axes = plt.subplots(1, 2, figsize=(10,6))\n",
        "# line plot default\n",
        "df.plot(ax=axes[0])\n",
        "df.plot.bar(ax=axes[1])"
      ],
      "execution_count": 0,
      "outputs": [
        {
          "output_type": "execute_result",
          "data": {
            "text/plain": [
              "<matplotlib.axes._subplots.AxesSubplot at 0x7f6a25f6b780>"
            ]
          },
          "metadata": {
            "tags": []
          },
          "execution_count": 5
        },
        {
          "output_type": "display_data",
          "data": {
            "image/png": "[encoded data removed]",
            "text/plain": [
              "<Figure size 720x432 with 2 Axes>"
            ]
          },
          "metadata": {
            "tags": []
          }
        }
      ]
    },
    {
      "cell_type": "code",
      "metadata": {
        "id": "Qb_zPBx33J2j",
        "colab_type": "code",
        "outputId": "a4248e2b-4aea-487d-b213-5fd75d067853",
        "colab": {
          "base_uri": "https://localhost:8080/",
          "height": 287
        }
      },
      "source": [
        "df[\"y_pred\"].plot.box()"
      ],
      "execution_count": 0,
      "outputs": [
        {
          "output_type": "execute_result",
          "data": {
            "text/plain": [
              "<matplotlib.axes._subplots.AxesSubplot at 0x7f6a23689940>"
            ]
          },
          "metadata": {
            "tags": []
          },
          "execution_count": 6
        },
        {
          "output_type": "display_data",
          "data": {
            "image/png": "[encoded data removed]",
            "text/plain": [
              "<Figure size 432x288 with 1 Axes>"
            ]
          },
          "metadata": {
            "tags": []
          }
        }
      ]
    },
    {
      "cell_type": "code",
      "metadata": {
        "id": "RMiTod-yfVpt",
        "colab_type": "code",
        "outputId": "44928001-036a-4db6-8d7a-aaa87a692e3e",
        "colab": {
          "base_uri": "https://localhost:8080/",
          "height": 282
        }
      },
      "source": [
        "# diferencia por registro\n",
        "(df[\"y\"] - df[\"y_pred\"]).plot.bar()"
      ],
      "execution_count": 0,
      "outputs": [
        {
          "output_type": "execute_result",
          "data": {
            "text/plain": [
              "<matplotlib.axes._subplots.AxesSubplot at 0x7f6a235edc88>"
            ]
          },
          "metadata": {
            "tags": []
          },
          "execution_count": 7
        },
        {
          "output_type": "display_data",
          "data": {
            "image/png": "[encoded data removed]",
            "text/plain": [
              "<Figure size 432x288 with 1 Axes>"
            ]
          },
          "metadata": {
            "tags": []
          }
        }
      ]
    },
    {
      "cell_type": "code",
      "metadata": {
        "id": "FLntVmoiWI1v",
        "colab_type": "code",
        "outputId": "4bd02519-36de-429f-d2f2-f711e9ad76dd",
        "colab": {
          "base_uri": "https://localhost:8080/",
          "height": 34
        }
      },
      "source": [
        "print(\"Error Suma de valores absolutos: %f\" % np.sum(np.absolute(df[\"y\"] - df[\"y_pred\"])))"
      ],
      "execution_count": 0,
      "outputs": [
        {
          "output_type": "stream",
          "text": [
            "Error Suma de valores absolutos: 4.000000\n"
          ],
          "name": "stdout"
        }
      ]
    },
    {
      "cell_type": "markdown",
      "metadata": {
        "id": "33ri719LVzi3",
        "colab_type": "text"
      },
      "source": [
        "##Aplicando fórmulas"
      ]
    },
    {
      "cell_type": "code",
      "metadata": {
        "id": "WqaFqO2mUmDv",
        "colab_type": "code",
        "outputId": "96dbcdc5-a034-430b-bd7d-3d0dc615f416",
        "colab": {
          "base_uri": "https://localhost:8080/",
          "height": 34
        }
      },
      "source": [
        "#Veamos que pasa con las métricas para regresión\n",
        "mae = mean_absolute_error(df[\"y\"], df[\"y_pred\"])\n",
        "print(\"Error (mae): %f\" % mae)"
      ],
      "execution_count": 0,
      "outputs": [
        {
          "output_type": "stream",
          "text": [
            "Error (mae): 0.571429\n"
          ],
          "name": "stdout"
        }
      ]
    },
    {
      "cell_type": "code",
      "metadata": {
        "id": "BeIacOk1VMY7",
        "colab_type": "code",
        "outputId": "df0fcfdc-43c8-430f-ffc0-4f93ef5d9843",
        "colab": {
          "base_uri": "https://localhost:8080/",
          "height": 34
        }
      },
      "source": [
        "mse = mean_squared_error(df[\"y\"], df[\"y_pred\"])\n",
        "print(\"Error (mse): %f\" % mse)"
      ],
      "execution_count": 0,
      "outputs": [
        {
          "output_type": "stream",
          "text": [
            "Error (mse): 0.571429\n"
          ],
          "name": "stdout"
        }
      ]
    },
    {
      "cell_type": "code",
      "metadata": {
        "id": "RHvmhG1P83NK",
        "colab_type": "code",
        "outputId": "e6516ed6-fb3b-4551-87a8-5ac1ef9b8038",
        "colab": {
          "base_uri": "https://localhost:8080/",
          "height": 34
        }
      },
      "source": [
        "# \n",
        "((df[\"y\"] - df[\"y_pred\"]) ** 2).sum() / len(df)"
      ],
      "execution_count": 0,
      "outputs": [
        {
          "output_type": "execute_result",
          "data": {
            "text/plain": [
              "0.5714285714285714"
            ]
          },
          "metadata": {
            "tags": []
          },
          "execution_count": 11
        }
      ]
    },
    {
      "cell_type": "code",
      "metadata": {
        "id": "gFtIOrCp9c6X",
        "colab_type": "code",
        "colab": {}
      },
      "source": [
        ""
      ],
      "execution_count": 0,
      "outputs": []
    },
    {
      "cell_type": "markdown",
      "metadata": {
        "id": "M4o8kIzgVf42",
        "colab_type": "text"
      },
      "source": [
        "**mismo valor de error.** <br>\n",
        "\n",
        "0.57 de error. ¿Eso es bueno o malo?<br>\n",
        "***les propongo que investiguemos como se calcula ese valor!***"
      ]
    },
    {
      "cell_type": "markdown",
      "metadata": {
        "id": "HS8nX62oVxdf",
        "colab_type": "text"
      },
      "source": [
        "### Nuevo caso"
      ]
    },
    {
      "cell_type": "code",
      "metadata": {
        "id": "GJUcvDUVVXHe",
        "colab_type": "code",
        "outputId": "0af95948-0690-4573-843f-6550f8b35b5b",
        "colab": {
          "base_uri": "https://localhost:8080/",
          "height": 204
        }
      },
      "source": [
        "values = [\n",
        "    {\"y\": 10,\"y_pred\": 10},\n",
        "    {\"y\": 10,\"y_pred\": 10},\n",
        "    {\"y\": 10,\"y_pred\": 8},\n",
        "    {\"y\": 10,\"y_pred\": 10},\n",
        "    {\"y\": 10,\"y_pred\": 12},\n",
        "    {\"y\": 10,\"y_pred\": 10},\n",
        "    {\"y\": 10,\"y_pred\": 10},\n",
        "]\n",
        "df = pd.DataFrame()\n",
        "df = df.append(values)\n",
        "df.head()"
      ],
      "execution_count": 0,
      "outputs": [
        {
          "output_type": "execute_result",
          "data": {
            "text/html": [
              "<div>\n",
              "<style scoped>\n",
              "    .dataframe tbody tr th:only-of-type {\n",
              "        vertical-align: middle;\n",
              "    }\n",
              "\n",
              "    .dataframe tbody tr th {\n",
              "        vertical-align: top;\n",
              "    }\n",
              "\n",
              "    .dataframe thead th {\n",
              "        text-align: right;\n",
              "    }\n",
              "</style>\n",
              "<table border=\"1\" class=\"dataframe\">\n",
              "  <thead>\n",
              "    <tr style=\"text-align: right;\">\n",
              "      <th></th>\n",
              "      <th>y</th>\n",
              "      <th>y_pred</th>\n",
              "    </tr>\n",
              "  </thead>\n",
              "  <tbody>\n",
              "    <tr>\n",
              "      <th>0</th>\n",
              "      <td>10</td>\n",
              "      <td>10</td>\n",
              "    </tr>\n",
              "    <tr>\n",
              "      <th>1</th>\n",
              "      <td>10</td>\n",
              "      <td>10</td>\n",
              "    </tr>\n",
              "    <tr>\n",
              "      <th>2</th>\n",
              "      <td>10</td>\n",
              "      <td>8</td>\n",
              "    </tr>\n",
              "    <tr>\n",
              "      <th>3</th>\n",
              "      <td>10</td>\n",
              "      <td>10</td>\n",
              "    </tr>\n",
              "    <tr>\n",
              "      <th>4</th>\n",
              "      <td>10</td>\n",
              "      <td>12</td>\n",
              "    </tr>\n",
              "  </tbody>\n",
              "</table>\n",
              "</div>"
            ],
            "text/plain": [
              "    y  y_pred\n",
              "0  10      10\n",
              "1  10      10\n",
              "2  10       8\n",
              "3  10      10\n",
              "4  10      12"
            ]
          },
          "metadata": {
            "tags": []
          },
          "execution_count": 12
        }
      ]
    },
    {
      "cell_type": "markdown",
      "metadata": {
        "id": "nz8ETM8gWha0",
        "colab_type": "text"
      },
      "source": [
        "##Diferencia simple"
      ]
    },
    {
      "cell_type": "code",
      "metadata": {
        "id": "GXjtM6gFWfCd",
        "colab_type": "code",
        "outputId": "0fbf5136-6fd1-4262-c885-f8ae77f20dac",
        "colab": {
          "base_uri": "https://localhost:8080/",
          "height": 51
        }
      },
      "source": [
        "# calculamos la diff por fila\n",
        "print(\"Error: %f\" % np.sum(df[\"y\"] - df[\"y_pred\"]))\n",
        "print(\"Error Suma de valores absolutos: %f\" % np.sum(np.absolute(df[\"y\"] - df[\"y_pred\"])))"
      ],
      "execution_count": 0,
      "outputs": [
        {
          "output_type": "stream",
          "text": [
            "Error: 0.000000\n",
            "Error Suma de valores absolutos: 4.000000\n"
          ],
          "name": "stdout"
        }
      ]
    },
    {
      "cell_type": "markdown",
      "metadata": {
        "id": "ViXzXG2zWmUa",
        "colab_type": "text"
      },
      "source": [
        "Mismos valores que en el caso anterior."
      ]
    },
    {
      "cell_type": "code",
      "metadata": {
        "id": "z404UQe0gHWA",
        "colab_type": "code",
        "outputId": "cc27f471-63c6-42a9-fcb0-9f26ebd9d87e",
        "colab": {
          "base_uri": "https://localhost:8080/",
          "height": 395
        }
      },
      "source": [
        "# miremos la distribución de las variables\n",
        "# pandas nos prove de funciones simples de visualización super útiles!!\n",
        "f, axes = plt.subplots(1, 2, figsize=(10,6))\n",
        "# line plot default\n",
        "df.plot(ax=axes[0])\n",
        "df.plot.bar(ax=axes[1])"
      ],
      "execution_count": 0,
      "outputs": [
        {
          "output_type": "execute_result",
          "data": {
            "text/plain": [
              "<matplotlib.axes._subplots.AxesSubplot at 0x7f6a23599fd0>"
            ]
          },
          "metadata": {
            "tags": []
          },
          "execution_count": 14
        },
        {
          "output_type": "display_data",
          "data": {
            "image/png": "[encoded data removed]",
            "text/plain": [
              "<Figure size 720x432 with 2 Axes>"
            ]
          },
          "metadata": {
            "tags": []
          }
        }
      ]
    },
    {
      "cell_type": "code",
      "metadata": {
        "id": "4ZRc7ogCgJrf",
        "colab_type": "code",
        "outputId": "fae6cd64-b6e8-4df1-db42-c88e77092510",
        "colab": {
          "base_uri": "https://localhost:8080/",
          "height": 282
        }
      },
      "source": [
        "# diferencia por registro\n",
        "(df[\"y\"] - df[\"y_pred\"]).plot.bar()"
      ],
      "execution_count": 0,
      "outputs": [
        {
          "output_type": "execute_result",
          "data": {
            "text/plain": [
              "<matplotlib.axes._subplots.AxesSubplot at 0x7f6a235dd3c8>"
            ]
          },
          "metadata": {
            "tags": []
          },
          "execution_count": 15
        },
        {
          "output_type": "display_data",
          "data": {
            "image/png": "[encoded data removed]",
            "text/plain": [
              "<Figure size 432x288 with 1 Axes>"
            ]
          },
          "metadata": {
            "tags": []
          }
        }
      ]
    },
    {
      "cell_type": "markdown",
      "metadata": {
        "id": "yJe0g-PHWpse",
        "colab_type": "text"
      },
      "source": [
        "## Aplicando formulas"
      ]
    },
    {
      "cell_type": "code",
      "metadata": {
        "id": "BhF7gpd5WlBb",
        "colab_type": "code",
        "outputId": "50c02d14-ff39-4bab-d97e-c583c666bfe9",
        "colab": {
          "base_uri": "https://localhost:8080/",
          "height": 34
        }
      },
      "source": [
        "#Veamos que pasa con las métricas para regresión\n",
        "mae = mean_absolute_error(df[\"y\"], df[\"y_pred\"])\n",
        "print(\"Error (mae): %f\" % mae)\n",
        "# valor del primer ejemplo: Error (mae): 0.571429"
      ],
      "execution_count": 0,
      "outputs": [
        {
          "output_type": "stream",
          "text": [
            "Error (mae): 0.571429\n"
          ],
          "name": "stdout"
        }
      ]
    },
    {
      "cell_type": "markdown",
      "metadata": {
        "id": "dCVbJ8eFW2k1",
        "colab_type": "text"
      },
      "source": [
        "**Mismo valor que en el caso anterior**\n",
        "veamos MSE"
      ]
    },
    {
      "cell_type": "code",
      "metadata": {
        "id": "AbUiAPWEWthI",
        "colab_type": "code",
        "outputId": "b3288c0e-b3c0-47e8-ffe9-db5fc853469b",
        "colab": {
          "base_uri": "https://localhost:8080/",
          "height": 34
        }
      },
      "source": [
        "mse = mean_squared_error(df[\"y\"], df[\"y_pred\"])\n",
        "print(\"Error (mse): %f\" % mse)\n",
        "# valor del primer ejemplo: Error (mse): 0.571429"
      ],
      "execution_count": 0,
      "outputs": [
        {
          "output_type": "stream",
          "text": [
            "Error (mse): 1.142857\n"
          ],
          "name": "stdout"
        }
      ]
    },
    {
      "cell_type": "markdown",
      "metadata": {
        "id": "GxK4zzTdXI9C",
        "colab_type": "text"
      },
      "source": [
        "**El valor es casí el doble: 0.571429 => 1.142857**<br>\n",
        "¿porque ocurre esto?"
      ]
    },
    {
      "cell_type": "code",
      "metadata": {
        "id": "DdeHWdPycsaR",
        "colab_type": "code",
        "outputId": "6a5ad228-e7e2-4ac9-cd6b-81418b2ad89c",
        "colab": {
          "base_uri": "https://localhost:8080/",
          "height": 407
        }
      },
      "source": [
        "# vamos a crear 2 funciones juntas\n",
        "f, axes = plt.subplots(1, 2, figsize=(12,6))  # (1 fila, 2 columnas)\n",
        "# graficar función modulo\n",
        "sns.lineplot(range(-100,100), [abs(i) for i in range(-100,100)], ax=axes[0]).set_title(\"Función Modulo\")\n",
        "# graficar función cuadrática\n",
        "sns.lineplot(range(-100,100), [i ** 2 for i in range(-100,100)], ax=axes[1]).set_title(\"Función cuadrática\")"
      ],
      "execution_count": 0,
      "outputs": [
        {
          "output_type": "execute_result",
          "data": {
            "text/plain": [
              "Text(0.5, 1.0, 'Función cuadrática')"
            ]
          },
          "metadata": {
            "tags": []
          },
          "execution_count": 18
        },
        {
          "output_type": "display_data",
          "data": {
            "image/png": "[encoded data removed]",
            "text/plain": [
              "<Figure size 864x432 with 2 Axes>"
            ]
          },
          "metadata": {
            "tags": []
          }
        }
      ]
    },
    {
      "cell_type": "markdown",
      "metadata": {
        "id": "O6BEJShSdsev",
        "colab_type": "text"
      },
      "source": [
        "**Cuidado:** Las escalas del eje Y (vertical) de las figuras son significativamente distintas."
      ]
    },
    {
      "cell_type": "markdown",
      "metadata": {
        "id": "nTzTYZ3Kfrro",
        "colab_type": "text"
      },
      "source": [
        "**Reflexionemos:** ¿Cómo difieren los 2 casos previamente analizados?"
      ]
    },
    {
      "cell_type": "markdown",
      "metadata": {
        "id": "DyQ29wudbBVp",
        "colab_type": "text"
      },
      "source": [
        "##Por último, los invitamos a probar con nuevos casos"
      ]
    },
    {
      "cell_type": "code",
      "metadata": {
        "id": "05noFlXvWt_W",
        "colab_type": "code",
        "colab": {}
      },
      "source": [
        "caso3 = [\n",
        "    {\"y\": 10,\"y_pred\": 10},\n",
        "    {\"y\": 10,\"y_pred\": 10},\n",
        "    {\"y\": 10,\"y_pred\": 9},\n",
        "    {\"y\": 10,\"y_pred\": 9},\n",
        "    {\"y\": 10,\"y_pred\": 11},\n",
        "    {\"y\": 10,\"y_pred\": 11},\n",
        "    {\"y\": 10,\"y_pred\": 10},\n",
        "    {\"y\": 10,\"y_pred\": 10},\n",
        "    {\"y\": 10,\"y_pred\": 11},\n",
        "    {\"y\": 10,\"y_pred\": 9},\n",
        "    {\"y\": 10,\"y_pred\": 10},\n",
        "    {\"y\": 10,\"y_pred\": 11},\n",
        "    {\"y\": 10,\"y_pred\": 9},\n",
        "    {\"y\": 10,\"y_pred\": 10},\n",
        "]\n",
        "caso4 = [\n",
        "    {\"y\": 10,\"y_pred\": 10},\n",
        "    {\"y\": 10,\"y_pred\": 10},\n",
        "    {\"y\": 10,\"y_pred\": 10},\n",
        "    {\"y\": 10,\"y_pred\": 10},\n",
        "    {\"y\": 10,\"y_pred\": 14},\n",
        "    {\"y\": 10,\"y_pred\": 14},\n",
        "    {\"y\": 10,\"y_pred\": 10},\n",
        "]"
      ],
      "execution_count": 0,
      "outputs": []
    },
    {
      "cell_type": "markdown",
      "metadata": {
        "id": "t1_Mt__JbWPi",
        "colab_type": "text"
      },
      "source": [
        "**¿Antes de empezar con el proceso, que creen que va a ocurrir?¿Como se comportarán las métricas?**"
      ]
    },
    {
      "cell_type": "code",
      "metadata": {
        "id": "skXnHDNwBEvy",
        "colab_type": "code",
        "outputId": "69c2f4aa-5508-4836-bcb0-f005748dcb00",
        "colab": {
          "base_uri": "https://localhost:8080/",
          "height": 206
        }
      },
      "source": [
        "df1 = pd.DataFrame()\n",
        "df1 = df1.append(caso3)\n",
        "df1.head()\n",
        "\n",
        "df2 = pd.DataFrame()\n",
        "df2 = df2.append(caso4)\n",
        "df2.head()\n"
      ],
      "execution_count": 0,
      "outputs": [
        {
          "output_type": "execute_result",
          "data": {
            "text/html": [
              "<div>\n",
              "<style scoped>\n",
              "    .dataframe tbody tr th:only-of-type {\n",
              "        vertical-align: middle;\n",
              "    }\n",
              "\n",
              "    .dataframe tbody tr th {\n",
              "        vertical-align: top;\n",
              "    }\n",
              "\n",
              "    .dataframe thead th {\n",
              "        text-align: right;\n",
              "    }\n",
              "</style>\n",
              "<table border=\"1\" class=\"dataframe\">\n",
              "  <thead>\n",
              "    <tr style=\"text-align: right;\">\n",
              "      <th></th>\n",
              "      <th>y</th>\n",
              "      <th>y_pred</th>\n",
              "    </tr>\n",
              "  </thead>\n",
              "  <tbody>\n",
              "    <tr>\n",
              "      <th>0</th>\n",
              "      <td>10</td>\n",
              "      <td>10</td>\n",
              "    </tr>\n",
              "    <tr>\n",
              "      <th>1</th>\n",
              "      <td>10</td>\n",
              "      <td>10</td>\n",
              "    </tr>\n",
              "    <tr>\n",
              "      <th>2</th>\n",
              "      <td>10</td>\n",
              "      <td>10</td>\n",
              "    </tr>\n",
              "    <tr>\n",
              "      <th>3</th>\n",
              "      <td>10</td>\n",
              "      <td>10</td>\n",
              "    </tr>\n",
              "    <tr>\n",
              "      <th>4</th>\n",
              "      <td>10</td>\n",
              "      <td>14</td>\n",
              "    </tr>\n",
              "  </tbody>\n",
              "</table>\n",
              "</div>"
            ],
            "text/plain": [
              "    y  y_pred\n",
              "0  10      10\n",
              "1  10      10\n",
              "2  10      10\n",
              "3  10      10\n",
              "4  10      14"
            ]
          },
          "metadata": {
            "tags": []
          },
          "execution_count": 5
        }
      ]
    },
    {
      "cell_type": "code",
      "metadata": {
        "id": "w6P-P6RnW954",
        "colab_type": "code",
        "outputId": "ee5a8a76-57ff-4f2d-f160-078c0d62d57f",
        "colab": {
          "base_uri": "https://localhost:8080/",
          "height": 34
        }
      },
      "source": [
        "#Veamos que pasa con las métricas para regresión\n",
        "mae = mean_absolute_error(df1[\"y\"], df1[\"y_pred\"])\n",
        "print(\"Error (mae): %f\" % mae)\n",
        "# valor del primer ejemplo: Error (mae): 0.571429"
      ],
      "execution_count": 0,
      "outputs": [
        {
          "output_type": "stream",
          "text": [
            "Error (mae): 0.571429\n"
          ],
          "name": "stdout"
        }
      ]
    },
    {
      "cell_type": "code",
      "metadata": {
        "id": "yCTFrN-WBXoF",
        "colab_type": "code",
        "outputId": "6f031131-6412-405c-a645-73ecfa46b66c",
        "colab": {
          "base_uri": "https://localhost:8080/",
          "height": 34
        }
      },
      "source": [
        "#Veamos que pasa con las métricas para regresión\n",
        "mae1 = mean_absolute_error(df2[\"y\"], df2[\"y_pred\"])\n",
        "print(\"Error (mae): %f\" % mae1)\n",
        "# valor del primer ejemplo: Error (mae): 0.571429"
      ],
      "execution_count": 0,
      "outputs": [
        {
          "output_type": "stream",
          "text": [
            "Error (mae): 1.142857\n"
          ],
          "name": "stdout"
        }
      ]
    },
    {
      "cell_type": "code",
      "metadata": {
        "id": "t0CwazBFBmPX",
        "colab_type": "code",
        "outputId": "4bcff315-4cb1-4243-a9b6-b2591b649ab6",
        "colab": {
          "base_uri": "https://localhost:8080/",
          "height": 34
        }
      },
      "source": [
        "mse = mean_squared_error(df1[\"y\"], df1[\"y_pred\"])\n",
        "print(\"Error (mse): %f\" % mse)\n",
        "# valor del primer ejemplo: Error (mse): 0.571429"
      ],
      "execution_count": 0,
      "outputs": [
        {
          "output_type": "stream",
          "text": [
            "Error (mse): 0.571429\n"
          ],
          "name": "stdout"
        }
      ]
    },
    {
      "cell_type": "code",
      "metadata": {
        "id": "PW0Xoxr0Bm1A",
        "colab_type": "code",
        "outputId": "e8062ca7-c12d-48b1-ed95-01ed59c947e4",
        "colab": {
          "base_uri": "https://localhost:8080/",
          "height": 34
        }
      },
      "source": [
        "mse2 = mean_squared_error(df2[\"y\"], df2[\"y_pred\"])\n",
        "print(\"Error (mse): %f\" % mse2)\n",
        "# valor del primer ejemplo: Error (mse): 0.571429"
      ],
      "execution_count": 0,
      "outputs": [
        {
          "output_type": "stream",
          "text": [
            "Error (mse): 4.571429\n"
          ],
          "name": "stdout"
        }
      ]
    },
    {
      "cell_type": "markdown",
      "metadata": {
        "id": "KI2wfIwdEljD",
        "colab_type": "text"
      },
      "source": [
        "##Compute Area Under the Curve (AUC) \n",
        "---\n",
        "\n"
      ]
    },
    {
      "cell_type": "code",
      "metadata": {
        "id": "FxAg9dRdDrRi",
        "colab_type": "code",
        "colab": {}
      },
      "source": [
        "import numpy as np\n",
        "from sklearn.metrics import roc_curve,auc"
      ],
      "execution_count": 0,
      "outputs": []
    },
    {
      "cell_type": "markdown",
      "metadata": {
        "id": "KRCZC-kkFeFi",
        "colab_type": "text"
      },
      "source": [
        "Vamos a trabajar la metrica de computarizar el area debajo de la curva de Sklearn para eso vamos a crear  un dataset que va \n",
        "a contener la consentración de un valor predicho (y_pred) en funcion del tiempo (y)."
      ]
    },
    {
      "cell_type": "code",
      "metadata": {
        "id": "dQgPLQxmKva8",
        "colab_type": "code",
        "colab": {}
      },
      "source": [
        "caso_auc = [\n",
        "    {\"y\": 0,\"y_pred\": 100},\n",
        "    {\"y\": 1,\"y_pred\": 50},\n",
        "    {\"y\": 2,\"y_pred\": 25},\n",
        "    {\"y\": 3,\"y_pred\": 12.5},\n",
        "    {\"y\": 4,\"y_pred\": 6.25},\n",
        "    {\"y\": 5,\"y_pred\": 3.13},\n",
        "    {\"y\": 6,\"y_pred\": 1.56}\n",
        "]"
      ],
      "execution_count": 0,
      "outputs": []
    },
    {
      "cell_type": "code",
      "metadata": {
        "id": "HKdYpXYbGRP1",
        "colab_type": "code",
        "outputId": "9477ebc3-1036-4db1-9c67-003b1809922b",
        "colab": {
          "base_uri": "https://localhost:8080/",
          "height": 206
        }
      },
      "source": [
        "dfauc = pd.DataFrame(caso_auc)\n",
        "dfauc.head()"
      ],
      "execution_count": 0,
      "outputs": [
        {
          "output_type": "execute_result",
          "data": {
            "text/html": [
              "<div>\n",
              "<style scoped>\n",
              "    .dataframe tbody tr th:only-of-type {\n",
              "        vertical-align: middle;\n",
              "    }\n",
              "\n",
              "    .dataframe tbody tr th {\n",
              "        vertical-align: top;\n",
              "    }\n",
              "\n",
              "    .dataframe thead th {\n",
              "        text-align: right;\n",
              "    }\n",
              "</style>\n",
              "<table border=\"1\" class=\"dataframe\">\n",
              "  <thead>\n",
              "    <tr style=\"text-align: right;\">\n",
              "      <th></th>\n",
              "      <th>y</th>\n",
              "      <th>y_pred</th>\n",
              "    </tr>\n",
              "  </thead>\n",
              "  <tbody>\n",
              "    <tr>\n",
              "      <th>0</th>\n",
              "      <td>0</td>\n",
              "      <td>100.00</td>\n",
              "    </tr>\n",
              "    <tr>\n",
              "      <th>1</th>\n",
              "      <td>1</td>\n",
              "      <td>50.00</td>\n",
              "    </tr>\n",
              "    <tr>\n",
              "      <th>2</th>\n",
              "      <td>2</td>\n",
              "      <td>25.00</td>\n",
              "    </tr>\n",
              "    <tr>\n",
              "      <th>3</th>\n",
              "      <td>3</td>\n",
              "      <td>12.50</td>\n",
              "    </tr>\n",
              "    <tr>\n",
              "      <th>4</th>\n",
              "      <td>4</td>\n",
              "      <td>6.25</td>\n",
              "    </tr>\n",
              "  </tbody>\n",
              "</table>\n",
              "</div>"
            ],
            "text/plain": [
              "   y  y_pred\n",
              "0  0  100.00\n",
              "1  1   50.00\n",
              "2  2   25.00\n",
              "3  3   12.50\n",
              "4  4    6.25"
            ]
          },
          "metadata": {
            "tags": []
          },
          "execution_count": 62
        }
      ]
    },
    {
      "cell_type": "markdown",
      "metadata": {
        "id": "gQ_3vYAPzBLq",
        "colab_type": "text"
      },
      "source": [
        "### Graficamos la  curva de la consentracion en funcion del tiempo"
      ]
    },
    {
      "cell_type": "code",
      "metadata": {
        "id": "p1JR4jhuGjW5",
        "colab_type": "code",
        "outputId": "5908c4ff-5ef5-4af2-8ad9-2fc077dedee3",
        "colab": {
          "base_uri": "https://localhost:8080/",
          "height": 296
        }
      },
      "source": [
        "\n",
        "fig, ax = plt.subplots()\n",
        "ax.plot(dfauc[\"y\"], dfauc[\"y_pred\"])\n",
        "\n",
        "ax.set(xlabel='Tiempo (y_pred)', ylabel='Concentracion (y)',\n",
        "       title='Concentracion en funcion del tiempo')\n",
        "ax.grid()\n"
      ],
      "execution_count": 0,
      "outputs": [
        {
          "output_type": "display_data",
          "data": {
            "image/png": "[encoded data removed]",
            "text/plain": [
              "<Figure size 432x288 with 1 Axes>"
            ]
          },
          "metadata": {
            "tags": []
          }
        }
      ]
    },
    {
      "cell_type": "markdown",
      "metadata": {
        "id": "P_jsggFQxcdK",
        "colab_type": "text"
      },
      "source": [
        "### Extraemos falsos positivos, verdaderos positivos y umbrales con la funcion roc_curve"
      ]
    },
    {
      "cell_type": "code",
      "metadata": {
        "id": "8X3MWmF-DzVI",
        "colab_type": "code",
        "colab": {}
      },
      "source": [
        "fpr, tpr, thresholds = roc_curve(dfauc[\"y\"], dfauc[\"y_pred\"], pos_label=2)"
      ],
      "execution_count": 0,
      "outputs": []
    },
    {
      "cell_type": "markdown",
      "metadata": {
        "id": "Lyi04S7-qU20",
        "colab_type": "text"
      },
      "source": [
        "###Calculo del area debajo de la curva \n",
        "\n",
        "Analizaremos el metodo de Regla del trapecio para calcular el area debajo de la curva aunque existen otros meodos como \n",
        "regla de simpson.\n",
        "\n",
        ">[Regla del Trapecio](https://es.wikipedia.org/wiki/Regla_del_trapecio)\n",
        "\n",
        ">[Regla de Simpson](https://es.wikipedia.org/wiki/Regla_de_Simpson)\n",
        "\n",
        "\n",
        "\n"
      ]
    },
    {
      "cell_type": "code",
      "metadata": {
        "id": "fSszW7rRogeB",
        "colab_type": "code",
        "colab": {
          "base_uri": "https://localhost:8080/",
          "height": 35
        },
        "outputId": "c438b1b1-aade-4d76-9f1d-690cab3c9907"
      },
      "source": [
        "import numpy as np\n",
        "from numpy import trapz\n",
        "\n",
        "# Calculo del area debajo de la curva usando regla del trapecio.\n",
        "area = trapz(dfauc['y_pred'], dfauc['y'])\n",
        "print(\"Calculo del area usando regla del trapecio =\", area)\n"
      ],
      "execution_count": 103,
      "outputs": [
        {
          "output_type": "stream",
          "text": [
            "Calculo del area usando regla del trapecio = 147.66\n"
          ],
          "name": "stdout"
        }
      ]
    },
    {
      "cell_type": "code",
      "metadata": {
        "id": "1fh_HVyLsQR5",
        "colab_type": "code",
        "colab": {
          "base_uri": "https://localhost:8080/",
          "height": 35
        },
        "outputId": "b129ceed-ef97-40d9-d9b1-89584fd2e528"
      },
      "source": [
        "# Calculo del area debajo de la curva .\n",
        "from scipy.integrate import simps\n",
        "\n",
        "area = simps(dfauc['y_pred'], dfauc['y'])\n",
        "print(\"Calculo del area usando composicion Simpson =\", area)"
      ],
      "execution_count": 104,
      "outputs": [
        {
          "output_type": "stream",
          "text": [
            "Calculo del area usando composicion Simpson = 142.19333333333333\n"
          ],
          "name": "stdout"
        }
      ]
    },
    {
      "cell_type": "markdown",
      "metadata": {
        "id": "J4C8lFZSx3U6",
        "colab_type": "text"
      },
      "source": [
        "### Aplico la metrica AUC"
      ]
    },
    {
      "cell_type": "code",
      "metadata": {
        "id": "I_w4Y4m-EJZA",
        "colab_type": "code",
        "outputId": "224d7046-79ba-4708-ff18-353114964802",
        "colab": {
          "base_uri": "https://localhost:8080/",
          "height": 36
        }
      },
      "source": [
        "auc(fpr, tpr)"
      ],
      "execution_count": 0,
      "outputs": [
        {
          "output_type": "execute_result",
          "data": {
            "text/plain": [
              "0.6666666666666667"
            ]
          },
          "metadata": {
            "tags": []
          },
          "execution_count": 44
        }
      ]
    },
    {
      "cell_type": "markdown",
      "metadata": {
        "id": "GutqJQqs0hGb",
        "colab_type": "text"
      },
      "source": [
        "###Analizando otro caso"
      ]
    },
    {
      "cell_type": "code",
      "metadata": {
        "id": "u85ieu7I0kMt",
        "colab_type": "code",
        "colab": {}
      },
      "source": [
        "caso_auc_2 = [\n",
        "    {\"y\": 0,\"y_pred\": 100},\n",
        "    {\"y\": 1,\"y_pred\": 90},\n",
        "    {\"y\": 2,\"y_pred\": 85},\n",
        "    {\"y\": 3,\"y_pred\": 84},\n",
        "    {\"y\": 4,\"y_pred\": 80.25},\n",
        "    {\"y\": 5,\"y_pred\": 77.13},\n",
        "    {\"y\": 6,\"y_pred\": 74.56},\n",
        "    {\"y\": 7,\"y_pred\": 74.56},\n",
        "    {\"y\": 8,\"y_pred\": 74.56},\n",
        "    {\"y\": 9,\"y_pred\": 74.56},\n",
        "    {\"y\": 10,\"y_pred\": 64.56},\n",
        "    {\"y\": 11,\"y_pred\": 64.56},\n",
        "    {\"y\": 12,\"y_pred\": 54.56}    \n",
        "]"
      ],
      "execution_count": 0,
      "outputs": []
    },
    {
      "cell_type": "code",
      "metadata": {
        "id": "OorFKNma0wCT",
        "colab_type": "code",
        "colab": {}
      },
      "source": [
        "dfauc_otro = pd.DataFrame(caso_auc_2)\n"
      ],
      "execution_count": 0,
      "outputs": []
    },
    {
      "cell_type": "code",
      "metadata": {
        "id": "aR0szs_Y03lT",
        "colab_type": "code",
        "colab": {
          "base_uri": "https://localhost:8080/",
          "height": 296
        },
        "outputId": "567fd02b-c7e9-40aa-b6d9-9571b24dc914"
      },
      "source": [
        "fig, ax = plt.subplots()\n",
        "ax.plot(dfauc_otro[\"y\"], dfauc_otro[\"y_pred\"])\n",
        "\n",
        "ax.set(xlabel='Tiempo (y_pred)', ylabel='Concentracion (y)',\n",
        "       title='Concentracion en funcion del tiempo')\n",
        "ax.grid()"
      ],
      "execution_count": 135,
      "outputs": [
        {
          "output_type": "display_data",
          "data": {
            "image/png": "[encoded data removed]",
            "text/plain": [
              "<Figure size 432x288 with 1 Axes>"
            ]
          },
          "metadata": {
            "tags": []
          }
        }
      ]
    },
    {
      "cell_type": "code",
      "metadata": {
        "id": "JB8KU5mN1JgP",
        "colab_type": "code",
        "colab": {}
      },
      "source": [
        "fpr_otro, tpr_otro, thresholds = roc_curve(dfauc_otro[\"y\"], dfauc_otro[\"y_pred\"], pos_label=2)"
      ],
      "execution_count": 0,
      "outputs": []
    },
    {
      "cell_type": "code",
      "metadata": {
        "id": "2kL8ln0O1OaD",
        "colab_type": "code",
        "colab": {
          "base_uri": "https://localhost:8080/",
          "height": 35
        },
        "outputId": "b6a470fc-2509-4504-8dbb-3e7fbe15ebcf"
      },
      "source": [
        "auc(fpr_otro, tpr_otro)"
      ],
      "execution_count": 137,
      "outputs": [
        {
          "output_type": "execute_result",
          "data": {
            "text/plain": [
              "0.8333333333333333"
            ]
          },
          "metadata": {
            "tags": []
          },
          "execution_count": 137
        }
      ]
    },
    {
      "cell_type": "code",
      "metadata": {
        "id": "rI6GtWJQ3WMk",
        "colab_type": "code",
        "colab": {}
      },
      "source": [
        "import os\n",
        "import pandas as pd\n",
        "import plotly.graph_objs as go\n",
        "\n",
        "df = pd.read_csv('https://raw.githubusercontent.com/plotly/datasets/master/Mining-BTC-180.csv')\n",
        "df[\"month\"] = pd.DatetimeIndex(df[\"Date\"]).month\n"
      ],
      "execution_count": 0,
      "outputs": []
    },
    {
      "cell_type": "code",
      "metadata": {
        "id": "pcN9WBZR3q6B",
        "colab_type": "code",
        "colab": {
          "base_uri": "https://localhost:8080/",
          "height": 300
        },
        "outputId": "6af317e9-15c7-47bf-9339-f060d34a0274"
      },
      "source": [
        "df.describe()"
      ],
      "execution_count": 143,
      "outputs": [
        {
          "output_type": "execute_result",
          "data": {
            "text/html": [
              "<div>\n",
              "<style scoped>\n",
              "    .dataframe tbody tr th:only-of-type {\n",
              "        vertical-align: middle;\n",
              "    }\n",
              "\n",
              "    .dataframe tbody tr th {\n",
              "        vertical-align: top;\n",
              "    }\n",
              "\n",
              "    .dataframe thead th {\n",
              "        text-align: right;\n",
              "    }\n",
              "</style>\n",
              "<table border=\"1\" class=\"dataframe\">\n",
              "  <thead>\n",
              "    <tr style=\"text-align: right;\">\n",
              "      <th></th>\n",
              "      <th>Unnamed: 0</th>\n",
              "      <th>Number-transactions</th>\n",
              "      <th>Output-volume(BTC)</th>\n",
              "      <th>Market-price</th>\n",
              "      <th>Hash-rate</th>\n",
              "      <th>Cost-per-trans-USD</th>\n",
              "      <th>Mining-revenue-USD</th>\n",
              "      <th>Transaction-fees-BTC</th>\n",
              "      <th>month</th>\n",
              "    </tr>\n",
              "  </thead>\n",
              "  <tbody>\n",
              "    <tr>\n",
              "      <th>count</th>\n",
              "      <td>179.000000</td>\n",
              "      <td>179.000000</td>\n",
              "      <td>1.790000e+02</td>\n",
              "      <td>1.790000e+02</td>\n",
              "      <td>1.790000e+02</td>\n",
              "      <td>179.000000</td>\n",
              "      <td>1.790000e+02</td>\n",
              "      <td>179.000000</td>\n",
              "      <td>179.000000</td>\n",
              "    </tr>\n",
              "    <tr>\n",
              "      <th>mean</th>\n",
              "      <td>89.000000</td>\n",
              "      <td>268576.463687</td>\n",
              "      <td>6.354816e+06</td>\n",
              "      <td>6.923937e+06</td>\n",
              "      <td>6.354816e+06</td>\n",
              "      <td>27.223464</td>\n",
              "      <td>6.923937e+06</td>\n",
              "      <td>272.234637</td>\n",
              "      <td>7.363128</td>\n",
              "    </tr>\n",
              "    <tr>\n",
              "      <th>std</th>\n",
              "      <td>51.816986</td>\n",
              "      <td>45980.026930</td>\n",
              "      <td>1.773494e+06</td>\n",
              "      <td>2.589169e+06</td>\n",
              "      <td>1.773494e+06</td>\n",
              "      <td>9.977802</td>\n",
              "      <td>2.589169e+06</td>\n",
              "      <td>129.560800</td>\n",
              "      <td>1.701613</td>\n",
              "    </tr>\n",
              "    <tr>\n",
              "      <th>min</th>\n",
              "      <td>0.000000</td>\n",
              "      <td>131875.000000</td>\n",
              "      <td>3.347227e+06</td>\n",
              "      <td>2.720216e+06</td>\n",
              "      <td>3.347227e+06</td>\n",
              "      <td>9.000000</td>\n",
              "      <td>2.720216e+06</td>\n",
              "      <td>13.000000</td>\n",
              "      <td>4.000000</td>\n",
              "    </tr>\n",
              "    <tr>\n",
              "      <th>25%</th>\n",
              "      <td>44.500000</td>\n",
              "      <td>233401.500000</td>\n",
              "      <td>4.939624e+06</td>\n",
              "      <td>5.176342e+06</td>\n",
              "      <td>4.939624e+06</td>\n",
              "      <td>20.500000</td>\n",
              "      <td>5.176342e+06</td>\n",
              "      <td>164.500000</td>\n",
              "      <td>6.000000</td>\n",
              "    </tr>\n",
              "    <tr>\n",
              "      <th>50%</th>\n",
              "      <td>89.000000</td>\n",
              "      <td>267360.000000</td>\n",
              "      <td>6.094384e+06</td>\n",
              "      <td>6.147322e+06</td>\n",
              "      <td>6.094384e+06</td>\n",
              "      <td>26.000000</td>\n",
              "      <td>6.147322e+06</td>\n",
              "      <td>247.000000</td>\n",
              "      <td>7.000000</td>\n",
              "    </tr>\n",
              "    <tr>\n",
              "      <th>75%</th>\n",
              "      <td>133.500000</td>\n",
              "      <td>297181.000000</td>\n",
              "      <td>7.569349e+06</td>\n",
              "      <td>8.410238e+06</td>\n",
              "      <td>7.569349e+06</td>\n",
              "      <td>35.000000</td>\n",
              "      <td>8.410238e+06</td>\n",
              "      <td>371.500000</td>\n",
              "      <td>9.000000</td>\n",
              "    </tr>\n",
              "    <tr>\n",
              "      <th>max</th>\n",
              "      <td>178.000000</td>\n",
              "      <td>369098.000000</td>\n",
              "      <td>1.160111e+07</td>\n",
              "      <td>1.421711e+07</td>\n",
              "      <td>1.160111e+07</td>\n",
              "      <td>52.000000</td>\n",
              "      <td>1.421711e+07</td>\n",
              "      <td>668.000000</td>\n",
              "      <td>10.000000</td>\n",
              "    </tr>\n",
              "  </tbody>\n",
              "</table>\n",
              "</div>"
            ],
            "text/plain": [
              "       Unnamed: 0  Number-transactions  ...  Transaction-fees-BTC       month\n",
              "count  179.000000           179.000000  ...            179.000000  179.000000\n",
              "mean    89.000000        268576.463687  ...            272.234637    7.363128\n",
              "std     51.816986         45980.026930  ...            129.560800    1.701613\n",
              "min      0.000000        131875.000000  ...             13.000000    4.000000\n",
              "25%     44.500000        233401.500000  ...            164.500000    6.000000\n",
              "50%     89.000000        267360.000000  ...            247.000000    7.000000\n",
              "75%    133.500000        297181.000000  ...            371.500000    9.000000\n",
              "max    178.000000        369098.000000  ...            668.000000   10.000000\n",
              "\n",
              "[8 rows x 9 columns]"
            ]
          },
          "metadata": {
            "tags": []
          },
          "execution_count": 143
        }
      ]
    },
    {
      "cell_type": "code",
      "metadata": {
        "id": "kNlZ9WEf35NL",
        "colab_type": "code",
        "colab": {
          "base_uri": "https://localhost:8080/",
          "height": 293
        },
        "outputId": "9b08868c-0fda-43b9-daf4-b59549a79813"
      },
      "source": [
        "df.info()"
      ],
      "execution_count": 147,
      "outputs": [
        {
          "output_type": "stream",
          "text": [
            "<class 'pandas.core.frame.DataFrame'>\n",
            "RangeIndex: 179 entries, 0 to 178\n",
            "Data columns (total 10 columns):\n",
            "Unnamed: 0              179 non-null int64\n",
            "Date                    179 non-null object\n",
            "Number-transactions     179 non-null int64\n",
            "Output-volume(BTC)      179 non-null int64\n",
            "Market-price            179 non-null int64\n",
            "Hash-rate               179 non-null int64\n",
            "Cost-per-trans-USD      179 non-null int64\n",
            "Mining-revenue-USD      179 non-null int64\n",
            "Transaction-fees-BTC    179 non-null int64\n",
            "month                   179 non-null int64\n",
            "dtypes: int64(9), object(1)\n",
            "memory usage: 14.1+ KB\n"
          ],
          "name": "stdout"
        }
      ]
    },
    {
      "cell_type": "code",
      "metadata": {
        "id": "qgq2vC363u3-",
        "colab_type": "code",
        "colab": {
          "base_uri": "https://localhost:8080/",
          "height": 287
        },
        "outputId": "c8c43e3d-cc20-41a0-95af-eac106a24d96"
      },
      "source": [
        "df['Number-transactions'].plot.kde()"
      ],
      "execution_count": 148,
      "outputs": [
        {
          "output_type": "execute_result",
          "data": {
            "text/plain": [
              "<matplotlib.axes._subplots.AxesSubplot at 0x7fec25b11b70>"
            ]
          },
          "metadata": {
            "tags": []
          },
          "execution_count": 148
        },
        {
          "output_type": "display_data",
          "data": {
            "image/png": "[encoded data removed]",
            "text/plain": [
              "<Figure size 432x288 with 1 Axes>"
            ]
          },
          "metadata": {
            "tags": []
          }
        }
      ]
    },
    {
      "cell_type": "code",
      "metadata": {
        "id": "KbZwVj-r5CXa",
        "colab_type": "code",
        "colab": {
          "base_uri": "https://localhost:8080/",
          "height": 295
        },
        "outputId": "2f974d5f-bfdf-45dd-e7dc-ec484f2ac8d1"
      },
      "source": [
        "from scipy import stats #visualizar la distribución de probabilidades\n",
        "#sirve para comprender si la variable en estudio tiene una distirbución normal\n",
        "#necesaria para aplicar modelos paramétricos\n",
        "stats.probplot(df['Number-transactions'], plot=plt)\n",
        "plt.show()"
      ],
      "execution_count": 149,
      "outputs": [
        {
          "output_type": "display_data",
          "data": {
            "image/png": "[encoded data removed]",
            "text/plain": [
              "<Figure size 432x288 with 1 Axes>"
            ]
          },
          "metadata": {
            "tags": []
          }
        }
      ]
    },
    {
      "cell_type": "code",
      "metadata": {
        "id": "d_bbJ8bO5Iyf",
        "colab_type": "code",
        "colab": {}
      },
      "source": [
        "from sklearn.model_selection import train_test_split"
      ],
      "execution_count": 0,
      "outputs": []
    },
    {
      "cell_type": "code",
      "metadata": {
        "id": "RYAP15Zp5MD1",
        "colab_type": "code",
        "colab": {}
      },
      "source": [
        "test_size = 0.3 # 30% de la población (usualmente se elige entre un 30 y un 15% según la cantidad de registros)\n",
        "RANDOM_STATE = 42 #un valor aleatorio"
      ],
      "execution_count": 0,
      "outputs": []
    },
    {
      "cell_type": "code",
      "metadata": {
        "id": "sv91KFBF5VLx",
        "colab_type": "code",
        "colab": {}
      },
      "source": [
        "\n",
        "X = df.drop(columns=['Number-transactions','Date'])\n",
        "y = df[\"Number-transactions\"] #variable target]\n",
        "#X_names = pd.read_csv('https://raw.githubusercontent.com/plotly/datasets/master/Mining-BTC-180.csv')\n",
        "#X_names"
      ],
      "execution_count": 0,
      "outputs": []
    },
    {
      "cell_type": "code",
      "metadata": {
        "id": "Gg1Ecg-l5lNF",
        "colab_type": "code",
        "colab": {}
      },
      "source": [
        "X_train, X_test, y_train, y_test = train_test_split(X, y, test_size=test_size, random_state=RANDOM_STATE)"
      ],
      "execution_count": 0,
      "outputs": []
    },
    {
      "cell_type": "code",
      "metadata": {
        "id": "xgn3UwIp5pHf",
        "colab_type": "code",
        "colab": {}
      },
      "source": [
        "from sklearn.linear_model import LinearRegression #importamos el modelo a utilizar"
      ],
      "execution_count": 0,
      "outputs": []
    },
    {
      "cell_type": "code",
      "metadata": {
        "id": "ICn545id5wPK",
        "colab_type": "code",
        "colab": {}
      },
      "source": [
        "lr = LinearRegression()\n",
        "lr.fit(X_train, y_train)\n",
        "y_pred = lr.predict(X_test)"
      ],
      "execution_count": 0,
      "outputs": []
    },
    {
      "cell_type": "markdown",
      "metadata": {
        "id": "2iIaxofSE4ul",
        "colab_type": "text"
      },
      "source": [
        "##Compute the balanced accuracy\n",
        "---"
      ]
    },
    {
      "cell_type": "code",
      "metadata": {
        "id": "i3AUFX96FBAR",
        "colab_type": "code",
        "colab": {}
      },
      "source": [
        "from sklearn.metrics import balanced_accuracy_score"
      ],
      "execution_count": 0,
      "outputs": []
    },
    {
      "cell_type": "markdown",
      "metadata": {
        "id": "oDG6-WU4FUz6",
        "colab_type": "text"
      },
      "source": [
        "The balanced accuracy in binary and multiclass classification problems to deal with imbalanced datasets. It is defined as the average of recall obtained on each class.\n",
        "\n",
        "The best value is 1 and the worst value is 0 when adjusted=False."
      ]
    },
    {
      "cell_type": "code",
      "metadata": {
        "id": "y6IjUEDnM8s8",
        "colab_type": "code",
        "colab": {}
      },
      "source": [
        "caso_balanced_accuracy = [\n",
        "    {\"y_true\": 0,\"y_pred\": 0},\n",
        "    {\"y_true\": 1,\"y_pred\": 1},\n",
        "    {\"y_true\": 0,\"y_pred\": 0},\n",
        "    {\"y_true\": 0,\"y_pred\": 0},\n",
        "    {\"y_true\": 1,\"y_pred\": 0},\n",
        "    {\"y_true\": 0,\"y_pred\": 1}\n",
        "]\n"
      ],
      "execution_count": 0,
      "outputs": []
    },
    {
      "cell_type": "code",
      "metadata": {
        "id": "ZNGCeCEcNiyl",
        "colab_type": "code",
        "outputId": "d7073c85-aaa7-484f-8466-e7b5fb9fb2e2",
        "colab": {
          "base_uri": "https://localhost:8080/",
          "height": 206
        }
      },
      "source": [
        "df_balanced_accuracy = pd.DataFrame(caso_balanced_accuracy)\n",
        "df_balanced_accuracy.head()"
      ],
      "execution_count": 0,
      "outputs": [
        {
          "output_type": "execute_result",
          "data": {
            "text/html": [
              "<div>\n",
              "<style scoped>\n",
              "    .dataframe tbody tr th:only-of-type {\n",
              "        vertical-align: middle;\n",
              "    }\n",
              "\n",
              "    .dataframe tbody tr th {\n",
              "        vertical-align: top;\n",
              "    }\n",
              "\n",
              "    .dataframe thead th {\n",
              "        text-align: right;\n",
              "    }\n",
              "</style>\n",
              "<table border=\"1\" class=\"dataframe\">\n",
              "  <thead>\n",
              "    <tr style=\"text-align: right;\">\n",
              "      <th></th>\n",
              "      <th>y_pred</th>\n",
              "      <th>y_true</th>\n",
              "    </tr>\n",
              "  </thead>\n",
              "  <tbody>\n",
              "    <tr>\n",
              "      <th>0</th>\n",
              "      <td>0</td>\n",
              "      <td>0</td>\n",
              "    </tr>\n",
              "    <tr>\n",
              "      <th>1</th>\n",
              "      <td>1</td>\n",
              "      <td>1</td>\n",
              "    </tr>\n",
              "    <tr>\n",
              "      <th>2</th>\n",
              "      <td>0</td>\n",
              "      <td>0</td>\n",
              "    </tr>\n",
              "    <tr>\n",
              "      <th>3</th>\n",
              "      <td>0</td>\n",
              "      <td>0</td>\n",
              "    </tr>\n",
              "    <tr>\n",
              "      <th>4</th>\n",
              "      <td>0</td>\n",
              "      <td>1</td>\n",
              "    </tr>\n",
              "  </tbody>\n",
              "</table>\n",
              "</div>"
            ],
            "text/plain": [
              "   y_pred  y_true\n",
              "0       0       0\n",
              "1       1       1\n",
              "2       0       0\n",
              "3       0       0\n",
              "4       0       1"
            ]
          },
          "metadata": {
            "tags": []
          },
          "execution_count": 51
        }
      ]
    },
    {
      "cell_type": "code",
      "metadata": {
        "id": "LIb8B18RFFE4",
        "colab_type": "code",
        "outputId": "ab27379c-3be6-4e01-f9b2-4431a98bc962",
        "colab": {
          "base_uri": "https://localhost:8080/",
          "height": 36
        }
      },
      "source": [
        "balanced_accuracy_score(df_balanced_accuracy[\"y_true\"], df_balanced_accuracy[\"y_pred\"])"
      ],
      "execution_count": 0,
      "outputs": [
        {
          "output_type": "execute_result",
          "data": {
            "text/plain": [
              "0.625"
            ]
          },
          "metadata": {
            "tags": []
          },
          "execution_count": 52
        }
      ]
    },
    {
      "cell_type": "code",
      "metadata": {
        "id": "7_i_DGPAGlNW",
        "colab_type": "code",
        "colab": {
          "base_uri": "https://localhost:8080/",
          "height": 274
        },
        "outputId": "b55a539d-1977-465e-ab9f-50dec1c4635f"
      },
      "source": [
        "y_pred"
      ],
      "execution_count": 179,
      "outputs": [
        {
          "output_type": "execute_result",
          "data": {
            "text/plain": [
              "array([229372.16085808, 309650.2020637 , 270539.86474196, 232459.84241167,\n",
              "       247515.32623332, 295469.71960204, 281592.44468093, 333248.03593386,\n",
              "       272324.55242245, 267198.72943865, 296834.12199998, 270958.58798046,\n",
              "       310215.27214526, 241262.75916853, 255265.2415904 , 325205.9663319 ,\n",
              "       202326.13786635, 284412.65058679, 248113.51917667, 198563.23636316,\n",
              "       208304.69647113, 307986.59501698, 320074.00363437, 221322.84150594,\n",
              "       187998.14300862, 303720.15865877, 281925.31345544, 262983.84513776,\n",
              "       225145.97288656, 269951.35443343, 247944.50573633, 289862.46313905,\n",
              "       254050.68043168, 289371.91006517, 300498.5691708 , 195995.75745392,\n",
              "       223877.28716426, 327976.66114538, 298805.85188585, 279865.55329545,\n",
              "       296286.51945755, 178587.11224781, 237810.24572073, 246696.20505831,\n",
              "       307014.87253477, 232064.52062634, 256868.44689799, 161998.34259848,\n",
              "       181584.30487951, 300276.96205898, 283608.94228658, 141535.70601288,\n",
              "       218482.66677176, 273950.17560482])"
            ]
          },
          "metadata": {
            "tags": []
          },
          "execution_count": 179
        }
      ]
    }
  ]
}