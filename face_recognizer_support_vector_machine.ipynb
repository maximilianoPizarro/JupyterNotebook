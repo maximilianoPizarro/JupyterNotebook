{
  "nbformat": 4,
  "nbformat_minor": 0,
  "metadata": {
    "colab": {
      "name": "face-recognizer-support-vector-machine.ipynb",
      "version": "0.3.2",
      "provenance": [],
      "collapsed_sections": [],
      "include_colab_link": true
    },
    "kernelspec": {
      "name": "python3",
      "display_name": "Python 3"
    }
  },
  "cells": [
    {
      "cell_type": "markdown",
      "metadata": {
        "id": "view-in-github",
        "colab_type": "text"
      },
      "source": [
        "<a href=\"https://colab.research.google.com/github/maximilianoPizarro/Machine-Learning/blob/master/face_recognizer_support_vector_machine.ipynb\" target=\"_parent\"><img src=\"https://colab.research.google.com/assets/colab-badge.svg\" alt=\"Open In Colab\"/></a>"
      ]
    },
    {
      "cell_type": "markdown",
      "metadata": {
        "id": "axovIAKh1V7X",
        "colab_type": "text"
      },
      "source": [
        "#PROYECTO:  Reconocimiento facial usando eigenfaces y SVM\n"
      ]
    },
    {
      "cell_type": "markdown",
      "metadata": {
        "id": "m10fDagt1eN3",
        "colab_type": "text"
      },
      "source": [
        "**Descripción del proyecto:** En este proyecto vamos a usar el dataset de  rostros de sklearn \"Label Faces in the Wild\"\n",
        "[Dataset implementado](http://vis-www.cs.umass.edu/lfw/lfw-funneled.tgz) (233MB) \n",
        "\n",
        "[Funte Sklearn](https://scikit-learn.org/stable/auto_examples/applications/plot_face_recognition.html#sphx-glr-auto-examples-applications-plot-face-recognition-py)\n",
        "\n",
        "\n"
      ]
    },
    {
      "cell_type": "markdown",
      "metadata": {
        "id": "0fhaQrLl2SMP",
        "colab_type": "text"
      },
      "source": [
        "**Indice:**\n",
        "\n",
        "\n",
        "0.   [Preparando el entorno](#section0)\n",
        "1.  [Entendimiento del negocio](#section1)\n",
        "2.  [Entendimiento de los datos](#section2)\n",
        "3.  [Modelado](#section3)\n",
        "4.  [Preparación de los datos](#section4)\n",
        "5.  [Implementación](#section5)\n",
        "6.  [Evaluación](#section6)\n",
        "7.  [Presentación](#section7)\n",
        "\n",
        "\n"
      ]
    },
    {
      "cell_type": "markdown",
      "metadata": {
        "id": "DEJtJzGWrmNk",
        "colab_type": "text"
      },
      "source": [
        "###0) Preparando el entorno\n",
        "\n"
      ]
    },
    {
      "cell_type": "markdown",
      "metadata": {
        "id": "vY9vHRRM9OEd",
        "colab_type": "text"
      },
      "source": [
        "Pasos de control\n",
        "\n",
        "**0.**   Controlar que el entorno este configurado con python 3 (menu -> Entorno de ejecución -> Cambiar tipo de entorno de Ejecución)<br/>\n",
        "**1.**   Instalar las librerias necesarias (haciendo uso de ! y apt-get o pip)<br/>\n",
        "**2.**   Importar modulos <br/>\n",
        "**3.**   Cargar al servidor la base de datos<br/>"
      ]
    },
    {
      "cell_type": "code",
      "metadata": {
        "id": "wtMR8noY6WhP",
        "colab_type": "code",
        "colab": {}
      },
      "source": [
        "#1 Instalar librerias"
      ],
      "execution_count": 0,
      "outputs": []
    },
    {
      "cell_type": "code",
      "metadata": {
        "id": "P3SL8jNu6gUm",
        "colab_type": "code",
        "colab": {}
      },
      "source": [
        "#2 importar librerias\n",
        "from __future__ import print_function\n",
        "\n",
        "from time import time\n",
        "import logging\n",
        "import matplotlib.pyplot as plt\n",
        "import pandas as pd #libreria para trabajar matrices de datos\n",
        "import numpy as np\n",
        "\n",
        "\n",
        "from sklearn.datasets import fetch_lfw_people\n",
        "\n"
      ],
      "execution_count": 0,
      "outputs": []
    },
    {
      "cell_type": "code",
      "metadata": {
        "id": "pLyRQq_FcuSp",
        "colab_type": "code",
        "colab": {
          "base_uri": "https://localhost:8080/",
          "height": 92
        },
        "outputId": "469a2adc-7c83-4a6a-cd86-7bbc321d2b14"
      },
      "source": [
        "#3 Descargar la bd\n",
        "lfw_people = fetch_lfw_people(min_faces_per_person=70, resize=0.4)"
      ],
      "execution_count": 2,
      "outputs": [
        {
          "output_type": "stream",
          "text": [
            "Downloading LFW metadata: https://ndownloader.figshare.com/files/5976012\n",
            "Downloading LFW metadata: https://ndownloader.figshare.com/files/5976009\n",
            "Downloading LFW metadata: https://ndownloader.figshare.com/files/5976006\n",
            "Downloading LFW data (~200MB): https://ndownloader.figshare.com/files/5976015\n"
          ],
          "name": "stderr"
        }
      ]
    },
    {
      "cell_type": "markdown",
      "metadata": {
        "id": "mH-dn8Q7i8Is",
        "colab_type": "text"
      },
      "source": [
        "###1) Entendimiento del Negocio"
      ]
    },
    {
      "cell_type": "code",
      "metadata": {
        "id": "dRaBXLZqEzON",
        "colab_type": "code",
        "colab": {}
      },
      "source": [
        "n_samples, h, w = lfw_people.images.shape #sirve la divicion para hacer el plotting"
      ],
      "execution_count": 0,
      "outputs": []
    },
    {
      "cell_type": "markdown",
      "metadata": {
        "id": "NiPe25Iki8Is",
        "colab_type": "text"
      },
      "source": [
        "Se filtraran del dataset 70 rostros y se realizara \n",
        "su prediccion utilizando los algoritmos e eigenfaces y sopport-vector-machine"
      ]
    },
    {
      "cell_type": "code",
      "metadata": {
        "id": "VddbHQFvi8It",
        "colab_type": "code",
        "colab": {
          "base_uri": "https://localhost:8080/",
          "height": 2396
        },
        "outputId": "33fbbc5e-0eef-4580-d71e-0e4dc77e7eb1"
      },
      "source": [
        "print(lfw_people.DESCR) #descripcion del dataset"
      ],
      "execution_count": 9,
      "outputs": [
        {
          "output_type": "stream",
          "text": [
            ".. _labeled_faces_in_the_wild_dataset:\n",
            "\n",
            "The Labeled Faces in the Wild face recognition dataset\n",
            "------------------------------------------------------\n",
            "\n",
            "This dataset is a collection of JPEG pictures of famous people collected\n",
            "over the internet, all details are available on the official website:\n",
            "\n",
            "    http://vis-www.cs.umass.edu/lfw/\n",
            "\n",
            "Each picture is centered on a single face. The typical task is called\n",
            "Face Verification: given a pair of two pictures, a binary classifier\n",
            "must predict whether the two images are from the same person.\n",
            "\n",
            "An alternative task, Face Recognition or Face Identification is:\n",
            "given the picture of the face of an unknown person, identify the name\n",
            "of the person by referring to a gallery of previously seen pictures of\n",
            "identified persons.\n",
            "\n",
            "Both Face Verification and Face Recognition are tasks that are typically\n",
            "performed on the output of a model trained to perform Face Detection. The\n",
            "most popular model for Face Detection is called Viola-Jones and is\n",
            "implemented in the OpenCV library. The LFW faces were extracted by this\n",
            "face detector from various online websites.\n",
            "\n",
            "**Data Set Characteristics:**\n",
            "\n",
            "    =================   =======================\n",
            "    Classes                                5749\n",
            "    Samples total                         13233\n",
            "    Dimensionality                         5828\n",
            "    Features            real, between 0 and 255\n",
            "    =================   =======================\n",
            "\n",
            "Usage\n",
            "~~~~~\n",
            "\n",
            "``scikit-learn`` provides two loaders that will automatically download,\n",
            "cache, parse the metadata files, decode the jpeg and convert the\n",
            "interesting slices into memmapped numpy arrays. This dataset size is more\n",
            "than 200 MB. The first load typically takes more than a couple of minutes\n",
            "to fully decode the relevant part of the JPEG files into numpy arrays. If\n",
            "the dataset has  been loaded once, the following times the loading times\n",
            "less than 200ms by using a memmapped version memoized on the disk in the\n",
            "``~/scikit_learn_data/lfw_home/`` folder using ``joblib``.\n",
            "\n",
            "The first loader is used for the Face Identification task: a multi-class\n",
            "classification task (hence supervised learning)::\n",
            "\n",
            "  >>> from sklearn.datasets import fetch_lfw_people\n",
            "  >>> lfw_people = fetch_lfw_people(min_faces_per_person=70, resize=0.4)\n",
            "\n",
            "  >>> for name in lfw_people.target_names:\n",
            "  ...     print(name)\n",
            "  ...\n",
            "  Ariel Sharon\n",
            "  Colin Powell\n",
            "  Donald Rumsfeld\n",
            "  George W Bush\n",
            "  Gerhard Schroeder\n",
            "  Hugo Chavez\n",
            "  Tony Blair\n",
            "\n",
            "The default slice is a rectangular shape around the face, removing\n",
            "most of the background::\n",
            "\n",
            "  >>> lfw_people.data.dtype\n",
            "  dtype('float32')\n",
            "\n",
            "  >>> lfw_people.data.shape\n",
            "  (1288, 1850)\n",
            "\n",
            "  >>> lfw_people.images.shape\n",
            "  (1288, 50, 37)\n",
            "\n",
            "Each of the ``1140`` faces is assigned to a single person id in the ``target``\n",
            "array::\n",
            "\n",
            "  >>> lfw_people.target.shape\n",
            "  (1288,)\n",
            "\n",
            "  >>> list(lfw_people.target[:10])\n",
            "  [5, 6, 3, 1, 0, 1, 3, 4, 3, 0]\n",
            "\n",
            "The second loader is typically used for the face verification task: each sample\n",
            "is a pair of two picture belonging or not to the same person::\n",
            "\n",
            "  >>> from sklearn.datasets import fetch_lfw_pairs\n",
            "  >>> lfw_pairs_train = fetch_lfw_pairs(subset='train')\n",
            "\n",
            "  >>> list(lfw_pairs_train.target_names)\n",
            "  ['Different persons', 'Same person']\n",
            "\n",
            "  >>> lfw_pairs_train.pairs.shape\n",
            "  (2200, 2, 62, 47)\n",
            "\n",
            "  >>> lfw_pairs_train.data.shape\n",
            "  (2200, 5828)\n",
            "\n",
            "  >>> lfw_pairs_train.target.shape\n",
            "  (2200,)\n",
            "\n",
            "Both for the :func:`sklearn.datasets.fetch_lfw_people` and\n",
            ":func:`sklearn.datasets.fetch_lfw_pairs` function it is\n",
            "possible to get an additional dimension with the RGB color channels by\n",
            "passing ``color=True``, in that case the shape will be\n",
            "``(2200, 2, 62, 47, 3)``.\n",
            "\n",
            "The :func:`sklearn.datasets.fetch_lfw_pairs` datasets is subdivided into\n",
            "3 subsets: the development ``train`` set, the development ``test`` set and\n",
            "an evaluation ``10_folds`` set meant to compute performance metrics using a\n",
            "10-folds cross validation scheme.\n",
            "\n",
            ".. topic:: References:\n",
            "\n",
            " * `Labeled Faces in the Wild: A Database for Studying Face Recognition\n",
            "   in Unconstrained Environments.\n",
            "   <http://vis-www.cs.umass.edu/lfw/lfw.pdf>`_\n",
            "   Gary B. Huang, Manu Ramesh, Tamara Berg, and Erik Learned-Miller.\n",
            "   University of Massachusetts, Amherst, Technical Report 07-49, October, 2007.\n",
            "\n",
            "\n",
            "Examples\n",
            "~~~~~~~~\n",
            "\n",
            ":ref:`sphx_glr_auto_examples_applications_plot_face_recognition.py`\n",
            "\n"
          ],
          "name": "stdout"
        }
      ]
    },
    {
      "cell_type": "markdown",
      "metadata": {
        "id": "_9odMpG9i8Iv",
        "colab_type": "text"
      },
      "source": [
        "###2) Entendimiento de los Datos\n",
        "\n"
      ]
    },
    {
      "cell_type": "code",
      "metadata": {
        "id": "-M6lAD-Qqb7J",
        "colab_type": "code",
        "colab": {
          "base_uri": "https://localhost:8080/",
          "height": 1948
        },
        "outputId": "f3fcbb1d-8bd7-4ba5-d43c-6e7305bacbb1"
      },
      "source": [
        "lfw_people #descripcion de los datos"
      ],
      "execution_count": 11,
      "outputs": [
        {
          "output_type": "execute_result",
          "data": {
            "text/plain": [
              "{'DESCR': \".. _labeled_faces_in_the_wild_dataset:\\n\\nThe Labeled Faces in the Wild face recognition dataset\\n------------------------------------------------------\\n\\nThis dataset is a collection of JPEG pictures of famous people collected\\nover the internet, all details are available on the official website:\\n\\n    http://vis-www.cs.umass.edu/lfw/\\n\\nEach picture is centered on a single face. The typical task is called\\nFace Verification: given a pair of two pictures, a binary classifier\\nmust predict whether the two images are from the same person.\\n\\nAn alternative task, Face Recognition or Face Identification is:\\ngiven the picture of the face of an unknown person, identify the name\\nof the person by referring to a gallery of previously seen pictures of\\nidentified persons.\\n\\nBoth Face Verification and Face Recognition are tasks that are typically\\nperformed on the output of a model trained to perform Face Detection. The\\nmost popular model for Face Detection is called Viola-Jones and is\\nimplemented in the OpenCV library. The LFW faces were extracted by this\\nface detector from various online websites.\\n\\n**Data Set Characteristics:**\\n\\n    =================   =======================\\n    Classes                                5749\\n    Samples total                         13233\\n    Dimensionality                         5828\\n    Features            real, between 0 and 255\\n    =================   =======================\\n\\nUsage\\n~~~~~\\n\\n``scikit-learn`` provides two loaders that will automatically download,\\ncache, parse the metadata files, decode the jpeg and convert the\\ninteresting slices into memmapped numpy arrays. This dataset size is more\\nthan 200 MB. The first load typically takes more than a couple of minutes\\nto fully decode the relevant part of the JPEG files into numpy arrays. If\\nthe dataset has  been loaded once, the following times the loading times\\nless than 200ms by using a memmapped version memoized on the disk in the\\n``~/scikit_learn_data/lfw_home/`` folder using ``joblib``.\\n\\nThe first loader is used for the Face Identification task: a multi-class\\nclassification task (hence supervised learning)::\\n\\n  >>> from sklearn.datasets import fetch_lfw_people\\n  >>> lfw_people = fetch_lfw_people(min_faces_per_person=70, resize=0.4)\\n\\n  >>> for name in lfw_people.target_names:\\n  ...     print(name)\\n  ...\\n  Ariel Sharon\\n  Colin Powell\\n  Donald Rumsfeld\\n  George W Bush\\n  Gerhard Schroeder\\n  Hugo Chavez\\n  Tony Blair\\n\\nThe default slice is a rectangular shape around the face, removing\\nmost of the background::\\n\\n  >>> lfw_people.data.dtype\\n  dtype('float32')\\n\\n  >>> lfw_people.data.shape\\n  (1288, 1850)\\n\\n  >>> lfw_people.images.shape\\n  (1288, 50, 37)\\n\\nEach of the ``1140`` faces is assigned to a single person id in the ``target``\\narray::\\n\\n  >>> lfw_people.target.shape\\n  (1288,)\\n\\n  >>> list(lfw_people.target[:10])\\n  [5, 6, 3, 1, 0, 1, 3, 4, 3, 0]\\n\\nThe second loader is typically used for the face verification task: each sample\\nis a pair of two picture belonging or not to the same person::\\n\\n  >>> from sklearn.datasets import fetch_lfw_pairs\\n  >>> lfw_pairs_train = fetch_lfw_pairs(subset='train')\\n\\n  >>> list(lfw_pairs_train.target_names)\\n  ['Different persons', 'Same person']\\n\\n  >>> lfw_pairs_train.pairs.shape\\n  (2200, 2, 62, 47)\\n\\n  >>> lfw_pairs_train.data.shape\\n  (2200, 5828)\\n\\n  >>> lfw_pairs_train.target.shape\\n  (2200,)\\n\\nBoth for the :func:`sklearn.datasets.fetch_lfw_people` and\\n:func:`sklearn.datasets.fetch_lfw_pairs` function it is\\npossible to get an additional dimension with the RGB color channels by\\npassing ``color=True``, in that case the shape will be\\n``(2200, 2, 62, 47, 3)``.\\n\\nThe :func:`sklearn.datasets.fetch_lfw_pairs` datasets is subdivided into\\n3 subsets: the development ``train`` set, the development ``test`` set and\\nan evaluation ``10_folds`` set meant to compute performance metrics using a\\n10-folds cross validation scheme.\\n\\n.. topic:: References:\\n\\n * `Labeled Faces in the Wild: A Database for Studying Face Recognition\\n   in Unconstrained Environments.\\n   <http://vis-www.cs.umass.edu/lfw/lfw.pdf>`_\\n   Gary B. Huang, Manu Ramesh, Tamara Berg, and Erik Learned-Miller.\\n   University of Massachusetts, Amherst, Technical Report 07-49, October, 2007.\\n\\n\\nExamples\\n~~~~~~~~\\n\\n:ref:`sphx_glr_auto_examples_applications_plot_face_recognition.py`\\n\",\n",
              " 'data': array([[254.      , 254.      , 251.66667 , ...,  87.333336,  88.666664,\n",
              "          86.666664],\n",
              "        [ 39.666668,  50.333332,  47.      , ..., 117.666664, 115.      ,\n",
              "         133.66667 ],\n",
              "        [ 89.333336, 104.      , 126.      , ..., 175.33333 , 183.33333 ,\n",
              "         183.      ],\n",
              "        ...,\n",
              "        [ 86.      ,  80.333336,  74.666664, ...,  44.      ,  49.666668,\n",
              "          44.666668],\n",
              "        [ 50.333332,  65.666664,  88.      , ..., 197.      , 179.33333 ,\n",
              "         166.33333 ],\n",
              "        [ 30.      ,  27.      ,  32.666668, ...,  35.      ,  35.333332,\n",
              "          61.      ]], dtype=float32),\n",
              " 'images': array([[[254.      , 254.      , 251.66667 , ...,  65.333336,\n",
              "           50.666668,  40.333332],\n",
              "         [253.33333 , 251.33333 , 247.33333 , ...,  66.666664,\n",
              "           52.      ,  42.666668],\n",
              "         [240.66667 , 231.66667 , 211.66667 , ...,  62.      ,\n",
              "           49.      ,  42.      ],\n",
              "         ...,\n",
              "         [ 74.333336,  54.      ,  31.666666, ...,  97.666664,\n",
              "           93.      ,  90.      ],\n",
              "         [ 65.333336,  47.      ,  30.333334, ...,  91.666664,\n",
              "           92.      ,  86.333336],\n",
              "         [ 59.333332,  44.333332,  32.333332, ...,  87.333336,\n",
              "           88.666664,  86.666664]],\n",
              " \n",
              "        [[ 39.666668,  50.333332,  47.      , ...,  61.333332,\n",
              "           51.      ,  38.666668],\n",
              "         [ 47.666668,  63.      ,  65.333336, ...,  57.666668,\n",
              "           55.      ,  44.666668],\n",
              "         [ 55.333332,  76.666664,  86.333336, ...,  71.      ,\n",
              "           48.333332,  43.666668],\n",
              "         ...,\n",
              "         [ 73.666664,  75.666664,  75.333336, ..., 125.666664,\n",
              "          119.666664, 115.333336],\n",
              "         [ 75.333336,  76.333336,  77.      , ..., 124.      ,\n",
              "          116.      , 116.333336],\n",
              "         [ 77.333336,  76.333336,  75.666664, ..., 117.666664,\n",
              "          115.      , 133.66667 ]],\n",
              " \n",
              "        [[ 89.333336, 104.      , 126.      , ..., 150.      ,\n",
              "          150.33333 , 149.      ],\n",
              "         [100.      , 128.      , 143.66667 , ..., 159.33333 ,\n",
              "          151.33333 , 147.33333 ],\n",
              "         [123.666664, 142.66667 , 146.66667 , ..., 161.      ,\n",
              "          152.66667 , 147.33333 ],\n",
              "         ...,\n",
              "         [ 75.666664,  73.666664,  74.      , ..., 123.      ,\n",
              "          168.66667 , 179.      ],\n",
              "         [ 73.      ,  68.666664,  69.333336, ..., 150.      ,\n",
              "          182.      , 181.33333 ],\n",
              "         [ 78.666664,  66.      ,  65.666664, ..., 175.33333 ,\n",
              "          183.33333 , 183.      ]],\n",
              " \n",
              "        ...,\n",
              " \n",
              "        [[ 86.      ,  80.333336,  74.666664, ...,  35.      ,\n",
              "           35.      ,  39.333332],\n",
              "         [ 84.666664,  75.      ,  79.666664, ...,  37.      ,\n",
              "           35.      ,  37.      ],\n",
              "         [ 71.666664,  65.666664,  94.666664, ...,  41.333332,\n",
              "           37.      ,  36.666668],\n",
              "         ...,\n",
              "         [ 92.      ,  88.333336,  87.333336, ...,  66.666664,\n",
              "           79.333336,  94.      ],\n",
              "         [ 86.333336,  86.      ,  88.666664, ...,  46.666668,\n",
              "           58.666668,  64.333336],\n",
              "         [ 77.333336,  78.666664,  81.333336, ...,  44.      ,\n",
              "           49.666668,  44.666668]],\n",
              " \n",
              "        [[ 50.333332,  65.666664,  88.      , ..., 159.      ,\n",
              "          158.66667 , 152.      ],\n",
              "         [ 59.666668,  83.      ,  99.333336, ..., 157.66667 ,\n",
              "          150.66667 , 149.66667 ],\n",
              "         [ 62.      ,  90.666664,  94.333336, ..., 157.33333 ,\n",
              "          145.      , 144.      ],\n",
              "         ...,\n",
              "         [ 59.666668,  60.666668,  62.      , ..., 151.66667 ,\n",
              "          166.66667 , 164.66667 ],\n",
              "         [ 60.333332,  61.333332,  63.      , ..., 187.33333 ,\n",
              "          176.33333 , 167.      ],\n",
              "         [ 61.333332,  61.333332,  62.333332, ..., 197.      ,\n",
              "          179.33333 , 166.33333 ]],\n",
              " \n",
              "        [[ 30.      ,  27.      ,  32.666668, ...,  89.666664,\n",
              "           53.333332,  46.666668],\n",
              "         [ 31.333334,  32.      ,  37.333332, ..., 104.      ,\n",
              "           56.333332,  42.666668],\n",
              "         [ 33.666668,  33.666668,  39.      , ..., 122.666664,\n",
              "           71.333336,  52.      ],\n",
              "         ...,\n",
              "         [ 45.666668,  44.      ,  43.333332, ...,  23.333334,\n",
              "           20.      ,  34.333332],\n",
              "         [ 42.333332,  42.      ,  44.333332, ...,  24.333334,\n",
              "           27.      ,  44.      ],\n",
              "         [ 45.666668,  49.333332,  51.333332, ...,  35.      ,\n",
              "           35.333332,  61.      ]]], dtype=float32),\n",
              " 'target': array([5, 6, 3, ..., 5, 3, 5]),\n",
              " 'target_names': array(['Ariel Sharon', 'Colin Powell', 'Donald Rumsfeld', 'George W Bush',\n",
              "        'Gerhard Schroeder', 'Hugo Chavez', 'Tony Blair'], dtype='<U17')}"
            ]
          },
          "metadata": {
            "tags": []
          },
          "execution_count": 11
        }
      ]
    },
    {
      "cell_type": "code",
      "metadata": {
        "id": "193fQDpJqRbT",
        "colab_type": "code",
        "colab": {
          "base_uri": "https://localhost:8080/",
          "height": 148
        },
        "outputId": "e1b33019-146c-42f3-973b-16bf77dc9ef2"
      },
      "source": [
        "#A quien pertenecen los rostros del dataset \n",
        "for name in lfw_people.target_names:\n",
        "        print(name)"
      ],
      "execution_count": 12,
      "outputs": [
        {
          "output_type": "stream",
          "text": [
            "Ariel Sharon\n",
            "Colin Powell\n",
            "Donald Rumsfeld\n",
            "George W Bush\n",
            "Gerhard Schroeder\n",
            "Hugo Chavez\n",
            "Tony Blair\n"
          ],
          "name": "stdout"
        }
      ]
    },
    {
      "cell_type": "code",
      "metadata": {
        "id": "gY0VAz-urB8Z",
        "colab_type": "code",
        "colab": {}
      },
      "source": [
        "#Dividimos el dataset segun la variable target\n",
        "# for machine learning we use the 2 data directly (as relative pixel\n",
        "# positions info is ignored by this model)\n",
        "X = lfw_people.data\n",
        "n_features = X.shape[1]\n",
        "\n",
        "# the label to predict is the id of the person\n",
        "y = lfw_people.target\n",
        "target_names = lfw_people.target_names\n",
        "n_classes = target_names.shape[0]\n"
      ],
      "execution_count": 0,
      "outputs": []
    },
    {
      "cell_type": "markdown",
      "metadata": {
        "id": "oHl6Zqp5s38_",
        "colab_type": "text"
      },
      "source": [
        "**Recordamos que la distirbución de la variable target no tenia una distribución normal**"
      ]
    },
    {
      "cell_type": "code",
      "metadata": {
        "id": "wbC61xv1i8I-",
        "colab_type": "code",
        "colab": {
          "base_uri": "https://localhost:8080/",
          "height": 92
        },
        "outputId": "aaae3349-33a8-4e1b-bd98-9d69de341d69"
      },
      "source": [
        "print(\"Total dataset size:\")\n",
        "print(\"n_samples: %d\" % n_samples)\n",
        "print(\"n_features: %d\" % n_features)\n",
        "print(\"n_classes: %d\" % n_classes)\n"
      ],
      "execution_count": 16,
      "outputs": [
        {
          "output_type": "stream",
          "text": [
            "Total dataset size:\n",
            "n_samples: 1288\n",
            "n_features: 1850\n",
            "n_classes: 7\n"
          ],
          "name": "stdout"
        }
      ]
    },
    {
      "cell_type": "code",
      "metadata": {
        "id": "-wrdeydLJIzZ",
        "colab_type": "code",
        "colab": {}
      },
      "source": [
        " df=pd.DataFrame(y)"
      ],
      "execution_count": 0,
      "outputs": []
    },
    {
      "cell_type": "code",
      "metadata": {
        "id": "SkOgpH1UKxJi",
        "colab_type": "code",
        "colab": {
          "base_uri": "https://localhost:8080/",
          "height": 288
        },
        "outputId": "e2d9bb26-b2e8-43a2-ec21-61577913c7b8"
      },
      "source": [
        "df.plot()"
      ],
      "execution_count": 32,
      "outputs": [
        {
          "output_type": "execute_result",
          "data": {
            "text/plain": [
              "<matplotlib.axes._subplots.AxesSubplot at 0x7f303f571470>"
            ]
          },
          "metadata": {
            "tags": []
          },
          "execution_count": 32
        },
        {
          "output_type": "display_data",
          "data": {
            "image/png": "[encoded data removed]",
            "text/plain": [
              "<Figure size 432x288 with 1 Axes>"
            ]
          },
          "metadata": {
            "tags": []
          }
        }
      ]
    },
    {
      "cell_type": "code",
      "metadata": {
        "id": "9L4PZHsqi8JB",
        "colab_type": "code",
        "colab": {
          "base_uri": "https://localhost:8080/",
          "height": 295
        },
        "outputId": "2af50636-b05b-48e2-d1ac-72ba2dec431b"
      },
      "source": [
        "from scipy import stats #visualizar la distribución de probabilidades\n",
        "#sirve para comprender si la variable en estudio tiene una distirbución normal\n",
        "#necesaria para aplicar modelos paramétricos\n",
        "stats.probplot(y, plot=plt)\n",
        "plt.show()\n"
      ],
      "execution_count": 33,
      "outputs": [
        {
          "output_type": "display_data",
          "data": {
            "image/png": "[encoded data removed]",
            "text/plain": [
              "<Figure size 432x288 with 1 Axes>"
            ]
          },
          "metadata": {
            "tags": []
          }
        }
      ]
    },
    {
      "cell_type": "markdown",
      "metadata": {
        "id": "i_c0orX0i8JJ",
        "colab_type": "text"
      },
      "source": [
        "Veremos en la etapa de preparación de los datos como corregir este problema.\n"
      ]
    },
    {
      "cell_type": "markdown",
      "metadata": {
        "id": "yAWdpRm9i8Ja",
        "colab_type": "text"
      },
      "source": [
        "### 3) Modelado"
      ]
    },
    {
      "cell_type": "markdown",
      "metadata": {
        "id": "GWS8X6w6i8Jc",
        "colab_type": "text"
      },
      "source": [
        "\n",
        "Usaremos modelo de clasificacion  SVM de sklearn"
      ]
    },
    {
      "cell_type": "markdown",
      "metadata": {
        "id": "wJSVC6t8i8Jd",
        "colab_type": "text"
      },
      "source": [
        "\n",
        "\n",
        "---\n",
        "\n",
        "***Nota:**  Veamos que nos ofrece la libreria a utilizar para clasificacion (https://scikit-learn.org/stable/modules/generated/sklearn.datasets.make_classification.html)"
      ]
    },
    {
      "cell_type": "markdown",
      "metadata": {
        "id": "BnNqQiR7i8Je",
        "colab_type": "text"
      },
      "source": [
        "###4) Preparación de los datos"
      ]
    },
    {
      "cell_type": "markdown",
      "metadata": {
        "id": "1Ozq0Rvwi8Je",
        "colab_type": "text"
      },
      "source": [
        "En esta etapa preparaemos el dataset\n",
        "\n"
      ]
    },
    {
      "cell_type": "markdown",
      "metadata": {
        "id": "Xez9IswEuYLV",
        "colab_type": "text"
      },
      "source": [
        "4.1) Split Dataset"
      ]
    },
    {
      "cell_type": "code",
      "metadata": {
        "id": "50pMsuF3i8Jg",
        "colab_type": "code",
        "colab": {}
      },
      "source": [
        "from sklearn.model_selection import train_test_split"
      ],
      "execution_count": 0,
      "outputs": []
    },
    {
      "cell_type": "markdown",
      "metadata": {
        "id": "MQbF3IIju6t5",
        "colab_type": "text"
      },
      "source": [
        "debemos definir 2 elementos:\n",
        "1.   El porcentaje de registros que utilizaremos para testear\n",
        "2.   Un valor aleatorio fijo para mantener la reproducción del experimento\n",
        "\n"
      ]
    },
    {
      "cell_type": "code",
      "metadata": {
        "id": "rBzFIXNIvIdo",
        "colab_type": "code",
        "colab": {}
      },
      "source": [
        "test_size = 0.25 # 30% de la población (usualmente se elige entre un 30 y un 15% según la cantidad de registros)\n",
        "RANDOM_STATE = 42 #un valor aleatorio"
      ],
      "execution_count": 0,
      "outputs": []
    },
    {
      "cell_type": "code",
      "metadata": {
        "id": "bcIfzzOduyVh",
        "colab_type": "code",
        "colab": {}
      },
      "source": [
        "#por motivos de comparación tendremos separadas en 2 bds sin modificar\n",
        "#raw\n",
        "X_train, X_test, y_train, y_test = train_test_split(X, y, test_size=test_size, random_state=RANDOM_STATE)\n",
        "\n"
      ],
      "execution_count": 0,
      "outputs": []
    },
    {
      "cell_type": "code",
      "metadata": {
        "id": "Ow9tTRTlvqTS",
        "colab_type": "code",
        "colab": {
          "base_uri": "https://localhost:8080/",
          "height": 36
        },
        "outputId": "61beafee-3b21-4908-9620-f168414d3fe5"
      },
      "source": [
        "print(\"train: {} vs test {}\".format(len(X_train), len(X_test)))"
      ],
      "execution_count": 36,
      "outputs": [
        {
          "output_type": "stream",
          "text": [
            "train: 966 vs test 322\n"
          ],
          "name": "stdout"
        }
      ]
    },
    {
      "cell_type": "code",
      "metadata": {
        "id": "XdvWKrMiLDv9",
        "colab_type": "code",
        "colab": {}
      },
      "source": [
        ""
      ],
      "execution_count": 0,
      "outputs": []
    },
    {
      "cell_type": "markdown",
      "metadata": {
        "id": "cBvJEdLOi8Ji",
        "colab_type": "text"
      },
      "source": [
        "###5) Implementación"
      ]
    },
    {
      "cell_type": "markdown",
      "metadata": {
        "id": "nIFk2yRRyIQe",
        "colab_type": "text"
      },
      "source": [
        "5.1) Modelo *Eigenfaces*"
      ]
    },
    {
      "cell_type": "code",
      "metadata": {
        "id": "V5K3wc4Wi8Ji",
        "colab_type": "code",
        "colab": {}
      },
      "source": [
        "from sklearn.decomposition import PCA"
      ],
      "execution_count": 0,
      "outputs": []
    },
    {
      "cell_type": "code",
      "metadata": {
        "id": "FSY41nmYMgFJ",
        "colab_type": "code",
        "colab": {
          "base_uri": "https://localhost:8080/",
          "height": 92
        },
        "outputId": "841e71a4-6aaf-40a9-fe54-dc2522e32ff5"
      },
      "source": [
        "# #############################################################################\n",
        "# Entrenando con PCA\n",
        "# extraccion no supervisada mediante PCA(sin tener en cuenta los labels del dataset)\n",
        "n_components = 150\n",
        "\n",
        "print(\"Extrayendo la parte superior %d eigenfaces de %d rostros\"\n",
        "      % (n_components, X_train.shape[0]))\n",
        "t0 = time()\n",
        "pca = PCA(n_components=n_components, svd_solver='randomized',whiten=True).fit(X_train)\n",
        "print(\"Terminado en %0.3fs\" % (time() - t0))\n",
        "\n",
        "eigenfaces = pca.components_.reshape((n_components, h, w))\n",
        "\n",
        "print(\"Proyectando los datos de entrada de eigenfaces en conjunto de vectores basico(ortonormal)\")\n",
        "t0 = time()\n",
        "X_train_pca = pca.transform(X_train)\n",
        "X_test_pca = pca.transform(X_test)\n",
        "print(\"Terminado en in %0.3fs\" % (time() - t0))"
      ],
      "execution_count": 38,
      "outputs": [
        {
          "output_type": "stream",
          "text": [
            "Extrayendo la parte superior 150 eigenfaces de 966 rostros\n",
            "Terminado en 0.388s\n",
            "Proyectando los datos den entrada de eigenfaces en conjunto de vectores basico(ortonormal)\n",
            "terminado en in 0.052s\n"
          ],
          "name": "stdout"
        }
      ]
    },
    {
      "cell_type": "markdown",
      "metadata": {
        "id": "p_eTMHx6xE1A",
        "colab_type": "text"
      },
      "source": [
        "5.2) Modelo *SVM*"
      ]
    },
    {
      "cell_type": "code",
      "metadata": {
        "id": "TbONTZTcRq0a",
        "colab_type": "code",
        "colab": {}
      },
      "source": [
        "from sklearn.svm import SVC\n",
        "from sklearn.model_selection import GridSearchCV\n"
      ],
      "execution_count": 0,
      "outputs": []
    },
    {
      "cell_type": "code",
      "metadata": {
        "id": "pfYHvXWmi8Jl",
        "colab_type": "code",
        "colab": {
          "base_uri": "https://localhost:8080/",
          "height": 148
        },
        "outputId": "89c6f46b-654d-4b0d-dcb1-34d8ff8e9aa1"
      },
      "source": [
        "# #############################################################################\n",
        "# Entrenando con SVM \n",
        "# Uso modelo de seleccion Grid Search CV\n",
        "\n",
        "print(\"Ajuste de clasificacodor para el conjunto de entrenamiento\")\n",
        "t0 = time()\n",
        "param_grid = {'C': [1e3, 5e3, 1e4, 5e4, 1e5],\n",
        "              'gamma': [0.0001, 0.0005, 0.001, 0.005, 0.01, 0.1], }\n",
        "\n",
        "clf = GridSearchCV(SVC(kernel='rbf', class_weight='balanced'),\n",
        "                   param_grid, cv=5)\n",
        "\n",
        "clf = clf.fit(X_train_pca, y_train)\n",
        "print(\"Terminado en %0.3fs\" % (time() - t0))\n",
        "print(\"Mejor estimacion por Grid Search:\")\n",
        "print(clf.best_estimator_)\n"
      ],
      "execution_count": 39,
      "outputs": [
        {
          "output_type": "stream",
          "text": [
            "Ajuste de clasificacodor para el conjunto de entrenamiento\n",
            "Terminado en 47.202s\n",
            "Mejor estimacion por Grid Search:\n",
            "SVC(C=1000.0, cache_size=200, class_weight='balanced', coef0=0.0,\n",
            "    decision_function_shape='ovr', degree=3, gamma=0.005, kernel='rbf',\n",
            "    max_iter=-1, probability=False, random_state=None, shrinking=True,\n",
            "    tol=0.001, verbose=False)\n"
          ],
          "name": "stdout"
        }
      ]
    },
    {
      "cell_type": "markdown",
      "metadata": {
        "id": "skwdYANXi8Jy",
        "colab_type": "text"
      },
      "source": [
        "##6) Evaluación"
      ]
    },
    {
      "cell_type": "code",
      "metadata": {
        "id": "AYt4jOtIi8Jz",
        "colab_type": "code",
        "colab": {}
      },
      "source": [
        "from sklearn.metrics import classification_report\n",
        "from sklearn.metrics import confusion_matrix"
      ],
      "execution_count": 0,
      "outputs": []
    },
    {
      "cell_type": "markdown",
      "metadata": {
        "id": "aExUGIjqK59m",
        "colab_type": "text"
      },
      "source": [
        "6.1) Evaluación cuantitativa de la calidad del modelo en el conjunto de pruebas.\n",
        "\n"
      ]
    },
    {
      "cell_type": "code",
      "metadata": {
        "id": "cLubxesNwWAy",
        "colab_type": "code",
        "colab": {
          "base_uri": "https://localhost:8080/",
          "height": 54
        },
        "outputId": "d8f5931f-fe5a-477f-ded0-be978dfd0ffe"
      },
      "source": [
        "print(\"Prediciendo los nombres de las personas del conjunto de pruebas\")\n",
        "t0 = time()\n",
        "y_pred = clf.predict(X_test_pca)\n",
        "print(\"Terminado en %0.3fs\" % (time() - t0))"
      ],
      "execution_count": 41,
      "outputs": [
        {
          "output_type": "stream",
          "text": [
            "Prediciendo los nombres de las personas del conjunto de pruebas\n",
            "Terminado en 0.085s\n"
          ],
          "name": "stdout"
        }
      ]
    },
    {
      "cell_type": "code",
      "metadata": {
        "id": "CgKiJoroT0Ur",
        "colab_type": "code",
        "colab": {
          "base_uri": "https://localhost:8080/",
          "height": 279
        },
        "outputId": "9839ac64-03c4-41f7-f66b-3d44ca915942"
      },
      "source": [
        "#Reporte utilizando el clasificador de reportes de sklearn\n",
        "print(classification_report(y_test, y_pred, target_names=target_names))\n"
      ],
      "execution_count": 42,
      "outputs": [
        {
          "output_type": "stream",
          "text": [
            "                   precision    recall  f1-score   support\n",
            "\n",
            "     Ariel Sharon       0.75      0.46      0.57        13\n",
            "     Colin Powell       0.79      0.87      0.83        60\n",
            "  Donald Rumsfeld       0.94      0.63      0.76        27\n",
            "    George W Bush       0.83      0.98      0.90       146\n",
            "Gerhard Schroeder       0.95      0.80      0.87        25\n",
            "      Hugo Chavez       1.00      0.53      0.70        15\n",
            "       Tony Blair       0.96      0.75      0.84        36\n",
            "\n",
            "         accuracy                           0.85       322\n",
            "        macro avg       0.89      0.72      0.78       322\n",
            "     weighted avg       0.86      0.85      0.84       322\n",
            "\n"
          ],
          "name": "stdout"
        }
      ]
    },
    {
      "cell_type": "code",
      "metadata": {
        "id": "962ogTzVUDsZ",
        "colab_type": "code",
        "colab": {
          "base_uri": "https://localhost:8080/",
          "height": 148
        },
        "outputId": "ff43b1a1-3696-4a12-942e-6effe17c6e53"
      },
      "source": [
        "#matris de confucion\n",
        "print(confusion_matrix(y_test, y_pred, labels=range(n_classes)))"
      ],
      "execution_count": 44,
      "outputs": [
        {
          "output_type": "stream",
          "text": [
            "[[  6   1   0   6   0   0   0]\n",
            " [  2  52   0   6   0   0   0]\n",
            " [  0   3  17   7   0   0   0]\n",
            " [  0   3   0 143   0   0   0]\n",
            " [  0   1   0   3  20   0   1]\n",
            " [  0   4   0   2   1   8   0]\n",
            " [  0   2   1   6   0   0  27]]\n"
          ],
          "name": "stdout"
        }
      ]
    },
    {
      "cell_type": "markdown",
      "metadata": {
        "id": "jtWUeIzvUzW5",
        "colab_type": "text"
      },
      "source": [
        "6.2) Evaluación cuantitativa de la prediccion usando matplotlib"
      ]
    },
    {
      "cell_type": "code",
      "metadata": {
        "id": "468gBACeUlvG",
        "colab_type": "code",
        "colab": {}
      },
      "source": [
        "# #############################################################################\n",
        "# Evaluación cuantitativa de la prediccion usando matplotlib\n",
        "\n",
        "def plot_gallery(images, titles, h, w, n_row=3, n_col=4):\n",
        "    \"\"\"Helper function to plot a gallery of portraits\"\"\"\n",
        "    plt.figure(figsize=(1.8 * n_col, 2.4 * n_row))\n",
        "    plt.subplots_adjust(bottom=0, left=.01, right=.99, top=.90, hspace=.35)\n",
        "    for i in range(n_row * n_col):\n",
        "        plt.subplot(n_row, n_col, i + 1)\n",
        "        plt.imshow(images[i].reshape((h, w)), cmap=plt.cm.gray)\n",
        "        plt.title(titles[i], size=12)\n",
        "        plt.xticks(())\n",
        "        plt.yticks(())\n"
      ],
      "execution_count": 0,
      "outputs": []
    },
    {
      "cell_type": "code",
      "metadata": {
        "id": "TAHAhfMQgAXe",
        "colab_type": "code",
        "colab": {}
      },
      "source": [
        "# plot una porcion del resultado del entrenamiento\n",
        "\n",
        "def title(y_pred, y_test, target_names, i):\n",
        "    pred_name = target_names[y_pred[i]].rsplit(' ', 1)[-1]\n",
        "    true_name = target_names[y_test[i]].rsplit(' ', 1)[-1]\n",
        "    return 'prediccion: %s\\ntrue:      %s' % (pred_name, true_name)"
      ],
      "execution_count": 0,
      "outputs": []
    },
    {
      "cell_type": "code",
      "metadata": {
        "id": "QaqhxtqUgKco",
        "colab_type": "code",
        "colab": {
          "base_uri": "https://localhost:8080/",
          "height": 532
        },
        "outputId": "489d614e-84f3-49d2-d31f-77acea7bd1e2"
      },
      "source": [
        "prediction_titles = [title(y_pred, y_test, target_names, i)\n",
        "                     for i in range(y_pred.shape[0])]\n",
        "\n",
        "plot_gallery(X_test, prediction_titles, h, w)"
      ],
      "execution_count": 49,
      "outputs": [
        {
          "output_type": "display_data",
          "data": {
            "image/png": "[encoded data removed]",
            "text/plain": [
              "<Figure size 518.4x518.4 with 12 Axes>"
            ]
          },
          "metadata": {
            "tags": []
          }
        }
      ]
    },
    {
      "cell_type": "code",
      "metadata": {
        "id": "-0aRIfdvge--",
        "colab_type": "code",
        "colab": {
          "base_uri": "https://localhost:8080/",
          "height": 517
        },
        "outputId": "a384d6a7-47a3-4f56-a36c-b55842d37989"
      },
      "source": [
        "# plot los más significantes de la galeria de eigenfaces\n",
        "\n",
        "eigenface_titles = [\"eigenface %d\" % i for i in range(eigenfaces.shape[0])]\n",
        "plot_gallery(eigenfaces, eigenface_titles, h, w)\n",
        "\n",
        "plt.show()"
      ],
      "execution_count": 50,
      "outputs": [
        {
          "output_type": "display_data",
          "data": {
            "image/png": "[encoded data removed]",
            "text/plain": [
              "<Figure size 518.4x518.4 with 12 Axes>"
            ]
          },
          "metadata": {
            "tags": []
          }
        }
      ]
    },
    {
      "cell_type": "markdown",
      "metadata": {
        "id": "05naeqaVT2QK",
        "colab_type": "text"
      },
      "source": [
        "##7) Impacto de variables"
      ]
    }
  ]
}