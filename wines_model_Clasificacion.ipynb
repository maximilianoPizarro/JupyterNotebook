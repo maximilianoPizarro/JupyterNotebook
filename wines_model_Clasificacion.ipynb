{
  "nbformat": 4,
  "nbformat_minor": 0,
  "metadata": {
    "colab": {
      "name": "wines-model-Clasificacion.ipynb",
      "version": "0.3.2",
      "provenance": [],
      "collapsed_sections": [
        "DEJtJzGWrmNk",
        "mH-dn8Q7i8Is",
        "_9odMpG9i8Iv",
        "yAWdpRm9i8Ja",
        "BnNqQiR7i8Je",
        "cBvJEdLOi8Ji",
        "nIFk2yRRyIQe",
        "skwdYANXi8Jy",
        "05naeqaVT2QK",
        "smrfTTYoa9yZ",
        "BcNtwCz5q7bK",
        "2FmByK0auQI9",
        "INiPfW803SU-"
      ],
      "include_colab_link": true
    },
    "kernelspec": {
      "name": "python3",
      "display_name": "Python 3"
    }
  },
  "cells": [
    {
      "cell_type": "markdown",
      "metadata": {
        "id": "view-in-github",
        "colab_type": "text"
      },
      "source": [
        "<a href=\"https://colab.research.google.com/github/maximilianoPizarro/JupyterNotebook/blob/master/wines_model_Clasificacion.ipynb\" target=\"_parent\"><img src=\"https://colab.research.google.com/assets/colab-badge.svg\" alt=\"Open In Colab\"/></a>"
      ]
    },
    {
      "cell_type": "markdown",
      "metadata": {
        "id": "axovIAKh1V7X",
        "colab_type": "text"
      },
      "source": [
        "#PROYECTO: Calidad de Vinos\n"
      ]
    },
    {
      "cell_type": "markdown",
      "metadata": {
        "id": "m10fDagt1eN3",
        "colab_type": "text"
      },
      "source": [
        "**Descripción del proyecto:** En este proyecto vamos a implementar los algoritmos de clasificacion de Sklearn"
      ]
    },
    {
      "cell_type": "markdown",
      "metadata": {
        "id": "0fhaQrLl2SMP",
        "colab_type": "text"
      },
      "source": [
        "**Indice:**\n",
        "\n",
        "\n",
        "0.   [Preparando el entorno](#section0)\n",
        "1.  [Entendimiento del negocio](#section1)\n",
        "2.  [Entendimiento de los datos](#section2)\n",
        "3.  [Modelado](#section3)\n",
        "4.  [Preparación de los datos](#section4)\n",
        "5.  [Implementación](#section5)\n",
        "6.  [Evaluación](#section6)\n",
        "7.  [Presentación](#section7)\n",
        "8.  [Exportar Modelo](#section8)\n",
        "9.  [Importar Modelo](#section9)\n",
        "10.  [Subir Modelo a Google Drive](#section10)\n",
        "\n",
        "\n"
      ]
    },
    {
      "cell_type": "markdown",
      "metadata": {
        "id": "DEJtJzGWrmNk",
        "colab_type": "text"
      },
      "source": [
        "###0) Preparando el entorno\n",
        "\n"
      ]
    },
    {
      "cell_type": "markdown",
      "metadata": {
        "id": "vY9vHRRM9OEd",
        "colab_type": "text"
      },
      "source": [
        "Pasos de control\n",
        "\n",
        "**0.**   Controlar que el entorno este configurado con python 3 (menu -> Entorno de ejecución -> Cambiar tipo de entorno de Ejecución)<br/>\n",
        "**1.**   Instalar las librerias necesarias (haciendo uso de ! y apt-get o pip)<br/>\n",
        "**2.**   Importar modulos <br/>\n",
        "**3.**   Cargar al servidor la base de datos<br/>"
      ]
    },
    {
      "cell_type": "code",
      "metadata": {
        "id": "wtMR8noY6WhP",
        "colab_type": "code",
        "colab": {}
      },
      "source": [
        "#1 Instalar librerias"
      ],
      "execution_count": 0,
      "outputs": []
    },
    {
      "cell_type": "code",
      "metadata": {
        "id": "P3SL8jNu6gUm",
        "colab_type": "code",
        "colab": {}
      },
      "source": [
        "#2 importar librerias\n",
        "import pandas as pd #libreria para trabajar matrices de datos\n",
        "import matplotlib.pyplot as plt #libreria de visualizaciones\n",
        "import seaborn as sns #frame de visualizaciones sobre matplotlib\n",
        "import numpy as np\n",
        "%matplotlib inline\n",
        "#mostrar las visualizaciones en el entorno de manera predeterminada."
      ],
      "execution_count": 0,
      "outputs": []
    },
    {
      "cell_type": "code",
      "metadata": {
        "id": "pLyRQq_FcuSp",
        "colab_type": "code",
        "outputId": "c9a1c361-a8dd-4229-9e81-e4fc2ee53ca8",
        "colab": {
          "base_uri": "https://localhost:8080/",
          "height": 355
        }
      },
      "source": [
        "#3 Descargar la bd\n",
        "!wget -O wine.csv \"https://drive.google.com/uc?export=download&id=1bexD-rAY7b0-XQhWd9p51Us1UhcQ_qZs\""
      ],
      "execution_count": 127,
      "outputs": [
        {
          "output_type": "stream",
          "text": [
            "--2019-05-28 15:28:22--  https://drive.google.com/uc?export=download&id=1bexD-rAY7b0-XQhWd9p51Us1UhcQ_qZs\n",
            "Resolving drive.google.com (drive.google.com)... 74.125.195.113, 74.125.195.139, 74.125.195.138, ...\n",
            "Connecting to drive.google.com (drive.google.com)|74.125.195.113|:443... connected.\n",
            "HTTP request sent, awaiting response... 302 Moved Temporarily\n",
            "Location: https://doc-0s-as-docs.googleusercontent.com/docs/securesc/ha0ro937gcuc7l7deffksulhg5h7mbp1/g32e5bqu7tqpn264gdstf1cfnsbregid/1559052000000/11351302820947401900/*/1bexD-rAY7b0-XQhWd9p51Us1UhcQ_qZs?e=download [following]\n",
            "Warning: wildcards not supported in HTTP.\n",
            "--2019-05-28 15:28:23--  https://doc-0s-as-docs.googleusercontent.com/docs/securesc/ha0ro937gcuc7l7deffksulhg5h7mbp1/g32e5bqu7tqpn264gdstf1cfnsbregid/1559052000000/11351302820947401900/*/1bexD-rAY7b0-XQhWd9p51Us1UhcQ_qZs?e=download\n",
            "Resolving doc-0s-as-docs.googleusercontent.com (doc-0s-as-docs.googleusercontent.com)... 74.125.197.132, 2607:f8b0:400e:c03::84\n",
            "Connecting to doc-0s-as-docs.googleusercontent.com (doc-0s-as-docs.googleusercontent.com)|74.125.197.132|:443... connected.\n",
            "HTTP request sent, awaiting response... 200 OK\n",
            "Length: 391385 (382K) [text/csv]\n",
            "Saving to: ‘wine.csv’\n",
            "\n",
            "\rwine.csv              0%[                    ]       0  --.-KB/s               \rwine.csv            100%[===================>] 382.21K  --.-KB/s    in 0.004s  \n",
            "\n",
            "2019-05-28 15:28:23 (96.9 MB/s) - ‘wine.csv’ saved [391385/391385]\n",
            "\n"
          ],
          "name": "stdout"
        }
      ]
    },
    {
      "cell_type": "markdown",
      "metadata": {
        "id": "mH-dn8Q7i8Is",
        "colab_type": "text"
      },
      "source": [
        "###1) Entendimiento del Negocio"
      ]
    },
    {
      "cell_type": "code",
      "metadata": {
        "id": "EJmuqJ66RKVN",
        "colab_type": "code",
        "colab": {}
      },
      "source": [
        "df = pd.DataFrame(pd.read_csv(filepath_or_buffer='wine.csv',sep=\",\",index_col=0))"
      ],
      "execution_count": 0,
      "outputs": []
    },
    {
      "cell_type": "markdown",
      "metadata": {
        "id": "NiPe25Iki8Is",
        "colab_type": "text"
      },
      "source": [
        "Se estudiará un dataset de vinos y se armara un modelo para predecir su calidad"
      ]
    },
    {
      "cell_type": "code",
      "metadata": {
        "id": "VddbHQFvi8It",
        "colab_type": "code",
        "outputId": "da114448-d084-4072-e3b1-8861042c4430",
        "colab": {
          "base_uri": "https://localhost:8080/",
          "height": 223
        }
      },
      "source": [
        "print(df.describe()) #repasando las variables"
      ],
      "execution_count": 129,
      "outputs": [
        {
          "output_type": "stream",
          "text": [
            "       fixed acidity  volatile acidity  ...      alcohol      quality\n",
            "count    5197.000000       5197.000000  ...  5197.000000  5197.000000\n",
            "mean        7.213854          0.338667  ...    10.493907     5.818164\n",
            "std         1.287939          0.164251  ...     1.194671     0.873126\n",
            "min         3.800000          0.080000  ...     8.000000     3.000000\n",
            "25%         6.400000          0.230000  ...     9.500000     5.000000\n",
            "50%         7.000000          0.290000  ...    10.300000     6.000000\n",
            "75%         7.700000          0.400000  ...    11.300000     6.000000\n",
            "max        15.900000          1.580000  ...    14.900000     9.000000\n",
            "\n",
            "[8 rows x 12 columns]\n"
          ],
          "name": "stdout"
        }
      ]
    },
    {
      "cell_type": "markdown",
      "metadata": {
        "id": "_9odMpG9i8Iv",
        "colab_type": "text"
      },
      "source": [
        "###2) Entendimiento de los Datos\n",
        "\n"
      ]
    },
    {
      "cell_type": "code",
      "metadata": {
        "id": "-M6lAD-Qqb7J",
        "colab_type": "code",
        "colab": {
          "base_uri": "https://localhost:8080/",
          "height": 300
        },
        "outputId": "59931240-85e9-428c-d3a6-20c92c77399d"
      },
      "source": [
        "df.describe() #descripción de la bd"
      ],
      "execution_count": 130,
      "outputs": [
        {
          "output_type": "execute_result",
          "data": {
            "text/html": [
              "<div>\n",
              "<style scoped>\n",
              "    .dataframe tbody tr th:only-of-type {\n",
              "        vertical-align: middle;\n",
              "    }\n",
              "\n",
              "    .dataframe tbody tr th {\n",
              "        vertical-align: top;\n",
              "    }\n",
              "\n",
              "    .dataframe thead th {\n",
              "        text-align: right;\n",
              "    }\n",
              "</style>\n",
              "<table border=\"1\" class=\"dataframe\">\n",
              "  <thead>\n",
              "    <tr style=\"text-align: right;\">\n",
              "      <th></th>\n",
              "      <th>fixed acidity</th>\n",
              "      <th>volatile acidity</th>\n",
              "      <th>citric acid</th>\n",
              "      <th>residual sugar</th>\n",
              "      <th>chlorides</th>\n",
              "      <th>free sulfur dioxide</th>\n",
              "      <th>total sulfur dioxide</th>\n",
              "      <th>density</th>\n",
              "      <th>pH</th>\n",
              "      <th>sulphates</th>\n",
              "      <th>alcohol</th>\n",
              "      <th>quality</th>\n",
              "    </tr>\n",
              "  </thead>\n",
              "  <tbody>\n",
              "    <tr>\n",
              "      <th>count</th>\n",
              "      <td>5197.000000</td>\n",
              "      <td>5197.000000</td>\n",
              "      <td>5197.000000</td>\n",
              "      <td>5197.000000</td>\n",
              "      <td>5197.000000</td>\n",
              "      <td>5197.000000</td>\n",
              "      <td>5197.000000</td>\n",
              "      <td>5197.000000</td>\n",
              "      <td>5197.000000</td>\n",
              "      <td>5197.000000</td>\n",
              "      <td>5197.000000</td>\n",
              "      <td>5197.000000</td>\n",
              "    </tr>\n",
              "    <tr>\n",
              "      <th>mean</th>\n",
              "      <td>7.213854</td>\n",
              "      <td>0.338667</td>\n",
              "      <td>0.318628</td>\n",
              "      <td>5.469983</td>\n",
              "      <td>0.056053</td>\n",
              "      <td>30.733019</td>\n",
              "      <td>115.941409</td>\n",
              "      <td>0.994686</td>\n",
              "      <td>3.217333</td>\n",
              "      <td>0.529529</td>\n",
              "      <td>10.493907</td>\n",
              "      <td>5.818164</td>\n",
              "    </tr>\n",
              "    <tr>\n",
              "      <th>std</th>\n",
              "      <td>1.287939</td>\n",
              "      <td>0.164251</td>\n",
              "      <td>0.146342</td>\n",
              "      <td>4.715483</td>\n",
              "      <td>0.035773</td>\n",
              "      <td>17.571323</td>\n",
              "      <td>56.604841</td>\n",
              "      <td>0.002933</td>\n",
              "      <td>0.159624</td>\n",
              "      <td>0.148697</td>\n",
              "      <td>1.194671</td>\n",
              "      <td>0.873126</td>\n",
              "    </tr>\n",
              "    <tr>\n",
              "      <th>min</th>\n",
              "      <td>3.800000</td>\n",
              "      <td>0.080000</td>\n",
              "      <td>0.000000</td>\n",
              "      <td>0.600000</td>\n",
              "      <td>0.009000</td>\n",
              "      <td>1.000000</td>\n",
              "      <td>6.000000</td>\n",
              "      <td>0.987110</td>\n",
              "      <td>2.720000</td>\n",
              "      <td>0.230000</td>\n",
              "      <td>8.000000</td>\n",
              "      <td>3.000000</td>\n",
              "    </tr>\n",
              "    <tr>\n",
              "      <th>25%</th>\n",
              "      <td>6.400000</td>\n",
              "      <td>0.230000</td>\n",
              "      <td>0.250000</td>\n",
              "      <td>1.800000</td>\n",
              "      <td>0.038000</td>\n",
              "      <td>17.000000</td>\n",
              "      <td>77.000000</td>\n",
              "      <td>0.992370</td>\n",
              "      <td>3.110000</td>\n",
              "      <td>0.430000</td>\n",
              "      <td>9.500000</td>\n",
              "      <td>5.000000</td>\n",
              "    </tr>\n",
              "    <tr>\n",
              "      <th>50%</th>\n",
              "      <td>7.000000</td>\n",
              "      <td>0.290000</td>\n",
              "      <td>0.310000</td>\n",
              "      <td>3.100000</td>\n",
              "      <td>0.047000</td>\n",
              "      <td>29.000000</td>\n",
              "      <td>118.000000</td>\n",
              "      <td>0.994880</td>\n",
              "      <td>3.210000</td>\n",
              "      <td>0.510000</td>\n",
              "      <td>10.300000</td>\n",
              "      <td>6.000000</td>\n",
              "    </tr>\n",
              "    <tr>\n",
              "      <th>75%</th>\n",
              "      <td>7.700000</td>\n",
              "      <td>0.400000</td>\n",
              "      <td>0.390000</td>\n",
              "      <td>8.200000</td>\n",
              "      <td>0.064000</td>\n",
              "      <td>42.000000</td>\n",
              "      <td>156.000000</td>\n",
              "      <td>0.996960</td>\n",
              "      <td>3.320000</td>\n",
              "      <td>0.600000</td>\n",
              "      <td>11.300000</td>\n",
              "      <td>6.000000</td>\n",
              "    </tr>\n",
              "    <tr>\n",
              "      <th>max</th>\n",
              "      <td>15.900000</td>\n",
              "      <td>1.580000</td>\n",
              "      <td>1.660000</td>\n",
              "      <td>31.600000</td>\n",
              "      <td>0.611000</td>\n",
              "      <td>146.500000</td>\n",
              "      <td>366.500000</td>\n",
              "      <td>1.010300</td>\n",
              "      <td>4.010000</td>\n",
              "      <td>2.000000</td>\n",
              "      <td>14.900000</td>\n",
              "      <td>9.000000</td>\n",
              "    </tr>\n",
              "  </tbody>\n",
              "</table>\n",
              "</div>"
            ],
            "text/plain": [
              "       fixed acidity  volatile acidity  ...      alcohol      quality\n",
              "count    5197.000000       5197.000000  ...  5197.000000  5197.000000\n",
              "mean        7.213854          0.338667  ...    10.493907     5.818164\n",
              "std         1.287939          0.164251  ...     1.194671     0.873126\n",
              "min         3.800000          0.080000  ...     8.000000     3.000000\n",
              "25%         6.400000          0.230000  ...     9.500000     5.000000\n",
              "50%         7.000000          0.290000  ...    10.300000     6.000000\n",
              "75%         7.700000          0.400000  ...    11.300000     6.000000\n",
              "max        15.900000          1.580000  ...    14.900000     9.000000\n",
              "\n",
              "[8 rows x 12 columns]"
            ]
          },
          "metadata": {
            "tags": []
          },
          "execution_count": 130
        }
      ]
    },
    {
      "cell_type": "code",
      "metadata": {
        "id": "193fQDpJqRbT",
        "colab_type": "code",
        "colab": {
          "base_uri": "https://localhost:8080/",
          "height": 354
        },
        "outputId": "b96fbd12-b8f5-4e4b-ae1b-46b421d9497b"
      },
      "source": [
        "df.info() #Viendo el tipo de dato"
      ],
      "execution_count": 131,
      "outputs": [
        {
          "output_type": "stream",
          "text": [
            "<class 'pandas.core.frame.DataFrame'>\n",
            "Int64Index: 5197 entries, 0 to 5196\n",
            "Data columns (total 13 columns):\n",
            "fixed acidity           5197 non-null float64\n",
            "volatile acidity        5197 non-null float64\n",
            "citric acid             5197 non-null float64\n",
            "residual sugar          5197 non-null float64\n",
            "chlorides               5197 non-null float64\n",
            "free sulfur dioxide     5197 non-null float64\n",
            "total sulfur dioxide    5197 non-null float64\n",
            "density                 5197 non-null float64\n",
            "pH                      5197 non-null float64\n",
            "sulphates               5197 non-null float64\n",
            "alcohol                 5197 non-null float64\n",
            "quality                 5197 non-null int64\n",
            "type                    5197 non-null object\n",
            "dtypes: float64(11), int64(1), object(1)\n",
            "memory usage: 568.4+ KB\n"
          ],
          "name": "stdout"
        }
      ]
    },
    {
      "cell_type": "code",
      "metadata": {
        "id": "gY0VAz-urB8Z",
        "colab_type": "code",
        "outputId": "721fa109-8554-4e44-dd0f-ef7132a9beb2",
        "colab": {
          "base_uri": "https://localhost:8080/",
          "height": 261
        }
      },
      "source": [
        "#Convertimos variables cualitativas en variables discretas\n",
        "#Dividimos el dataset segun la variable target en este caso se trata de calidad\n",
        "df.type=df.type==\"red\"\n",
        "X = df.drop(columns=['quality'])\n",
        "y = df[\"quality\"] #variable target]\n",
        "X_names = sorted(pd.read_csv(filepath_or_buffer='wine.csv',sep=\",\",index_col=0))\n",
        "X_names\n"
      ],
      "execution_count": 132,
      "outputs": [
        {
          "output_type": "execute_result",
          "data": {
            "text/plain": [
              "['alcohol',\n",
              " 'chlorides',\n",
              " 'citric acid',\n",
              " 'density',\n",
              " 'fixed acidity',\n",
              " 'free sulfur dioxide',\n",
              " 'pH',\n",
              " 'quality',\n",
              " 'residual sugar',\n",
              " 'sulphates',\n",
              " 'total sulfur dioxide',\n",
              " 'type',\n",
              " 'volatile acidity']"
            ]
          },
          "metadata": {
            "tags": []
          },
          "execution_count": 132
        }
      ]
    },
    {
      "cell_type": "markdown",
      "metadata": {
        "id": "oHl6Zqp5s38_",
        "colab_type": "text"
      },
      "source": [
        "**Recordamos que la distirbución de la variable target no tenia una distribución normal**"
      ]
    },
    {
      "cell_type": "code",
      "metadata": {
        "id": "wbC61xv1i8I-",
        "colab_type": "code",
        "outputId": "e98849ca-d3e5-414a-cffc-cd80069ee525",
        "colab": {
          "base_uri": "https://localhost:8080/",
          "height": 288
        }
      },
      "source": [
        "#distribución de la calidad\n",
        "df['quality'].plot.kde()\n"
      ],
      "execution_count": 133,
      "outputs": [
        {
          "output_type": "execute_result",
          "data": {
            "text/plain": [
              "<matplotlib.axes._subplots.AxesSubplot at 0x7f6f9cd6c630>"
            ]
          },
          "metadata": {
            "tags": []
          },
          "execution_count": 133
        },
        {
          "output_type": "display_data",
          "data": {
            "image/png": "[encoded data removed]",
            "text/plain": [
              "<Figure size 432x288 with 1 Axes>"
            ]
          },
          "metadata": {
            "tags": []
          }
        }
      ]
    },
    {
      "cell_type": "code",
      "metadata": {
        "id": "9L4PZHsqi8JB",
        "colab_type": "code",
        "outputId": "a378f545-a2d2-4607-c2f7-bdc5a683903f",
        "colab": {
          "base_uri": "https://localhost:8080/",
          "height": 295
        }
      },
      "source": [
        "from scipy import stats #visualizar la distribución de probabilidades\n",
        "#sirve para comprender si la variable en estudio tiene una distirbución normal\n",
        "#necesaria para aplicar modelos paramétricos\n",
        "stats.probplot(df['quality'], plot=plt)\n",
        "plt.show()\n"
      ],
      "execution_count": 134,
      "outputs": [
        {
          "output_type": "display_data",
          "data": {
            "image/png": "[encoded data removed]",
            "text/plain": [
              "<Figure size 432x288 with 1 Axes>"
            ]
          },
          "metadata": {
            "tags": []
          }
        }
      ]
    },
    {
      "cell_type": "markdown",
      "metadata": {
        "id": "i_c0orX0i8JJ",
        "colab_type": "text"
      },
      "source": [
        "Veremos en la etapa de preparación de los datos como corregir este problema.\n"
      ]
    },
    {
      "cell_type": "markdown",
      "metadata": {
        "id": "yAWdpRm9i8Ja",
        "colab_type": "text"
      },
      "source": [
        "### 3) Modelado"
      ]
    },
    {
      "cell_type": "markdown",
      "metadata": {
        "id": "GWS8X6w6i8Jc",
        "colab_type": "text"
      },
      "source": [
        "\n",
        "Usaremos modelo de clasificacion de sklearn"
      ]
    },
    {
      "cell_type": "markdown",
      "metadata": {
        "id": "wJSVC6t8i8Jd",
        "colab_type": "text"
      },
      "source": [
        "\n",
        "\n",
        "---\n",
        "\n",
        "***Nota:**  Veamos que nos ofrece la libreria a utilizar para clasificacion (https://scikit-learn.org/stable/modules/generated/sklearn.datasets.make_classification.html)"
      ]
    },
    {
      "cell_type": "markdown",
      "metadata": {
        "id": "BnNqQiR7i8Je",
        "colab_type": "text"
      },
      "source": [
        "###4) Preparación de los datos"
      ]
    },
    {
      "cell_type": "markdown",
      "metadata": {
        "id": "1Ozq0Rvwi8Je",
        "colab_type": "text"
      },
      "source": [
        "En esta etapa preparaemos el dataset\n",
        "\n"
      ]
    },
    {
      "cell_type": "markdown",
      "metadata": {
        "id": "Xez9IswEuYLV",
        "colab_type": "text"
      },
      "source": [
        "4.1) Split Dataset"
      ]
    },
    {
      "cell_type": "code",
      "metadata": {
        "id": "50pMsuF3i8Jg",
        "colab_type": "code",
        "colab": {}
      },
      "source": [
        "from sklearn.model_selection import train_test_split"
      ],
      "execution_count": 0,
      "outputs": []
    },
    {
      "cell_type": "markdown",
      "metadata": {
        "id": "MQbF3IIju6t5",
        "colab_type": "text"
      },
      "source": [
        "debemos definir 2 elementos:\n",
        "1.   El porcentaje de registros que utilizaremos para testear\n",
        "2.   Un valor aleatorio fijo para mantener la reproducción del experimento\n",
        "\n"
      ]
    },
    {
      "cell_type": "code",
      "metadata": {
        "id": "rBzFIXNIvIdo",
        "colab_type": "code",
        "colab": {}
      },
      "source": [
        "test_size = 0.3 # 30% de la población (usualmente se elige entre un 30 y un 15% según la cantidad de registros)\n",
        "RANDOM_STATE = 42 #un valor aleatorio"
      ],
      "execution_count": 0,
      "outputs": []
    },
    {
      "cell_type": "code",
      "metadata": {
        "id": "bcIfzzOduyVh",
        "colab_type": "code",
        "colab": {}
      },
      "source": [
        "#por motivos de comparación tendremos separadas en 2 bds sin modificar\n",
        "#raw\n",
        "X_train, X_test, y_train, y_test = train_test_split(X, y, test_size=test_size, random_state=RANDOM_STATE)\n",
        "\n"
      ],
      "execution_count": 0,
      "outputs": []
    },
    {
      "cell_type": "code",
      "metadata": {
        "id": "Ow9tTRTlvqTS",
        "colab_type": "code",
        "outputId": "c42176ac-ca18-4f66-d4bc-cfbbc2559a50",
        "colab": {
          "base_uri": "https://localhost:8080/",
          "height": 36
        }
      },
      "source": [
        "print(\"train: {} vs test {}\".format(len(X_train), len(X_test)))"
      ],
      "execution_count": 138,
      "outputs": [
        {
          "output_type": "stream",
          "text": [
            "train: 3637 vs test 1560\n"
          ],
          "name": "stdout"
        }
      ]
    },
    {
      "cell_type": "code",
      "metadata": {
        "id": "XdvWKrMiLDv9",
        "colab_type": "code",
        "colab": {}
      },
      "source": [
        ""
      ],
      "execution_count": 0,
      "outputs": []
    },
    {
      "cell_type": "markdown",
      "metadata": {
        "id": "cBvJEdLOi8Ji",
        "colab_type": "text"
      },
      "source": [
        "###5) Implementación"
      ]
    },
    {
      "cell_type": "markdown",
      "metadata": {
        "id": "nIFk2yRRyIQe",
        "colab_type": "text"
      },
      "source": [
        "5.1) Modelo Clasificacion"
      ]
    },
    {
      "cell_type": "code",
      "metadata": {
        "id": "V5K3wc4Wi8Ji",
        "colab_type": "code",
        "colab": {}
      },
      "source": [
        "from sklearn.ensemble import RandomForestClassifier\n",
        "from sklearn.datasets import make_classification #importamos el modelo a utilizar\n",
        "from sklearn.metrics import confusion_matrix\n",
        "\n",
        "from sklearn.metrics import accuracy_score"
      ],
      "execution_count": 0,
      "outputs": []
    },
    {
      "cell_type": "markdown",
      "metadata": {
        "id": "p_eTMHx6xE1A",
        "colab_type": "text"
      },
      "source": [
        "**No estandarizado**"
      ]
    },
    {
      "cell_type": "code",
      "metadata": {
        "id": "pfYHvXWmi8Jl",
        "colab_type": "code",
        "outputId": "3301fd4d-4e2f-42c7-f79d-8537873a9ffb",
        "colab": {
          "base_uri": "https://localhost:8080/",
          "height": 148
        }
      },
      "source": [
        "\n",
        "clasificacion = RandomForestClassifier(n_estimators=100, max_depth=2,min_samples_leaf=2,\n",
        "                              random_state=42)\n",
        "\n",
        "clasificacion.fit(X_train, y_train)\n",
        "y_pred = clasificacion.predict(X_test) \n",
        "\n",
        "\n",
        "confusion_matrix(y_test,y_pred) "
      ],
      "execution_count": 140,
      "outputs": [
        {
          "output_type": "execute_result",
          "data": {
            "text/plain": [
              "array([[  0,   0,   0,   3,   0,   0,   0],\n",
              "       [  0,   0,  23,  27,   0,   0,   0],\n",
              "       [  0,   0, 265, 265,   0,   0,   0],\n",
              "       [  0,   0, 127, 540,   0,   0,   0],\n",
              "       [  0,   0,   9, 251,   0,   0,   0],\n",
              "       [  0,   0,   1,  48,   0,   0,   0],\n",
              "       [  0,   0,   0,   1,   0,   0,   0]])"
            ]
          },
          "metadata": {
            "tags": []
          },
          "execution_count": 140
        }
      ]
    },
    {
      "cell_type": "markdown",
      "metadata": {
        "id": "Azxzo_DEhZZc",
        "colab_type": "text"
      },
      "source": [
        "5.2)Puntuación de Precisión"
      ]
    },
    {
      "cell_type": "code",
      "metadata": {
        "id": "rVqEKwaZhXeZ",
        "colab_type": "code",
        "outputId": "c271a8c7-c9fb-4d7e-8fb5-3725a0f932f2",
        "colab": {
          "base_uri": "https://localhost:8080/",
          "height": 36
        }
      },
      "source": [
        "accuracy_score(y_test,y_pred)*100"
      ],
      "execution_count": 141,
      "outputs": [
        {
          "output_type": "execute_result",
          "data": {
            "text/plain": [
              "51.60256410256411"
            ]
          },
          "metadata": {
            "tags": []
          },
          "execution_count": 141
        }
      ]
    },
    {
      "cell_type": "markdown",
      "metadata": {
        "id": "skwdYANXi8Jy",
        "colab_type": "text"
      },
      "source": [
        "##6) Evaluación"
      ]
    },
    {
      "cell_type": "code",
      "metadata": {
        "id": "AYt4jOtIi8Jz",
        "colab_type": "code",
        "colab": {}
      },
      "source": [
        "from sklearn.metrics import mean_squared_error #más info: http://scikit-learn.org/stable/modules/model_evaluation.html#mean-squared-error"
      ],
      "execution_count": 0,
      "outputs": []
    },
    {
      "cell_type": "markdown",
      "metadata": {
        "id": "aExUGIjqK59m",
        "colab_type": "text"
      },
      "source": [
        "6.1) Evaluamos con metodo de error medio cuadrado"
      ]
    },
    {
      "cell_type": "code",
      "metadata": {
        "id": "cLubxesNwWAy",
        "colab_type": "code",
        "outputId": "de39e220-d4c9-481b-b8f3-574bcddb9ca2",
        "colab": {
          "base_uri": "https://localhost:8080/",
          "height": 36
        }
      },
      "source": [
        "#dataset sin estandarizar\n",
        "MSE = mean_squared_error(y_test, y_pred)\n",
        "print(\"MSE = {}\".format(MSE))"
      ],
      "execution_count": 143,
      "outputs": [
        {
          "output_type": "stream",
          "text": [
            "MSE = 0.6711538461538461\n"
          ],
          "name": "stdout"
        }
      ]
    },
    {
      "cell_type": "markdown",
      "metadata": {
        "id": "05naeqaVT2QK",
        "colab_type": "text"
      },
      "source": [
        "##7) Impacto de variables"
      ]
    },
    {
      "cell_type": "code",
      "metadata": {
        "id": "JPPp_u-2KAjo",
        "colab_type": "code",
        "outputId": "2ddaaae6-ed0b-4539-dd83-121e219f9e89",
        "colab": {
          "base_uri": "https://localhost:8080/",
          "height": 261
        }
      },
      "source": [
        "[print(\"{} : {:.4f}\".format(x, y)) for x, y in zip(X_names, clasificacion.feature_importances_)]\n"
      ],
      "execution_count": 144,
      "outputs": [
        {
          "output_type": "stream",
          "text": [
            "alcohol : 0.0075\n",
            "chlorides : 0.1201\n",
            "citric acid : 0.0651\n",
            "density : 0.0151\n",
            "fixed acidity : 0.1283\n",
            "free sulfur dioxide : 0.0372\n",
            "pH : 0.0315\n",
            "quality : 0.2261\n",
            "residual sugar : 0.0113\n",
            "sulphates : 0.0041\n",
            "total sulfur dioxide : 0.3439\n",
            "type : 0.0096\n"
          ],
          "name": "stdout"
        },
        {
          "output_type": "execute_result",
          "data": {
            "text/plain": [
              "[None, None, None, None, None, None, None, None, None, None, None, None]"
            ]
          },
          "metadata": {
            "tags": []
          },
          "execution_count": 144
        }
      ]
    },
    {
      "cell_type": "markdown",
      "metadata": {
        "id": "smrfTTYoa9yZ",
        "colab_type": "text"
      },
      "source": [
        "##8) Exportar modelo"
      ]
    },
    {
      "cell_type": "code",
      "metadata": {
        "id": "124zb74lbIwm",
        "colab_type": "code",
        "colab": {}
      },
      "source": [
        "from sklearn.externals import joblib"
      ],
      "execution_count": 0,
      "outputs": []
    },
    {
      "cell_type": "code",
      "metadata": {
        "id": "mrzEG4-vlVf5",
        "colab_type": "code",
        "outputId": "b786e7e3-a08a-49aa-8edd-2d8291d2e016",
        "colab": {
          "base_uri": "https://localhost:8080/",
          "height": 36
        }
      },
      "source": [
        "joblib.dump(clasificacion, \"clasificacion.joblib\")"
      ],
      "execution_count": 146,
      "outputs": [
        {
          "output_type": "execute_result",
          "data": {
            "text/plain": [
              "['clasificacion.joblib']"
            ]
          },
          "metadata": {
            "tags": []
          },
          "execution_count": 146
        }
      ]
    },
    {
      "cell_type": "markdown",
      "metadata": {
        "id": "BcNtwCz5q7bK",
        "colab_type": "text"
      },
      "source": [
        "##9) Importar modelo"
      ]
    },
    {
      "cell_type": "code",
      "metadata": {
        "id": "xaJH8fVDlwhj",
        "colab_type": "code",
        "colab": {}
      },
      "source": [
        "from joblib import dump, load"
      ],
      "execution_count": 0,
      "outputs": []
    },
    {
      "cell_type": "code",
      "metadata": {
        "id": "E7n_NjNnl6rZ",
        "colab_type": "code",
        "colab": {}
      },
      "source": [
        "cargar_modelo = load(\"clasificacion.joblib\")"
      ],
      "execution_count": 0,
      "outputs": []
    },
    {
      "cell_type": "markdown",
      "metadata": {
        "id": "2FmByK0auQI9",
        "colab_type": "text"
      },
      "source": [
        "9.1) Importamos nuevo dataset "
      ]
    },
    {
      "cell_type": "code",
      "metadata": {
        "id": "U7VJoRVendvi",
        "colab_type": "code",
        "colab": {}
      },
      "source": [
        "import requests,io\n",
        "import pandas as pd #libreria para trabajar matrices de datos\n"
      ],
      "execution_count": 0,
      "outputs": []
    },
    {
      "cell_type": "code",
      "metadata": {
        "id": "3o0fQaQfnZqT",
        "colab_type": "code",
        "colab": {}
      },
      "source": [
        "url=\"https://raw.githubusercontent.com/maximilianoPizarro/JupyterNotebook/master/wine_test_predict.csv\"\n",
        "s=requests.get(url).content\n",
        "\n",
        "dframe = pd.DataFrame(pd.read_csv(io.StringIO(s.decode('utf-8')),index_col=0))\n",
        "dframe.type=dframe.type==\"red\""
      ],
      "execution_count": 0,
      "outputs": []
    },
    {
      "cell_type": "markdown",
      "metadata": {
        "id": "cmXsmSLWujDl",
        "colab_type": "text"
      },
      "source": [
        "9.2) Realizamos las prediccion con el modelo cargado\n",
        "\n"
      ]
    },
    {
      "cell_type": "code",
      "metadata": {
        "id": "mNQHXVQKnB4E",
        "colab_type": "code",
        "outputId": "8226a266-925b-499e-8880-dcaaf0637e2c",
        "colab": {
          "base_uri": "https://localhost:8080/",
          "height": 36
        }
      },
      "source": [
        "cargar_modelo.predict(dframe)"
      ],
      "execution_count": 151,
      "outputs": [
        {
          "output_type": "execute_result",
          "data": {
            "text/plain": [
              "array([6, 6, 6, ..., 6, 6, 6])"
            ]
          },
          "metadata": {
            "tags": []
          },
          "execution_count": 151
        }
      ]
    },
    {
      "cell_type": "markdown",
      "metadata": {
        "id": "C1whlruZu2ul",
        "colab_type": "text"
      },
      "source": [
        "9.3) Creamos un nuevo dataframe con el resultado y guardamos en archivo csv"
      ]
    },
    {
      "cell_type": "code",
      "metadata": {
        "id": "NRMa7gZ5oM3b",
        "colab_type": "code",
        "colab": {}
      },
      "source": [
        "resultado = pd.DataFrame(columns= ['ID', 'y_pred'])"
      ],
      "execution_count": 0,
      "outputs": []
    },
    {
      "cell_type": "code",
      "metadata": {
        "id": "eDeEze3ToyW3",
        "colab_type": "code",
        "colab": {}
      },
      "source": [
        "resultado['ID']=dframe.index\n",
        "resultado['y_pred']=cargar_modelo.predict(dframe)"
      ],
      "execution_count": 0,
      "outputs": []
    },
    {
      "cell_type": "code",
      "metadata": {
        "id": "0fa7AtBmqWH9",
        "colab_type": "code",
        "outputId": "cb869173-967a-4c9e-99bb-d8fd92dbdf03",
        "colab": {
          "base_uri": "https://localhost:8080/",
          "height": 1992
        }
      },
      "source": [
        "resultado"
      ],
      "execution_count": 154,
      "outputs": [
        {
          "output_type": "execute_result",
          "data": {
            "text/html": [
              "<div>\n",
              "<style scoped>\n",
              "    .dataframe tbody tr th:only-of-type {\n",
              "        vertical-align: middle;\n",
              "    }\n",
              "\n",
              "    .dataframe tbody tr th {\n",
              "        vertical-align: top;\n",
              "    }\n",
              "\n",
              "    .dataframe thead th {\n",
              "        text-align: right;\n",
              "    }\n",
              "</style>\n",
              "<table border=\"1\" class=\"dataframe\">\n",
              "  <thead>\n",
              "    <tr style=\"text-align: right;\">\n",
              "      <th></th>\n",
              "      <th>ID</th>\n",
              "      <th>y_pred</th>\n",
              "    </tr>\n",
              "  </thead>\n",
              "  <tbody>\n",
              "    <tr>\n",
              "      <th>0</th>\n",
              "      <td>0</td>\n",
              "      <td>6</td>\n",
              "    </tr>\n",
              "    <tr>\n",
              "      <th>1</th>\n",
              "      <td>1</td>\n",
              "      <td>6</td>\n",
              "    </tr>\n",
              "    <tr>\n",
              "      <th>2</th>\n",
              "      <td>2</td>\n",
              "      <td>6</td>\n",
              "    </tr>\n",
              "    <tr>\n",
              "      <th>3</th>\n",
              "      <td>3</td>\n",
              "      <td>6</td>\n",
              "    </tr>\n",
              "    <tr>\n",
              "      <th>4</th>\n",
              "      <td>4</td>\n",
              "      <td>5</td>\n",
              "    </tr>\n",
              "    <tr>\n",
              "      <th>5</th>\n",
              "      <td>5</td>\n",
              "      <td>6</td>\n",
              "    </tr>\n",
              "    <tr>\n",
              "      <th>6</th>\n",
              "      <td>6</td>\n",
              "      <td>5</td>\n",
              "    </tr>\n",
              "    <tr>\n",
              "      <th>7</th>\n",
              "      <td>7</td>\n",
              "      <td>6</td>\n",
              "    </tr>\n",
              "    <tr>\n",
              "      <th>8</th>\n",
              "      <td>8</td>\n",
              "      <td>6</td>\n",
              "    </tr>\n",
              "    <tr>\n",
              "      <th>9</th>\n",
              "      <td>9</td>\n",
              "      <td>6</td>\n",
              "    </tr>\n",
              "    <tr>\n",
              "      <th>10</th>\n",
              "      <td>10</td>\n",
              "      <td>6</td>\n",
              "    </tr>\n",
              "    <tr>\n",
              "      <th>11</th>\n",
              "      <td>11</td>\n",
              "      <td>5</td>\n",
              "    </tr>\n",
              "    <tr>\n",
              "      <th>12</th>\n",
              "      <td>12</td>\n",
              "      <td>6</td>\n",
              "    </tr>\n",
              "    <tr>\n",
              "      <th>13</th>\n",
              "      <td>13</td>\n",
              "      <td>6</td>\n",
              "    </tr>\n",
              "    <tr>\n",
              "      <th>14</th>\n",
              "      <td>14</td>\n",
              "      <td>6</td>\n",
              "    </tr>\n",
              "    <tr>\n",
              "      <th>15</th>\n",
              "      <td>15</td>\n",
              "      <td>5</td>\n",
              "    </tr>\n",
              "    <tr>\n",
              "      <th>16</th>\n",
              "      <td>16</td>\n",
              "      <td>6</td>\n",
              "    </tr>\n",
              "    <tr>\n",
              "      <th>17</th>\n",
              "      <td>17</td>\n",
              "      <td>6</td>\n",
              "    </tr>\n",
              "    <tr>\n",
              "      <th>18</th>\n",
              "      <td>18</td>\n",
              "      <td>6</td>\n",
              "    </tr>\n",
              "    <tr>\n",
              "      <th>19</th>\n",
              "      <td>19</td>\n",
              "      <td>6</td>\n",
              "    </tr>\n",
              "    <tr>\n",
              "      <th>20</th>\n",
              "      <td>20</td>\n",
              "      <td>5</td>\n",
              "    </tr>\n",
              "    <tr>\n",
              "      <th>21</th>\n",
              "      <td>21</td>\n",
              "      <td>6</td>\n",
              "    </tr>\n",
              "    <tr>\n",
              "      <th>22</th>\n",
              "      <td>22</td>\n",
              "      <td>6</td>\n",
              "    </tr>\n",
              "    <tr>\n",
              "      <th>23</th>\n",
              "      <td>23</td>\n",
              "      <td>6</td>\n",
              "    </tr>\n",
              "    <tr>\n",
              "      <th>24</th>\n",
              "      <td>24</td>\n",
              "      <td>5</td>\n",
              "    </tr>\n",
              "    <tr>\n",
              "      <th>25</th>\n",
              "      <td>25</td>\n",
              "      <td>5</td>\n",
              "    </tr>\n",
              "    <tr>\n",
              "      <th>26</th>\n",
              "      <td>26</td>\n",
              "      <td>6</td>\n",
              "    </tr>\n",
              "    <tr>\n",
              "      <th>27</th>\n",
              "      <td>27</td>\n",
              "      <td>5</td>\n",
              "    </tr>\n",
              "    <tr>\n",
              "      <th>28</th>\n",
              "      <td>28</td>\n",
              "      <td>5</td>\n",
              "    </tr>\n",
              "    <tr>\n",
              "      <th>29</th>\n",
              "      <td>29</td>\n",
              "      <td>5</td>\n",
              "    </tr>\n",
              "    <tr>\n",
              "      <th>...</th>\n",
              "      <td>...</td>\n",
              "      <td>...</td>\n",
              "    </tr>\n",
              "    <tr>\n",
              "      <th>1270</th>\n",
              "      <td>1270</td>\n",
              "      <td>5</td>\n",
              "    </tr>\n",
              "    <tr>\n",
              "      <th>1271</th>\n",
              "      <td>1271</td>\n",
              "      <td>6</td>\n",
              "    </tr>\n",
              "    <tr>\n",
              "      <th>1272</th>\n",
              "      <td>1272</td>\n",
              "      <td>6</td>\n",
              "    </tr>\n",
              "    <tr>\n",
              "      <th>1273</th>\n",
              "      <td>1273</td>\n",
              "      <td>6</td>\n",
              "    </tr>\n",
              "    <tr>\n",
              "      <th>1274</th>\n",
              "      <td>1274</td>\n",
              "      <td>6</td>\n",
              "    </tr>\n",
              "    <tr>\n",
              "      <th>1275</th>\n",
              "      <td>1275</td>\n",
              "      <td>6</td>\n",
              "    </tr>\n",
              "    <tr>\n",
              "      <th>1276</th>\n",
              "      <td>1276</td>\n",
              "      <td>6</td>\n",
              "    </tr>\n",
              "    <tr>\n",
              "      <th>1277</th>\n",
              "      <td>1277</td>\n",
              "      <td>6</td>\n",
              "    </tr>\n",
              "    <tr>\n",
              "      <th>1278</th>\n",
              "      <td>1278</td>\n",
              "      <td>6</td>\n",
              "    </tr>\n",
              "    <tr>\n",
              "      <th>1279</th>\n",
              "      <td>1279</td>\n",
              "      <td>6</td>\n",
              "    </tr>\n",
              "    <tr>\n",
              "      <th>1280</th>\n",
              "      <td>1280</td>\n",
              "      <td>6</td>\n",
              "    </tr>\n",
              "    <tr>\n",
              "      <th>1281</th>\n",
              "      <td>1281</td>\n",
              "      <td>6</td>\n",
              "    </tr>\n",
              "    <tr>\n",
              "      <th>1282</th>\n",
              "      <td>1282</td>\n",
              "      <td>5</td>\n",
              "    </tr>\n",
              "    <tr>\n",
              "      <th>1283</th>\n",
              "      <td>1283</td>\n",
              "      <td>6</td>\n",
              "    </tr>\n",
              "    <tr>\n",
              "      <th>1284</th>\n",
              "      <td>1284</td>\n",
              "      <td>5</td>\n",
              "    </tr>\n",
              "    <tr>\n",
              "      <th>1285</th>\n",
              "      <td>1285</td>\n",
              "      <td>6</td>\n",
              "    </tr>\n",
              "    <tr>\n",
              "      <th>1286</th>\n",
              "      <td>1286</td>\n",
              "      <td>5</td>\n",
              "    </tr>\n",
              "    <tr>\n",
              "      <th>1287</th>\n",
              "      <td>1287</td>\n",
              "      <td>5</td>\n",
              "    </tr>\n",
              "    <tr>\n",
              "      <th>1288</th>\n",
              "      <td>1288</td>\n",
              "      <td>6</td>\n",
              "    </tr>\n",
              "    <tr>\n",
              "      <th>1289</th>\n",
              "      <td>1289</td>\n",
              "      <td>6</td>\n",
              "    </tr>\n",
              "    <tr>\n",
              "      <th>1290</th>\n",
              "      <td>1290</td>\n",
              "      <td>6</td>\n",
              "    </tr>\n",
              "    <tr>\n",
              "      <th>1291</th>\n",
              "      <td>1291</td>\n",
              "      <td>6</td>\n",
              "    </tr>\n",
              "    <tr>\n",
              "      <th>1292</th>\n",
              "      <td>1292</td>\n",
              "      <td>6</td>\n",
              "    </tr>\n",
              "    <tr>\n",
              "      <th>1293</th>\n",
              "      <td>1293</td>\n",
              "      <td>6</td>\n",
              "    </tr>\n",
              "    <tr>\n",
              "      <th>1294</th>\n",
              "      <td>1294</td>\n",
              "      <td>6</td>\n",
              "    </tr>\n",
              "    <tr>\n",
              "      <th>1295</th>\n",
              "      <td>1295</td>\n",
              "      <td>5</td>\n",
              "    </tr>\n",
              "    <tr>\n",
              "      <th>1296</th>\n",
              "      <td>1296</td>\n",
              "      <td>6</td>\n",
              "    </tr>\n",
              "    <tr>\n",
              "      <th>1297</th>\n",
              "      <td>1297</td>\n",
              "      <td>6</td>\n",
              "    </tr>\n",
              "    <tr>\n",
              "      <th>1298</th>\n",
              "      <td>1298</td>\n",
              "      <td>6</td>\n",
              "    </tr>\n",
              "    <tr>\n",
              "      <th>1299</th>\n",
              "      <td>1299</td>\n",
              "      <td>6</td>\n",
              "    </tr>\n",
              "  </tbody>\n",
              "</table>\n",
              "<p>1300 rows × 2 columns</p>\n",
              "</div>"
            ],
            "text/plain": [
              "        ID  y_pred\n",
              "0        0       6\n",
              "1        1       6\n",
              "2        2       6\n",
              "3        3       6\n",
              "4        4       5\n",
              "5        5       6\n",
              "6        6       5\n",
              "7        7       6\n",
              "8        8       6\n",
              "9        9       6\n",
              "10      10       6\n",
              "11      11       5\n",
              "12      12       6\n",
              "13      13       6\n",
              "14      14       6\n",
              "15      15       5\n",
              "16      16       6\n",
              "17      17       6\n",
              "18      18       6\n",
              "19      19       6\n",
              "20      20       5\n",
              "21      21       6\n",
              "22      22       6\n",
              "23      23       6\n",
              "24      24       5\n",
              "25      25       5\n",
              "26      26       6\n",
              "27      27       5\n",
              "28      28       5\n",
              "29      29       5\n",
              "...    ...     ...\n",
              "1270  1270       5\n",
              "1271  1271       6\n",
              "1272  1272       6\n",
              "1273  1273       6\n",
              "1274  1274       6\n",
              "1275  1275       6\n",
              "1276  1276       6\n",
              "1277  1277       6\n",
              "1278  1278       6\n",
              "1279  1279       6\n",
              "1280  1280       6\n",
              "1281  1281       6\n",
              "1282  1282       5\n",
              "1283  1283       6\n",
              "1284  1284       5\n",
              "1285  1285       6\n",
              "1286  1286       5\n",
              "1287  1287       5\n",
              "1288  1288       6\n",
              "1289  1289       6\n",
              "1290  1290       6\n",
              "1291  1291       6\n",
              "1292  1292       6\n",
              "1293  1293       6\n",
              "1294  1294       6\n",
              "1295  1295       5\n",
              "1296  1296       6\n",
              "1297  1297       6\n",
              "1298  1298       6\n",
              "1299  1299       6\n",
              "\n",
              "[1300 rows x 2 columns]"
            ]
          },
          "metadata": {
            "tags": []
          },
          "execution_count": 154
        }
      ]
    },
    {
      "cell_type": "code",
      "metadata": {
        "id": "xGY4KsZmqjIE",
        "colab_type": "code",
        "colab": {}
      },
      "source": [
        "resultado.to_csv('pizarro_maximiliano-wine.csv')"
      ],
      "execution_count": 0,
      "outputs": []
    },
    {
      "cell_type": "markdown",
      "metadata": {
        "id": "INiPfW803SU-",
        "colab_type": "text"
      },
      "source": [
        "##10) Publicar archivos en Drive"
      ]
    },
    {
      "cell_type": "markdown",
      "metadata": {
        "id": "GsA5Tj3N751d",
        "colab_type": "text"
      },
      "source": [
        "10.1) Descargar interface python para comunicarse con drive"
      ]
    },
    {
      "cell_type": "code",
      "metadata": {
        "id": "W0JlCsY60wFW",
        "colab_type": "code",
        "colab": {}
      },
      "source": [
        "#!pip install -U -q PyDrive\n",
        "from pydrive.auth import GoogleAuth\n",
        "from pydrive.drive import GoogleDrive\n",
        "from google.colab import auth\n",
        "from google.colab import files\n",
        "from oauth2client.client import GoogleCredentials"
      ],
      "execution_count": 0,
      "outputs": []
    },
    {
      "cell_type": "markdown",
      "metadata": {
        "id": "0Hugnf-W8Bsb",
        "colab_type": "text"
      },
      "source": [
        "10.2) Autenticar. Genera un link para auntenticar con el protocolo oauth y solicita ingresar clave privada para terminar la operacion."
      ]
    },
    {
      "cell_type": "code",
      "metadata": {
        "id": "IKgYPfsg1aA1",
        "colab_type": "code",
        "colab": {}
      },
      "source": [
        "auth.authenticate_user()\n",
        "gauth = GoogleAuth()\n",
        "gauth.credentials = GoogleCredentials.get_application_default()\n",
        "drive = GoogleDrive(gauth)"
      ],
      "execution_count": 0,
      "outputs": []
    },
    {
      "cell_type": "markdown",
      "metadata": {
        "id": "_fB-5Ojr8osc",
        "colab_type": "text"
      },
      "source": [
        "10.3) Podemos ver el listado de documentos de nuetro drive"
      ]
    },
    {
      "cell_type": "code",
      "metadata": {
        "id": "h26VNDy2gOL_",
        "colab_type": "code",
        "colab": {}
      },
      "source": [
        "file_list = drive.ListFile({'q': \"'root' in parents and trashed=false\"}).GetList()\n",
        "for file1 in file_list:\n",
        "  print('title: %s, id: %s' % (file1['title'], file1['id']))"
      ],
      "execution_count": 0,
      "outputs": []
    },
    {
      "cell_type": "code",
      "metadata": {
        "id": "lue9VAnL2KR2",
        "colab_type": "code",
        "outputId": "33f6e33e-c5e3-4bdc-8002-83afab9033bd",
        "colab": {
          "base_uri": "https://localhost:8080/",
          "height": 54
        }
      },
      "source": [
        "!ls"
      ],
      "execution_count": 164,
      "outputs": [
        {
          "output_type": "stream",
          "text": [
            "adc.json\t      pizarro_maximiliano-wine.csv  wine.csv\n",
            "clasificacion.joblib  sample_data\n"
          ],
          "name": "stdout"
        }
      ]
    },
    {
      "cell_type": "markdown",
      "metadata": {
        "id": "ni-QasJK9Aj2",
        "colab_type": "text"
      },
      "source": [
        "10.4) Subo el csv resultado con permisos de acceso publico\n"
      ]
    },
    {
      "cell_type": "code",
      "metadata": {
        "id": "FfKrz5191tYg",
        "colab_type": "code",
        "outputId": "c62d5ebd-50d5-4cc3-9f85-055a9b942bfc",
        "colab": {
          "base_uri": "https://localhost:8080/",
          "height": 54
        }
      },
      "source": [
        "#https://drive.google.com/open?id={el ID resultante}\n",
        "\n",
        "uploaded = drive.CreateFile({'title': 'pizarro_maximiliano-wine.csv'})\n",
        "uploaded.SetContentFile('pizarro_maximiliano-wine.csv')\n",
        "uploaded.Upload()\n",
        "print('Uploaded file with ID {}'.format(uploaded.get('id'))) \n",
        "permission = uploaded.InsertPermission({\n",
        "                        'type': 'anyone',\n",
        "                        'value': 'anyone',\n",
        "                        'role': 'reader'})\n",
        "#muetra link de descarga con permiso y sin permiso\n",
        "print(uploaded['alternateLink'])\n"
      ],
      "execution_count": 159,
      "outputs": [
        {
          "output_type": "stream",
          "text": [
            "Uploaded file with ID 1JZvGiaO-xnlt7Bl7v1eihmMAAklQs19K\n",
            "https://drive.google.com/file/d/1JZvGiaO-xnlt7Bl7v1eihmMAAklQs19K/view?usp=drivesdk\n"
          ],
          "name": "stdout"
        }
      ]
    },
    {
      "cell_type": "markdown",
      "metadata": {
        "id": "52PnsJtp9QZJ",
        "colab_type": "text"
      },
      "source": [
        "10.5) Subo el modelo con permisos de acceso publico\n"
      ]
    },
    {
      "cell_type": "code",
      "metadata": {
        "id": "Ndy2bFN6lpat",
        "colab_type": "code",
        "outputId": "577857fe-67dd-496b-d561-265a227d714b",
        "colab": {
          "base_uri": "https://localhost:8080/",
          "height": 73
        }
      },
      "source": [
        "#https://drive.google.com/open?id={el ID resultante}\n",
        "\n",
        "uploaded = drive.CreateFile({'title': 'clasificacion.joblib'})\n",
        "uploaded.SetContentFile('clasificacion.joblib')\n",
        "uploaded.Upload()\n",
        "print('Uploaded file with ID {}'.format(uploaded.get('id'))) \n",
        "print('https://drive.google.com/open?id='+uploaded.get('id')) \n",
        "permission = uploaded.InsertPermission({\n",
        "                        'type': 'anyone',\n",
        "                        'value': 'anyone',\n",
        "                        'role': 'reader'})\n",
        "#muetra link de descarga con permiso y sin permiso\n",
        "print(uploaded['alternateLink'])"
      ],
      "execution_count": 119,
      "outputs": [
        {
          "output_type": "stream",
          "text": [
            "Uploaded file with ID 19Oo9pf2G0joKHkofQPiRxvaM-2P7F569\n",
            "https://drive.google.com/open?id=19Oo9pf2G0joKHkofQPiRxvaM-2P7F569\n",
            "https://drive.google.com/file/d/19Oo9pf2G0joKHkofQPiRxvaM-2P7F569/view?usp=drivesdk\n"
          ],
          "name": "stdout"
        }
      ]
    },
    {
      "cell_type": "markdown",
      "metadata": {
        "id": "WBDnC_Yp9go0",
        "colab_type": "text"
      },
      "source": [
        "10.6) Subo el modelo con permisos de acceso publico"
      ]
    },
    {
      "cell_type": "code",
      "metadata": {
        "id": "Nn25Pnsjl0iu",
        "colab_type": "code",
        "outputId": "bc84abb4-b8c4-4a57-c74b-9c6ace21509c",
        "colab": {
          "base_uri": "https://localhost:8080/",
          "height": 54
        }
      },
      "source": [
        "#https://drive.google.com/open?id={el ID resultante}\n",
        "uploaded = drive.CreateFile({'title': 'wine.csv'})\n",
        "uploaded.SetContentFile('wine.csv')\n",
        "uploaded.Upload()\n",
        "print('Uploaded file with ID {}'.format(uploaded.get('id'))) \n",
        "permission = uploaded.InsertPermission({\n",
        "                        'type': 'anyone',\n",
        "                        'value': 'anyone',\n",
        "                        'role': 'reader'})\n",
        "#muetra link de descarga con permiso y sin permiso\n",
        "print(uploaded['alternateLink'])\n"
      ],
      "execution_count": 0,
      "outputs": [
        {
          "output_type": "stream",
          "text": [
            "Uploaded file with ID 13Th_j4NP3IsvQNwt2lc-mrNFgP3icSkD\n",
            "https://drive.google.com/open?id=13Th_j4NP3IsvQNwt2lc-mrNFgP3icSkD\n"
          ],
          "name": "stdout"
        }
      ]
    }
  ]
}