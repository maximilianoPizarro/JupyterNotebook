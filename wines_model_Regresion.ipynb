{
  "nbformat": 4,
  "nbformat_minor": 0,
  "metadata": {
    "colab": {
      "name": "wines-model-Regresion.ipynb",
      "version": "0.3.2",
      "provenance": [],
      "collapsed_sections": [
        "DEJtJzGWrmNk",
        "mH-dn8Q7i8Is",
        "r4ah7kuOQsJL",
        "yAWdpRm9i8Ja",
        "BnNqQiR7i8Je",
        "944nGGHPr65h",
        "cBvJEdLOi8Ji",
        "-3tvLlgxLTRr",
        "skwdYANXi8Jy",
        "aExUGIjqK59m",
        "2z4Q2Ig6M26K",
        "mUItVRm-i8J0",
        "-v_O1AAbT66D",
        "smrfTTYoa9yZ",
        "S1zzR0UqvqwN"
      ],
      "include_colab_link": true
    },
    "kernelspec": {
      "name": "python3",
      "display_name": "Python 3"
    }
  },
  "cells": [
    {
      "cell_type": "markdown",
      "metadata": {
        "id": "view-in-github",
        "colab_type": "text"
      },
      "source": [
        "<a href=\"https://colab.research.google.com/github/maximilianoPizarro/JupyterNotebook/blob/master/wines_model_Regresion.ipynb\" target=\"_parent\"><img src=\"https://colab.research.google.com/assets/colab-badge.svg\" alt=\"Open In Colab\"/></a>"
      ]
    },
    {
      "cell_type": "markdown",
      "metadata": {
        "id": "axovIAKh1V7X",
        "colab_type": "text"
      },
      "source": [
        "#PROYECTO: Calidad de Vinos\n"
      ]
    },
    {
      "cell_type": "markdown",
      "metadata": {
        "id": "m10fDagt1eN3",
        "colab_type": "text"
      },
      "source": [
        "**Descripción del proyecto:**   En este proyecto vamos a implementar los algoritmos de Regresion Lineal de Sklearn"
      ]
    },
    {
      "cell_type": "markdown",
      "metadata": {
        "id": "0fhaQrLl2SMP",
        "colab_type": "text"
      },
      "source": [
        "**Indice:**\n",
        "\n",
        "\n",
        "0.   [Preparando el entorno](#section0)\n",
        "1.  [Entendimiento del negocio](#section1)\n",
        "2.  [Entendimiento de los datos](#section2)\n",
        "3.  [Modelado](#section3)\n",
        "4.  [Preparación de los datos](#section4)\n",
        "5.  [Implementación](#section5)\n",
        "6.  [Evaluación](#section6)\n",
        "7.  [Presentación](#section7)\n",
        "8.  [Exportar Modelo](#section8)\n",
        "\n",
        "\n"
      ]
    },
    {
      "cell_type": "markdown",
      "metadata": {
        "id": "DEJtJzGWrmNk",
        "colab_type": "text"
      },
      "source": [
        "###0) Preparando el entorno\n",
        "\n"
      ]
    },
    {
      "cell_type": "markdown",
      "metadata": {
        "id": "vY9vHRRM9OEd",
        "colab_type": "text"
      },
      "source": [
        "Pasos de control\n",
        "\n",
        "**0.**   Controlar que el entorno este configurado con python 3 (menu -> Entorno de ejecución -> Cambiar tipo de entorno de Ejecución)<br/>\n",
        "**1.**   Instalar las librerias necesarias (haciendo uso de ! y apt-get o pip)<br/>\n",
        "**2.**   Importar modulos <br/>\n",
        "**3.**   Cargar al servidor la base de datos<br/>"
      ]
    },
    {
      "cell_type": "code",
      "metadata": {
        "id": "wtMR8noY6WhP",
        "colab_type": "code",
        "colab": {}
      },
      "source": [
        "#1 Instalar librerias"
      ],
      "execution_count": 0,
      "outputs": []
    },
    {
      "cell_type": "code",
      "metadata": {
        "id": "P3SL8jNu6gUm",
        "colab_type": "code",
        "colab": {}
      },
      "source": [
        "#2 importar librerias\n",
        "import pandas as pd #libreria para trabajar matrices de datos\n",
        "import matplotlib.pyplot as plt #libreria de visualizaciones\n",
        "import seaborn as sns #frame de visualizaciones sobre matplotlib\n",
        "import numpy as np\n",
        "%matplotlib inline\n",
        "#mostrar las visualizaciones en el entorno de manera predeterminada."
      ],
      "execution_count": 0,
      "outputs": []
    },
    {
      "cell_type": "code",
      "metadata": {
        "id": "pLyRQq_FcuSp",
        "colab_type": "code",
        "outputId": "f500e37c-86f7-4d7b-8050-e9d69d5d06fe",
        "colab": {
          "base_uri": "https://localhost:8080/",
          "height": 326
        }
      },
      "source": [
        "#3 Descargar la bd\n",
        "!wget -O wine.csv \"https://drive.google.com/uc?export=download&id=1bexD-rAY7b0-XQhWd9p51Us1UhcQ_qZs\"\n"
      ],
      "execution_count": 13,
      "outputs": [
        {
          "output_type": "stream",
          "text": [
            "--2019-05-28 16:45:08--  https://drive.google.com/uc?export=download&id=1bexD-rAY7b0-XQhWd9p51Us1UhcQ_qZs\n",
            "Resolving drive.google.com (drive.google.com)... 74.125.195.101, 74.125.195.100, 74.125.195.102, ...\n",
            "Connecting to drive.google.com (drive.google.com)|74.125.195.101|:443... connected.\n",
            "HTTP request sent, awaiting response... 302 Moved Temporarily\n",
            "Location: https://doc-0s-as-docs.googleusercontent.com/docs/securesc/ha0ro937gcuc7l7deffksulhg5h7mbp1/m41dsk2a4n49nudtu3h41ofb4dsqgmlp/1559059200000/11351302820947401900/*/1bexD-rAY7b0-XQhWd9p51Us1UhcQ_qZs?e=download [following]\n",
            "Warning: wildcards not supported in HTTP.\n",
            "--2019-05-28 16:45:09--  https://doc-0s-as-docs.googleusercontent.com/docs/securesc/ha0ro937gcuc7l7deffksulhg5h7mbp1/m41dsk2a4n49nudtu3h41ofb4dsqgmlp/1559059200000/11351302820947401900/*/1bexD-rAY7b0-XQhWd9p51Us1UhcQ_qZs?e=download\n",
            "Resolving doc-0s-as-docs.googleusercontent.com (doc-0s-as-docs.googleusercontent.com)... 74.125.197.132, 2607:f8b0:400e:c03::84\n",
            "Connecting to doc-0s-as-docs.googleusercontent.com (doc-0s-as-docs.googleusercontent.com)|74.125.197.132|:443... connected.\n",
            "HTTP request sent, awaiting response... 200 OK\n",
            "Length: 391385 (382K) [text/csv]\n",
            "Saving to: ‘wine.csv’\n",
            "\n",
            "wine.csv            100%[===================>] 382.21K  --.-KB/s    in 0.004s  \n",
            "\n",
            "2019-05-28 16:45:09 (97.3 MB/s) - ‘wine.csv’ saved [391385/391385]\n",
            "\n"
          ],
          "name": "stdout"
        }
      ]
    },
    {
      "cell_type": "markdown",
      "metadata": {
        "id": "iF7IOagui8Ir",
        "colab_type": "text"
      },
      "source": [
        "# Prototipo Regresion\n"
      ]
    },
    {
      "cell_type": "markdown",
      "metadata": {
        "id": "mH-dn8Q7i8Is",
        "colab_type": "text"
      },
      "source": [
        "###1) Entendimiento del Negocio\n",
        "\n",
        "\n",
        "\n",
        "\n"
      ]
    },
    {
      "cell_type": "code",
      "metadata": {
        "id": "EJmuqJ66RKVN",
        "colab_type": "code",
        "colab": {}
      },
      "source": [
        "df = pd.DataFrame(pd.read_csv(filepath_or_buffer='wine.csv',sep=\",\",index_col=0))"
      ],
      "execution_count": 0,
      "outputs": []
    },
    {
      "cell_type": "markdown",
      "metadata": {
        "id": "NiPe25Iki8Is",
        "colab_type": "text"
      },
      "source": [
        "\n",
        "Se estudiará un dataset de vinos y se armara un modelo para predecir su calidad\n"
      ]
    },
    {
      "cell_type": "code",
      "metadata": {
        "id": "VddbHQFvi8It",
        "colab_type": "code",
        "outputId": "ef54ac98-981e-4d72-8378-350dbc442095",
        "colab": {
          "base_uri": "https://localhost:8080/",
          "height": 204
        }
      },
      "source": [
        "print(df.describe()) #repasando las variables"
      ],
      "execution_count": 15,
      "outputs": [
        {
          "output_type": "stream",
          "text": [
            "       fixed acidity  volatile acidity  ...      alcohol      quality\n",
            "count    5197.000000       5197.000000  ...  5197.000000  5197.000000\n",
            "mean        7.213854          0.338667  ...    10.493907     5.818164\n",
            "std         1.287939          0.164251  ...     1.194671     0.873126\n",
            "min         3.800000          0.080000  ...     8.000000     3.000000\n",
            "25%         6.400000          0.230000  ...     9.500000     5.000000\n",
            "50%         7.000000          0.290000  ...    10.300000     6.000000\n",
            "75%         7.700000          0.400000  ...    11.300000     6.000000\n",
            "max        15.900000          1.580000  ...    14.900000     9.000000\n",
            "\n",
            "[8 rows x 12 columns]\n"
          ],
          "name": "stdout"
        }
      ]
    },
    {
      "cell_type": "markdown",
      "metadata": {
        "id": "_9odMpG9i8Iv",
        "colab_type": "text"
      },
      "source": [
        "<div id=\"section2\"></div>\n",
        "##2) Entendimiento de los Datos\n",
        "\n"
      ]
    },
    {
      "cell_type": "code",
      "metadata": {
        "id": "OpqDaRo1i8Iz",
        "colab_type": "code",
        "outputId": "7ed567ec-0e1c-4ccb-82e9-c3cea7c30a45",
        "colab": {
          "base_uri": "https://localhost:8080/",
          "height": 323
        }
      },
      "source": [
        "df.info() #Viendo el tipo de dato"
      ],
      "execution_count": 16,
      "outputs": [
        {
          "output_type": "stream",
          "text": [
            "<class 'pandas.core.frame.DataFrame'>\n",
            "Int64Index: 5197 entries, 0 to 5196\n",
            "Data columns (total 13 columns):\n",
            "fixed acidity           5197 non-null float64\n",
            "volatile acidity        5197 non-null float64\n",
            "citric acid             5197 non-null float64\n",
            "residual sugar          5197 non-null float64\n",
            "chlorides               5197 non-null float64\n",
            "free sulfur dioxide     5197 non-null float64\n",
            "total sulfur dioxide    5197 non-null float64\n",
            "density                 5197 non-null float64\n",
            "pH                      5197 non-null float64\n",
            "sulphates               5197 non-null float64\n",
            "alcohol                 5197 non-null float64\n",
            "quality                 5197 non-null int64\n",
            "type                    5197 non-null object\n",
            "dtypes: float64(11), int64(1), object(1)\n",
            "memory usage: 568.4+ KB\n"
          ],
          "name": "stdout"
        }
      ]
    },
    {
      "cell_type": "markdown",
      "metadata": {
        "id": "r4ah7kuOQsJL",
        "colab_type": "text"
      },
      "source": [
        "###2) Entendimiento de los datos"
      ]
    },
    {
      "cell_type": "code",
      "metadata": {
        "id": "ZpDPIhm9i8I5",
        "colab_type": "code",
        "outputId": "f494e8de-39a7-408e-dcd9-c384242ca819",
        "colab": {
          "base_uri": "https://localhost:8080/",
          "height": 297
        }
      },
      "source": [
        "df.describe() #descripción de la bd"
      ],
      "execution_count": 17,
      "outputs": [
        {
          "output_type": "execute_result",
          "data": {
            "text/html": [
              "<div>\n",
              "<style scoped>\n",
              "    .dataframe tbody tr th:only-of-type {\n",
              "        vertical-align: middle;\n",
              "    }\n",
              "\n",
              "    .dataframe tbody tr th {\n",
              "        vertical-align: top;\n",
              "    }\n",
              "\n",
              "    .dataframe thead th {\n",
              "        text-align: right;\n",
              "    }\n",
              "</style>\n",
              "<table border=\"1\" class=\"dataframe\">\n",
              "  <thead>\n",
              "    <tr style=\"text-align: right;\">\n",
              "      <th></th>\n",
              "      <th>fixed acidity</th>\n",
              "      <th>volatile acidity</th>\n",
              "      <th>citric acid</th>\n",
              "      <th>residual sugar</th>\n",
              "      <th>chlorides</th>\n",
              "      <th>free sulfur dioxide</th>\n",
              "      <th>total sulfur dioxide</th>\n",
              "      <th>density</th>\n",
              "      <th>pH</th>\n",
              "      <th>sulphates</th>\n",
              "      <th>alcohol</th>\n",
              "      <th>quality</th>\n",
              "    </tr>\n",
              "  </thead>\n",
              "  <tbody>\n",
              "    <tr>\n",
              "      <th>count</th>\n",
              "      <td>5197.000000</td>\n",
              "      <td>5197.000000</td>\n",
              "      <td>5197.000000</td>\n",
              "      <td>5197.000000</td>\n",
              "      <td>5197.000000</td>\n",
              "      <td>5197.000000</td>\n",
              "      <td>5197.000000</td>\n",
              "      <td>5197.000000</td>\n",
              "      <td>5197.000000</td>\n",
              "      <td>5197.000000</td>\n",
              "      <td>5197.000000</td>\n",
              "      <td>5197.000000</td>\n",
              "    </tr>\n",
              "    <tr>\n",
              "      <th>mean</th>\n",
              "      <td>7.213854</td>\n",
              "      <td>0.338667</td>\n",
              "      <td>0.318628</td>\n",
              "      <td>5.469983</td>\n",
              "      <td>0.056053</td>\n",
              "      <td>30.733019</td>\n",
              "      <td>115.941409</td>\n",
              "      <td>0.994686</td>\n",
              "      <td>3.217333</td>\n",
              "      <td>0.529529</td>\n",
              "      <td>10.493907</td>\n",
              "      <td>5.818164</td>\n",
              "    </tr>\n",
              "    <tr>\n",
              "      <th>std</th>\n",
              "      <td>1.287939</td>\n",
              "      <td>0.164251</td>\n",
              "      <td>0.146342</td>\n",
              "      <td>4.715483</td>\n",
              "      <td>0.035773</td>\n",
              "      <td>17.571323</td>\n",
              "      <td>56.604841</td>\n",
              "      <td>0.002933</td>\n",
              "      <td>0.159624</td>\n",
              "      <td>0.148697</td>\n",
              "      <td>1.194671</td>\n",
              "      <td>0.873126</td>\n",
              "    </tr>\n",
              "    <tr>\n",
              "      <th>min</th>\n",
              "      <td>3.800000</td>\n",
              "      <td>0.080000</td>\n",
              "      <td>0.000000</td>\n",
              "      <td>0.600000</td>\n",
              "      <td>0.009000</td>\n",
              "      <td>1.000000</td>\n",
              "      <td>6.000000</td>\n",
              "      <td>0.987110</td>\n",
              "      <td>2.720000</td>\n",
              "      <td>0.230000</td>\n",
              "      <td>8.000000</td>\n",
              "      <td>3.000000</td>\n",
              "    </tr>\n",
              "    <tr>\n",
              "      <th>25%</th>\n",
              "      <td>6.400000</td>\n",
              "      <td>0.230000</td>\n",
              "      <td>0.250000</td>\n",
              "      <td>1.800000</td>\n",
              "      <td>0.038000</td>\n",
              "      <td>17.000000</td>\n",
              "      <td>77.000000</td>\n",
              "      <td>0.992370</td>\n",
              "      <td>3.110000</td>\n",
              "      <td>0.430000</td>\n",
              "      <td>9.500000</td>\n",
              "      <td>5.000000</td>\n",
              "    </tr>\n",
              "    <tr>\n",
              "      <th>50%</th>\n",
              "      <td>7.000000</td>\n",
              "      <td>0.290000</td>\n",
              "      <td>0.310000</td>\n",
              "      <td>3.100000</td>\n",
              "      <td>0.047000</td>\n",
              "      <td>29.000000</td>\n",
              "      <td>118.000000</td>\n",
              "      <td>0.994880</td>\n",
              "      <td>3.210000</td>\n",
              "      <td>0.510000</td>\n",
              "      <td>10.300000</td>\n",
              "      <td>6.000000</td>\n",
              "    </tr>\n",
              "    <tr>\n",
              "      <th>75%</th>\n",
              "      <td>7.700000</td>\n",
              "      <td>0.400000</td>\n",
              "      <td>0.390000</td>\n",
              "      <td>8.200000</td>\n",
              "      <td>0.064000</td>\n",
              "      <td>42.000000</td>\n",
              "      <td>156.000000</td>\n",
              "      <td>0.996960</td>\n",
              "      <td>3.320000</td>\n",
              "      <td>0.600000</td>\n",
              "      <td>11.300000</td>\n",
              "      <td>6.000000</td>\n",
              "    </tr>\n",
              "    <tr>\n",
              "      <th>max</th>\n",
              "      <td>15.900000</td>\n",
              "      <td>1.580000</td>\n",
              "      <td>1.660000</td>\n",
              "      <td>31.600000</td>\n",
              "      <td>0.611000</td>\n",
              "      <td>146.500000</td>\n",
              "      <td>366.500000</td>\n",
              "      <td>1.010300</td>\n",
              "      <td>4.010000</td>\n",
              "      <td>2.000000</td>\n",
              "      <td>14.900000</td>\n",
              "      <td>9.000000</td>\n",
              "    </tr>\n",
              "  </tbody>\n",
              "</table>\n",
              "</div>"
            ],
            "text/plain": [
              "       fixed acidity  volatile acidity  ...      alcohol      quality\n",
              "count    5197.000000       5197.000000  ...  5197.000000  5197.000000\n",
              "mean        7.213854          0.338667  ...    10.493907     5.818164\n",
              "std         1.287939          0.164251  ...     1.194671     0.873126\n",
              "min         3.800000          0.080000  ...     8.000000     3.000000\n",
              "25%         6.400000          0.230000  ...     9.500000     5.000000\n",
              "50%         7.000000          0.290000  ...    10.300000     6.000000\n",
              "75%         7.700000          0.400000  ...    11.300000     6.000000\n",
              "max        15.900000          1.580000  ...    14.900000     9.000000\n",
              "\n",
              "[8 rows x 12 columns]"
            ]
          },
          "metadata": {
            "tags": []
          },
          "execution_count": 17
        }
      ]
    },
    {
      "cell_type": "code",
      "metadata": {
        "id": "-t_zpYSnLbNn",
        "colab_type": "code",
        "outputId": "06807ddd-5c18-41c1-c9af-6087a01d18f2",
        "colab": {
          "base_uri": "https://localhost:8080/",
          "height": 238
        }
      },
      "source": [
        "#Convertimos variables cualitativas en variables discretas\n",
        "#Dividimos el dataset segun la variable target en este caso se trata de calidad\n",
        "df.type=df.type==\"red\"\n",
        "X = df.drop(columns=['quality'])\n",
        "y = df[\"quality\"] #variable target]\n",
        "X_names = sorted(pd.read_csv(filepath_or_buffer='wine.csv',sep=\",\",index_col=0))\n",
        "X_names\n",
        "\n"
      ],
      "execution_count": 18,
      "outputs": [
        {
          "output_type": "execute_result",
          "data": {
            "text/plain": [
              "['alcohol',\n",
              " 'chlorides',\n",
              " 'citric acid',\n",
              " 'density',\n",
              " 'fixed acidity',\n",
              " 'free sulfur dioxide',\n",
              " 'pH',\n",
              " 'quality',\n",
              " 'residual sugar',\n",
              " 'sulphates',\n",
              " 'total sulfur dioxide',\n",
              " 'type',\n",
              " 'volatile acidity']"
            ]
          },
          "metadata": {
            "tags": []
          },
          "execution_count": 18
        }
      ]
    },
    {
      "cell_type": "markdown",
      "metadata": {
        "id": "oHl6Zqp5s38_",
        "colab_type": "text"
      },
      "source": [
        "**Recordamos que la distirbución de la variable target no tenia una distribución normal**"
      ]
    },
    {
      "cell_type": "code",
      "metadata": {
        "id": "wbC61xv1i8I-",
        "colab_type": "code",
        "outputId": "dffb16f4-d2ef-4335-9d1f-e4c908b0dbb7",
        "colab": {
          "base_uri": "https://localhost:8080/",
          "height": 286
        }
      },
      "source": [
        "#distribución de la calidad\n",
        "df['quality'].plot.kde()\n"
      ],
      "execution_count": 19,
      "outputs": [
        {
          "output_type": "execute_result",
          "data": {
            "text/plain": [
              "<matplotlib.axes._subplots.AxesSubplot at 0x7fd8b6e7bcf8>"
            ]
          },
          "metadata": {
            "tags": []
          },
          "execution_count": 19
        },
        {
          "output_type": "display_data",
          "data": {
            "image/png": "[encoded data removed]",
            "text/plain": [
              "<Figure size 432x288 with 1 Axes>"
            ]
          },
          "metadata": {
            "tags": []
          }
        }
      ]
    },
    {
      "cell_type": "code",
      "metadata": {
        "id": "9L4PZHsqi8JB",
        "colab_type": "code",
        "outputId": "86696264-d8d2-4269-b715-66b8799b1105",
        "colab": {
          "base_uri": "https://localhost:8080/",
          "height": 295
        }
      },
      "source": [
        "from scipy import stats #visualizar la distribución de probabilidades\n",
        "#sirve para comprender si la variable en estudio tiene una distirbución normal\n",
        "#necesaria para aplicar modelos paramétricos\n",
        "stats.probplot(df['quality'], plot=plt)\n",
        "plt.show()\n"
      ],
      "execution_count": 20,
      "outputs": [
        {
          "output_type": "display_data",
          "data": {
            "image/png": "[encoded data removed]",
            "text/plain": [
              "<Figure size 432x288 with 1 Axes>"
            ]
          },
          "metadata": {
            "tags": []
          }
        }
      ]
    },
    {
      "cell_type": "markdown",
      "metadata": {
        "id": "i_c0orX0i8JJ",
        "colab_type": "text"
      },
      "source": [
        "Veremos en la etapa de preparación de los datos como corregir este problema.\n"
      ]
    },
    {
      "cell_type": "markdown",
      "metadata": {
        "id": "yAWdpRm9i8Ja",
        "colab_type": "text"
      },
      "source": [
        "### 3) Modelado"
      ]
    },
    {
      "cell_type": "markdown",
      "metadata": {
        "id": "GWS8X6w6i8Jc",
        "colab_type": "text"
      },
      "source": [
        "Usaremos modelo de regresion de sklearn\n"
      ]
    },
    {
      "cell_type": "markdown",
      "metadata": {
        "id": "wJSVC6t8i8Jd",
        "colab_type": "text"
      },
      "source": [
        "\n",
        "\n",
        "---\n",
        "\n",
        "***Nota:**  Veamos que nos ofrece la libreria a utilizar para regression (http://scikit-learn.org/stable/modules/linear_model.html)"
      ]
    },
    {
      "cell_type": "markdown",
      "metadata": {
        "id": "BnNqQiR7i8Je",
        "colab_type": "text"
      },
      "source": [
        "###4) Preparación de los datos"
      ]
    },
    {
      "cell_type": "markdown",
      "metadata": {
        "id": "1Ozq0Rvwi8Je",
        "colab_type": "text"
      },
      "source": [
        "En esta etapa realizaremos 2 actividades:\n",
        "\n",
        "1.   Estandarizaremos los atributos\n",
        "2.   Resolveremos el problema de separar el dataset\n",
        "\n"
      ]
    },
    {
      "cell_type": "markdown",
      "metadata": {
        "id": "944nGGHPr65h",
        "colab_type": "text"
      },
      "source": [
        "4.1) Estandarización de variables"
      ]
    },
    {
      "cell_type": "code",
      "metadata": {
        "id": "6Xc1e3_2Bw06",
        "colab_type": "code",
        "outputId": "7892e1d0-15f8-4879-8f38-20a635923d27",
        "colab": {
          "base_uri": "https://localhost:8080/",
          "height": 269
        }
      },
      "source": [
        "logFunction = np.log( ([0.001, 0.01, 0.1] + list(range(1, 200, 3)) ) )\n",
        "plt.plot(logFunction)\n",
        "plt.show()"
      ],
      "execution_count": 21,
      "outputs": [
        {
          "output_type": "display_data",
          "data": {
            "image/png": "[encoded data removed]",
            "text/plain": [
              "<Figure size 432x288 with 1 Axes>"
            ]
          },
          "metadata": {
            "tags": []
          }
        }
      ]
    },
    {
      "cell_type": "code",
      "metadata": {
        "id": "myFTXGxutHeb",
        "colab_type": "code",
        "colab": {}
      },
      "source": [
        "#\n",
        "y_log = df['quality']\n"
      ],
      "execution_count": 0,
      "outputs": []
    },
    {
      "cell_type": "code",
      "metadata": {
        "id": "zbmg0d-stLvv",
        "colab_type": "code",
        "outputId": "cd9d454e-2d77-4dcb-d1a7-c4c874383c97",
        "colab": {
          "base_uri": "https://localhost:8080/",
          "height": 547
        }
      },
      "source": [
        "#distribución de la calidad\n",
        "y_log.plot.kde()\n",
        "plt.show()\n",
        "#sirve para comprender si la variable en estudio tiene una distirbución normal\n",
        "#necesaria para aplicar modelos paramétricos\n",
        "stats.probplot(y_log, plot=plt)\n",
        "plt.show()"
      ],
      "execution_count": 23,
      "outputs": [
        {
          "output_type": "display_data",
          "data": {
            "image/png": "[encoded data removed]",
            "text/plain": [
              "<Figure size 432x288 with 1 Axes>"
            ]
          },
          "metadata": {
            "tags": []
          }
        },
        {
          "output_type": "display_data",
          "data": {
            "image/png": "[encoded data removed]",
            "text/plain": [
              "<Figure size 432x288 with 1 Axes>"
            ]
          },
          "metadata": {
            "tags": []
          }
        }
      ]
    },
    {
      "cell_type": "markdown",
      "metadata": {
        "id": "Xez9IswEuYLV",
        "colab_type": "text"
      },
      "source": [
        "4.2) Split Dataset"
      ]
    },
    {
      "cell_type": "code",
      "metadata": {
        "id": "50pMsuF3i8Jg",
        "colab_type": "code",
        "colab": {}
      },
      "source": [
        "from sklearn.model_selection import train_test_split"
      ],
      "execution_count": 0,
      "outputs": []
    },
    {
      "cell_type": "markdown",
      "metadata": {
        "id": "MQbF3IIju6t5",
        "colab_type": "text"
      },
      "source": [
        "debemos definir 2 elementos:\n",
        "1.   El porcentaje de registros que utilizaremos para testear\n",
        "2.   Un valor aleatorio fijo para mantener la reproducción del experimento\n",
        "\n"
      ]
    },
    {
      "cell_type": "code",
      "metadata": {
        "id": "rBzFIXNIvIdo",
        "colab_type": "code",
        "colab": {}
      },
      "source": [
        "test_size = 0.3 # 30% de la población (usualmente se elige entre un 30 y un 15% según la cantidad de registros)\n",
        "RANDOM_STATE = 42 #un valor aleatorio"
      ],
      "execution_count": 0,
      "outputs": []
    },
    {
      "cell_type": "code",
      "metadata": {
        "id": "bcIfzzOduyVh",
        "colab_type": "code",
        "colab": {}
      },
      "source": [
        "#por motivos de comparación tendremos separadas en 2 bds sin modificar\n",
        "#raw\n",
        "X_train, X_test, y_train, y_test = train_test_split(X, y, test_size=test_size, random_state=RANDOM_STATE)\n",
        "\n",
        "y_log_train = np.log(y_train)\n",
        "y_log_test = np.log(y_test)"
      ],
      "execution_count": 0,
      "outputs": []
    },
    {
      "cell_type": "code",
      "metadata": {
        "id": "Ow9tTRTlvqTS",
        "colab_type": "code",
        "outputId": "b33d8dc1-3d5f-47d3-837c-46852300e51b",
        "colab": {
          "base_uri": "https://localhost:8080/",
          "height": 34
        }
      },
      "source": [
        "print(\"train: {} vs test {}\".format(len(X_train), len(X_test)))"
      ],
      "execution_count": 27,
      "outputs": [
        {
          "output_type": "stream",
          "text": [
            "train: 3637 vs test 1560\n"
          ],
          "name": "stdout"
        }
      ]
    },
    {
      "cell_type": "code",
      "metadata": {
        "id": "XdvWKrMiLDv9",
        "colab_type": "code",
        "colab": {}
      },
      "source": [
        ""
      ],
      "execution_count": 0,
      "outputs": []
    },
    {
      "cell_type": "markdown",
      "metadata": {
        "id": "cBvJEdLOi8Ji",
        "colab_type": "text"
      },
      "source": [
        "###5) Implementación"
      ]
    },
    {
      "cell_type": "markdown",
      "metadata": {
        "id": "nIFk2yRRyIQe",
        "colab_type": "text"
      },
      "source": [
        "5.1) Modelo Regresión Lineal"
      ]
    },
    {
      "cell_type": "code",
      "metadata": {
        "id": "V5K3wc4Wi8Ji",
        "colab_type": "code",
        "colab": {}
      },
      "source": [
        "from sklearn.linear_model import LinearRegression #importamos el modelo a utilizar"
      ],
      "execution_count": 0,
      "outputs": []
    },
    {
      "cell_type": "markdown",
      "metadata": {
        "id": "p_eTMHx6xE1A",
        "colab_type": "text"
      },
      "source": [
        "**No estandarizado**"
      ]
    },
    {
      "cell_type": "code",
      "metadata": {
        "id": "pfYHvXWmi8Jl",
        "colab_type": "code",
        "colab": {}
      },
      "source": [
        "#entrenando el modelo en el dataset sin estandarizar\n",
        "lr = LinearRegression()\n",
        "lr.fit(X_train, y_train)\n",
        "y_pred = lr.predict(X_test) "
      ],
      "execution_count": 0,
      "outputs": []
    },
    {
      "cell_type": "markdown",
      "metadata": {
        "id": "-3tvLlgxLTRr",
        "colab_type": "text"
      },
      "source": [
        "5.2) Otros modelos de regresión"
      ]
    },
    {
      "cell_type": "code",
      "metadata": {
        "id": "zbg0DJN-LTRr",
        "colab_type": "code",
        "colab": {}
      },
      "source": [
        "#from sklearn.linear_model import Ridge, Lasso # http://scikit-learn.org/stable/modules/linear_model.html#ridge-regression\n",
        "from sklearn.tree import DecisionTreeRegressor # http://scikit-learn.org/stable/auto_examples/tree/plot_tree_regression.html\n",
        "from sklearn.svm import SVR #http://scikit-learn.org/stable/modules/generated/sklearn.svm.SVR.html"
      ],
      "execution_count": 0,
      "outputs": []
    },
    {
      "cell_type": "markdown",
      "metadata": {
        "id": "qevltBxnLTRt",
        "colab_type": "text"
      },
      "source": [
        "**No estandarizado**"
      ]
    },
    {
      "cell_type": "code",
      "metadata": {
        "id": "hq8CYYVxLTRt",
        "colab_type": "code",
        "outputId": "e38e0b44-096a-414c-a11b-c85185662cee",
        "colab": {
          "base_uri": "https://localhost:8080/",
          "height": 71
        }
      },
      "source": [
        "#entrenando el modelo en el dataset sin modificar\n",
        "lr = LinearRegression()\n",
        "lr.fit(X_train, y_train)\n",
        "y_pred_lr = lr.predict(X_test) \n",
        "\n",
        "#DecisionTreeRegressor\n",
        "dtr = DecisionTreeRegressor(random_state=RANDOM_STATE)\n",
        "dtr.fit(X_train, y_train)\n",
        "y_pred_dtr = dtr.predict(X_test) \n",
        "\n",
        "#SVR\n",
        "svr = SVR()\n",
        "svr.fit(X_train, y_train)\n",
        "y_pred_svr = svr.predict(X_test) \n",
        "\n"
      ],
      "execution_count": 31,
      "outputs": [
        {
          "output_type": "stream",
          "text": [
            "/usr/local/lib/python3.6/dist-packages/sklearn/svm/base.py:193: FutureWarning: The default value of gamma will change from 'auto' to 'scale' in version 0.22 to account better for unscaled features. Set gamma explicitly to 'auto' or 'scale' to avoid this warning.\n",
            "  \"avoid this warning.\", FutureWarning)\n"
          ],
          "name": "stderr"
        }
      ]
    },
    {
      "cell_type": "markdown",
      "metadata": {
        "id": "l5yQCZG1Rv8j",
        "colab_type": "text"
      },
      "source": [
        "5.3) Otros modelos ..."
      ]
    },
    {
      "cell_type": "markdown",
      "metadata": {
        "id": "pZsAknzuR7Vx",
        "colab_type": "text"
      },
      "source": [
        "¿Y que pasa si intento generar otros modelos del mismo tipo, como hicimos con LinearRegression para DecisionTreeRegressor?"
      ]
    },
    {
      "cell_type": "markdown",
      "metadata": {
        "id": "YZ-4Iu-_Rv8p",
        "colab_type": "text"
      },
      "source": [
        "**No estandarizado**"
      ]
    },
    {
      "cell_type": "code",
      "metadata": {
        "id": "ToeEO740Rv8p",
        "colab_type": "code",
        "colab": {}
      },
      "source": [
        "#Nuestro actual ganador!!\n",
        "#DecisionTreeRegressor opc 1\n",
        "dtr = DecisionTreeRegressor(random_state=RANDOM_STATE)\n",
        "dtr.fit(X_train, y_train)\n",
        "y_pred_dtr = dtr.predict(X_test) \n",
        "\n",
        "#adaptemos la cantidad minima de registros que debe tener una regla para poder dividirse en nuevas reglas\n",
        "#el valor por defecto de \"min_samples_split\" es 2 (ver documentación)\n",
        "\n",
        "#DecisionTreeRegressor opc 2\n",
        "dtr2 = DecisionTreeRegressor(min_samples_split=20, random_state=RANDOM_STATE)\n",
        "dtr2.fit(X_train, y_train)\n",
        "y_pred_dtr2 = dtr2.predict(X_test) \n",
        "\n",
        "\n",
        "#DecisionTreeRegressor opc 3\n",
        "dtr3 = DecisionTreeRegressor(min_samples_split=10, random_state=RANDOM_STATE)\n",
        "dtr3.fit(X_train, y_train)\n",
        "y_pred_dtr3 = dtr3.predict(X_test) \n",
        "\n"
      ],
      "execution_count": 0,
      "outputs": []
    },
    {
      "cell_type": "markdown",
      "metadata": {
        "id": "tx1z51WyFCYY",
        "colab_type": "text"
      },
      "source": [
        "5.4)"
      ]
    },
    {
      "cell_type": "code",
      "metadata": {
        "id": "gysCi0JfFBwH",
        "colab_type": "code",
        "colab": {}
      },
      "source": [
        "#from sklearn.linear_model import Ridge, Lasso # http://scikit-learn.org/stable/modules/linear_model.html#ridge-regression\n",
        "from sklearn.tree import DecisionTreeRegressor # http://scikit-learn.org/stable/auto_examples/tree/plot_tree_regression.html\n",
        "from sklearn.svm import SVR #http://scikit-learn.org/stable/modules/generated/sklearn.svm.SVR.html"
      ],
      "execution_count": 0,
      "outputs": []
    },
    {
      "cell_type": "code",
      "metadata": {
        "id": "2WFi3beeFHjY",
        "colab_type": "code",
        "colab": {}
      },
      "source": [
        "??SVR"
      ],
      "execution_count": 0,
      "outputs": []
    },
    {
      "cell_type": "code",
      "metadata": {
        "id": "4AA03pi_Hgre",
        "colab_type": "code",
        "outputId": "3ec8853f-2098-4444-e6d1-844ec1dc5bd3",
        "colab": {
          "base_uri": "https://localhost:8080/",
          "height": 68
        }
      },
      "source": [
        "SVR(C=1.0)"
      ],
      "execution_count": 35,
      "outputs": [
        {
          "output_type": "execute_result",
          "data": {
            "text/plain": [
              "SVR(C=1.0, cache_size=200, coef0=0.0, degree=3, epsilon=0.1,\n",
              "    gamma='auto_deprecated', kernel='rbf', max_iter=-1, shrinking=True,\n",
              "    tol=0.001, verbose=False)"
            ]
          },
          "metadata": {
            "tags": []
          },
          "execution_count": 35
        }
      ]
    },
    {
      "cell_type": "code",
      "metadata": {
        "id": "bwMGLGCoHg4Y",
        "colab_type": "code",
        "outputId": "7a1c7f90-221e-4c13-f6ce-899d1efbf696",
        "colab": {
          "base_uri": "https://localhost:8080/",
          "height": 68
        }
      },
      "source": [
        "SVR(C=2.0)\n"
      ],
      "execution_count": 36,
      "outputs": [
        {
          "output_type": "execute_result",
          "data": {
            "text/plain": [
              "SVR(C=2.0, cache_size=200, coef0=0.0, degree=3, epsilon=0.1,\n",
              "    gamma='auto_deprecated', kernel='rbf', max_iter=-1, shrinking=True,\n",
              "    tol=0.001, verbose=False)"
            ]
          },
          "metadata": {
            "tags": []
          },
          "execution_count": 36
        }
      ]
    },
    {
      "cell_type": "code",
      "metadata": {
        "id": "DhlfdGJYFgHG",
        "colab_type": "code",
        "colab": {}
      },
      "source": [
        "from sklearn.preprocessing import StandardScaler\n",
        "from sklearn.pipeline import Pipeline\n",
        "from sklearn.model_selection import GridSearchCV\n",
        "from sklearn.externals import joblib"
      ],
      "execution_count": 0,
      "outputs": []
    },
    {
      "cell_type": "code",
      "metadata": {
        "id": "DX_kQ7FdFt_H",
        "colab_type": "code",
        "outputId": "dd10aa72-55f3-42e8-c53e-edaabcc114ba",
        "colab": {
          "base_uri": "https://localhost:8080/",
          "height": 153
        }
      },
      "source": [
        "#parametros\n",
        "grid_params_svr = [{'m__C': [0.1,1.0, 2.0]}]\n",
        "pipe_svr = Pipeline([('scl', StandardScaler()),\n",
        "                    ('m', SVR())])\n",
        "pipe_svr\n"
      ],
      "execution_count": 50,
      "outputs": [
        {
          "output_type": "execute_result",
          "data": {
            "text/plain": [
              "Pipeline(memory=None,\n",
              "         steps=[('scl',\n",
              "                 StandardScaler(copy=True, with_mean=True, with_std=True)),\n",
              "                ('m',\n",
              "                 SVR(C=1.0, cache_size=200, coef0=0.0, degree=3, epsilon=0.1,\n",
              "                     gamma='auto_deprecated', kernel='rbf', max_iter=-1,\n",
              "                     shrinking=True, tol=0.001, verbose=False))],\n",
              "         verbose=False)"
            ]
          },
          "metadata": {
            "tags": []
          },
          "execution_count": 50
        }
      ]
    },
    {
      "cell_type": "code",
      "metadata": {
        "id": "B3_d8Bn1GaI9",
        "colab_type": "code",
        "outputId": "8e03719c-4918-4ca0-dbf2-9ee5bf3b963d",
        "colab": {
          "base_uri": "https://localhost:8080/",
          "height": 306
        }
      },
      "source": [
        "# Construct grid searches\n",
        "jobs = -1\n",
        "cv = 10\n",
        "\n",
        "#refit=True, entrena el mejor modelo obtenido con todo el dataset! :D\n",
        "#verbose => mientras mayor el número, más info va mostrando.\n",
        "gs_svr = GridSearchCV(estimator=pipe_svr,\n",
        "            param_grid=grid_params_svr,\n",
        "            cv=cv,\n",
        "            verbose=2,\n",
        "            n_jobs=jobs)\n",
        "gs_svr"
      ],
      "execution_count": 51,
      "outputs": [
        {
          "output_type": "execute_result",
          "data": {
            "text/plain": [
              "GridSearchCV(cv=10, error_score='raise-deprecating',\n",
              "             estimator=Pipeline(memory=None,\n",
              "                                steps=[('scl',\n",
              "                                        StandardScaler(copy=True,\n",
              "                                                       with_mean=True,\n",
              "                                                       with_std=True)),\n",
              "                                       ('m',\n",
              "                                        SVR(C=1.0, cache_size=200, coef0=0.0,\n",
              "                                            degree=3, epsilon=0.1,\n",
              "                                            gamma='auto_deprecated',\n",
              "                                            kernel='rbf', max_iter=-1,\n",
              "                                            shrinking=True, tol=0.001,\n",
              "                                            verbose=False))],\n",
              "                                verbose=False),\n",
              "             iid='warn', n_jobs=-1, param_grid=[{'m__C': [0.1, 1.0, 2.0]}],\n",
              "             pre_dispatch='2*n_jobs', refit=True, return_train_score=False,\n",
              "             scoring=None, verbose=2)"
            ]
          },
          "metadata": {
            "tags": []
          },
          "execution_count": 51
        }
      ]
    },
    {
      "cell_type": "code",
      "metadata": {
        "id": "ieWU9DMOGnj-",
        "colab_type": "code",
        "outputId": "ea9de20c-00da-4ca0-9b02-ccfac57743cf",
        "colab": {
          "base_uri": "https://localhost:8080/",
          "height": 102
        }
      },
      "source": [
        "# Fit grid search\t\n",
        "gs_svr.fit(X_train, y_train)\n",
        "# Mejor params\n",
        "print('Mejor params: %s' % gs_svr.best_params_)\n",
        "# Mejor resultado\n",
        "print('Mejor resultado: %.3f' % gs_svr.best_score_)"
      ],
      "execution_count": 52,
      "outputs": [
        {
          "output_type": "stream",
          "text": [
            "Fitting 10 folds for each of 3 candidates, totalling 30 fits\n"
          ],
          "name": "stdout"
        },
        {
          "output_type": "stream",
          "text": [
            "[Parallel(n_jobs=-1)]: Using backend LokyBackend with 2 concurrent workers.\n",
            "[Parallel(n_jobs=-1)]: Done  30 out of  30 | elapsed:   17.3s finished\n"
          ],
          "name": "stderr"
        },
        {
          "output_type": "stream",
          "text": [
            "Mejor params: {'m__C': 2.0}\n",
            "Mejor resultado: 0.386\n"
          ],
          "name": "stdout"
        }
      ]
    },
    {
      "cell_type": "code",
      "metadata": {
        "id": "rcIR8AzHQcv4",
        "colab_type": "code",
        "colab": {}
      },
      "source": [
        "#Arboles vs SVR\n",
        "\n",
        "#parametros\n",
        "grid_params_svr = [{'clf__kernel': ['linear', 'rbf'],'clf__C': [0.1,1.0, 2.0]}]\n",
        "pipe_svr = Pipeline([('scl', StandardScaler()),\n",
        "                    ('clf', SVR())])\n",
        "\n",
        "#parametros\n",
        "grid_params_dtr = [{\n",
        "                    'clf__min_samples_split': [2, 5, 8, 10]}]\n",
        "pipe_dtr = Pipeline([('scl', StandardScaler()),\n",
        "                    ('clf', DecisionTreeRegressor())])"
      ],
      "execution_count": 0,
      "outputs": []
    },
    {
      "cell_type": "code",
      "metadata": {
        "id": "9y3q1GCBQucZ",
        "colab_type": "code",
        "colab": {}
      },
      "source": [
        "# Construct grid searches\n",
        "jobs = 1\n",
        "cv = 10\n",
        "\n",
        "#refit=True, entrena el mejor modelo obtenido con todo el dataset! :D\n",
        "#verbose => mientras mayor el número, más info va mostrando.\n",
        "gs_svr = GridSearchCV(estimator=pipe_svr,\n",
        "            param_grid=grid_params_svr,\n",
        "            cv=cv,\n",
        "            verbose=1,\n",
        "            n_jobs=jobs)\n",
        "\n",
        "gs_dtr = GridSearchCV(estimator=pipe_dtr,\n",
        "            param_grid=grid_params_dtr,\n",
        "            cv=cv,\n",
        "            # metrics=\"\",\n",
        "            verbose=1,\n",
        "            n_jobs=jobs)"
      ],
      "execution_count": 0,
      "outputs": []
    },
    {
      "cell_type": "markdown",
      "metadata": {
        "id": "skwdYANXi8Jy",
        "colab_type": "text"
      },
      "source": [
        "###6) Evaluación"
      ]
    },
    {
      "cell_type": "code",
      "metadata": {
        "id": "AYt4jOtIi8Jz",
        "colab_type": "code",
        "colab": {}
      },
      "source": [
        "from sklearn.metrics import mean_squared_error #más info: http://scikit-learn.org/stable/modules/model_evaluation.html#mean-squared-error"
      ],
      "execution_count": 0,
      "outputs": []
    },
    {
      "cell_type": "markdown",
      "metadata": {
        "id": "pmsTEJNcbRtI",
        "colab_type": "text"
      },
      "source": [
        ""
      ]
    },
    {
      "cell_type": "markdown",
      "metadata": {
        "id": "aExUGIjqK59m",
        "colab_type": "text"
      },
      "source": [
        "6.1) Compararemos los resultados predichos entre los 2 modelos"
      ]
    },
    {
      "cell_type": "code",
      "metadata": {
        "id": "cLubxesNwWAy",
        "colab_type": "code",
        "outputId": "c3540a21-50ba-45be-e431-3bc31da44829",
        "colab": {
          "base_uri": "https://localhost:8080/",
          "height": 34
        }
      },
      "source": [
        "#dataset sin estandarizar\n",
        "MSE = mean_squared_error(y_test, y_pred)\n",
        "print(\"MSE = {}\".format(MSE))"
      ],
      "execution_count": 57,
      "outputs": [
        {
          "output_type": "stream",
          "text": [
            "MSE = 0.5316649993238518\n"
          ],
          "name": "stdout"
        }
      ]
    },
    {
      "cell_type": "markdown",
      "metadata": {
        "id": "2z4Q2Ig6M26K",
        "colab_type": "text"
      },
      "source": [
        "6.2) Compararemos los resultados predichos entre los 6 modelos"
      ]
    },
    {
      "cell_type": "code",
      "metadata": {
        "id": "dbHL9XYUM26S",
        "colab_type": "code",
        "outputId": "ec05c211-fa44-47c4-f10d-bc0996b06b03",
        "colab": {
          "base_uri": "https://localhost:8080/",
          "height": 68
        }
      },
      "source": [
        "#dataset sin estandarizar\n",
        "MSE = mean_squared_error(y_test, y_pred_lr)\n",
        "print(\"MSE lr = {}\".format(MSE))\n",
        "\n",
        "MSE = mean_squared_error(y_test, y_pred_dtr)\n",
        "print(\"MSE dtr = {}\".format(MSE))\n",
        "\n",
        "MSE = mean_squared_error(y_test, y_pred_svr)\n",
        "print(\"MSE svr = {}\".format(MSE))"
      ],
      "execution_count": 59,
      "outputs": [
        {
          "output_type": "stream",
          "text": [
            "MSE lr = 0.5316649993238518\n",
            "MSE dtr = 0.764102564102564\n",
            "MSE svr = 0.5791591203410703\n"
          ],
          "name": "stdout"
        }
      ]
    },
    {
      "cell_type": "code",
      "metadata": {
        "id": "FlabgXjnS9uo",
        "colab_type": "code",
        "outputId": "517bb23b-a5b3-4a64-d1bb-d3383d8bc103",
        "colab": {
          "base_uri": "https://localhost:8080/",
          "height": 73
        }
      },
      "source": [
        "#dataset sin estandarizar\n",
        "MSE = mean_squared_error(y_test, y_pred_dtr)\n",
        "print(\"MSE dtr = {}\".format(MSE))\n",
        "\n",
        "MSE = mean_squared_error(y_test, y_pred_dtr2)\n",
        "print(\"MSE dtr 5 = {}\".format(MSE))\n",
        "\n",
        "MSE = mean_squared_error(y_test, y_pred_dtr3)\n",
        "print(\"MSE dtr 10 = {}\".format(MSE))"
      ],
      "execution_count": 0,
      "outputs": [
        {
          "output_type": "stream",
          "text": [
            "MSE dtr = 0.016666666666666666\n",
            "MSE dtr 5 = 0.018069322656957064\n",
            "MSE dtr 10 = 0.0169181801994302\n"
          ],
          "name": "stdout"
        }
      ]
    },
    {
      "cell_type": "code",
      "metadata": {
        "id": "KYT9CKm-TgrD",
        "colab_type": "code",
        "outputId": "693a0520-03c0-42c1-dead-a030623d03b6",
        "colab": {
          "base_uri": "https://localhost:8080/",
          "height": 102
        }
      },
      "source": [
        "dtr3 #imprimimos las caracteristicas del modelo"
      ],
      "execution_count": 61,
      "outputs": [
        {
          "output_type": "execute_result",
          "data": {
            "text/plain": [
              "DecisionTreeRegressor(criterion='mse', max_depth=None, max_features=None,\n",
              "                      max_leaf_nodes=None, min_impurity_decrease=0.0,\n",
              "                      min_impurity_split=None, min_samples_leaf=1,\n",
              "                      min_samples_split=10, min_weight_fraction_leaf=0.0,\n",
              "                      presort=False, random_state=42, splitter='best')"
            ]
          },
          "metadata": {
            "tags": []
          },
          "execution_count": 61
        }
      ]
    },
    {
      "cell_type": "markdown",
      "metadata": {
        "id": "mUItVRm-i8J0",
        "colab_type": "text"
      },
      "source": [
        "###7) Presentación"
      ]
    },
    {
      "cell_type": "markdown",
      "metadata": {
        "id": "V8gvETKDi8J1",
        "colab_type": "text"
      },
      "source": [
        "Por el tipo de problema a desarrollar los modelos de regresion no impactan significamente en el resultado"
      ]
    },
    {
      "cell_type": "markdown",
      "metadata": {
        "id": "05naeqaVT2QK",
        "colab_type": "text"
      },
      "source": [
        "7.1) Impacto de variables"
      ]
    },
    {
      "cell_type": "code",
      "metadata": {
        "id": "JPPp_u-2KAjo",
        "colab_type": "code",
        "outputId": "ebd35a04-060d-4245-d19b-75d12b622e60",
        "colab": {
          "base_uri": "https://localhost:8080/",
          "height": 238
        }
      },
      "source": [
        "[print(\"{} : {:.4f}\".format(x, y)) for x, y in zip(X_names, dtr.feature_importances_)]\n"
      ],
      "execution_count": 62,
      "outputs": [
        {
          "output_type": "stream",
          "text": [
            "alcohol : 0.0552\n",
            "chlorides : 0.1298\n",
            "citric acid : 0.0509\n",
            "density : 0.0819\n",
            "fixed acidity : 0.0611\n",
            "free sulfur dioxide : 0.0823\n",
            "pH : 0.0690\n",
            "quality : 0.0557\n",
            "residual sugar : 0.0591\n",
            "sulphates : 0.0896\n",
            "total sulfur dioxide : 0.2638\n",
            "type : 0.0015\n"
          ],
          "name": "stdout"
        },
        {
          "output_type": "execute_result",
          "data": {
            "text/plain": [
              "[None, None, None, None, None, None, None, None, None, None, None, None]"
            ]
          },
          "metadata": {
            "tags": []
          },
          "execution_count": 62
        }
      ]
    },
    {
      "cell_type": "markdown",
      "metadata": {
        "id": "-v_O1AAbT66D",
        "colab_type": "text"
      },
      "source": [
        "7.3) Impacto de variables"
      ]
    },
    {
      "cell_type": "code",
      "metadata": {
        "id": "1uvl1RLsi8J3",
        "colab_type": "code",
        "outputId": "5644dfd8-f8b3-4101-9a75-73e73ffbd956",
        "colab": {
          "base_uri": "https://localhost:8080/",
          "height": 238
        }
      },
      "source": [
        "[print(\"{} : {:.4f}\".format(x, y)) for x, y in zip(X_names, dtr3.feature_importances_)]"
      ],
      "execution_count": 63,
      "outputs": [
        {
          "output_type": "stream",
          "text": [
            "alcohol : 0.0531\n",
            "chlorides : 0.1382\n",
            "citric acid : 0.0437\n",
            "density : 0.0761\n",
            "fixed acidity : 0.0592\n",
            "free sulfur dioxide : 0.0777\n",
            "pH : 0.0659\n",
            "quality : 0.0493\n",
            "residual sugar : 0.0516\n",
            "sulphates : 0.0878\n",
            "total sulfur dioxide : 0.2965\n",
            "type : 0.0010\n"
          ],
          "name": "stdout"
        },
        {
          "output_type": "execute_result",
          "data": {
            "text/plain": [
              "[None, None, None, None, None, None, None, None, None, None, None, None]"
            ]
          },
          "metadata": {
            "tags": []
          },
          "execution_count": 63
        }
      ]
    },
    {
      "cell_type": "markdown",
      "metadata": {
        "id": "smrfTTYoa9yZ",
        "colab_type": "text"
      },
      "source": [
        "###8) Exportar modelo"
      ]
    },
    {
      "cell_type": "code",
      "metadata": {
        "id": "124zb74lbIwm",
        "colab_type": "code",
        "colab": {}
      },
      "source": [
        "from sklearn.externals import joblib"
      ],
      "execution_count": 0,
      "outputs": []
    },
    {
      "cell_type": "code",
      "metadata": {
        "id": "atYJ6hGCvdUM",
        "colab_type": "code",
        "outputId": "e0295df3-c808-49dc-a6ae-07e8414680b9",
        "colab": {
          "base_uri": "https://localhost:8080/",
          "height": 34
        }
      },
      "source": [
        "joblib.dump(lr, \"regresionlinear.joblib\")"
      ],
      "execution_count": 65,
      "outputs": [
        {
          "output_type": "execute_result",
          "data": {
            "text/plain": [
              "['regresionlinear.joblib']"
            ]
          },
          "metadata": {
            "tags": []
          },
          "execution_count": 65
        }
      ]
    },
    {
      "cell_type": "markdown",
      "metadata": {
        "id": "S1zzR0UqvqwN",
        "colab_type": "text"
      },
      "source": [
        "###9) Importar modelo"
      ]
    },
    {
      "cell_type": "code",
      "metadata": {
        "id": "R8M117JXvsGb",
        "colab_type": "code",
        "colab": {}
      },
      "source": [
        "from joblib import dump, load\n",
        "\n",
        "cargar_modelo = load(\"regresionlinear.joblib\")\n"
      ],
      "execution_count": 0,
      "outputs": []
    },
    {
      "cell_type": "markdown",
      "metadata": {
        "id": "JZuCGe13wJRL",
        "colab_type": "text"
      },
      "source": [
        "9.1) Importamos nuevo dataset "
      ]
    },
    {
      "cell_type": "code",
      "metadata": {
        "id": "e0qDMZRSwH-9",
        "colab_type": "code",
        "colab": {}
      },
      "source": [
        "import requests,io\n",
        "\n",
        "url=\"https://raw.githubusercontent.com/maximilianoPizarro/JupyterNotebook/master/wine_test_predict.csv\"\n",
        "s=requests.get(url).content\n",
        "\n",
        "dframe = pd.DataFrame(pd.read_csv(io.StringIO(s.decode('utf-8')),index_col=0))\n",
        "dframe.type=dframe.type==\"red\""
      ],
      "execution_count": 0,
      "outputs": []
    },
    {
      "cell_type": "markdown",
      "metadata": {
        "id": "-nid0bP7v4Nm",
        "colab_type": "text"
      },
      "source": [
        "9.2) Realizamos las prediccion con el modelo cargado\n"
      ]
    },
    {
      "cell_type": "code",
      "metadata": {
        "id": "AReAubjyv5NV",
        "colab_type": "code",
        "outputId": "7442a2a4-1a9d-413b-a1ef-6e1c42c9682f",
        "colab": {
          "base_uri": "https://localhost:8080/",
          "height": 51
        }
      },
      "source": [
        "cargar_modelo.predict(dframe)"
      ],
      "execution_count": 68,
      "outputs": [
        {
          "output_type": "execute_result",
          "data": {
            "text/plain": [
              "array([6.17173898, 5.90652658, 5.63932018, ..., 6.29342387, 5.42046935,\n",
              "       6.43216691])"
            ]
          },
          "metadata": {
            "tags": []
          },
          "execution_count": 68
        }
      ]
    },
    {
      "cell_type": "markdown",
      "metadata": {
        "id": "sIykvN8_wT_9",
        "colab_type": "text"
      },
      "source": [
        "9.3) Creamos un nuevo dataframe con el resultado y guardamos en archivo csv"
      ]
    },
    {
      "cell_type": "code",
      "metadata": {
        "id": "sLhRc7QkwUos",
        "colab_type": "code",
        "outputId": "38a312c6-9726-4dce-f966-b43f95aae489",
        "colab": {
          "base_uri": "https://localhost:8080/",
          "height": 1969
        }
      },
      "source": [
        "resultado = pd.DataFrame(columns= ['ID', 'y_pred'])\n",
        "resultado['ID']=dframe.index\n",
        "resultado['y_pred']=cargar_modelo.predict(dframe)\n",
        "resultado"
      ],
      "execution_count": 69,
      "outputs": [
        {
          "output_type": "execute_result",
          "data": {
            "text/html": [
              "<div>\n",
              "<style scoped>\n",
              "    .dataframe tbody tr th:only-of-type {\n",
              "        vertical-align: middle;\n",
              "    }\n",
              "\n",
              "    .dataframe tbody tr th {\n",
              "        vertical-align: top;\n",
              "    }\n",
              "\n",
              "    .dataframe thead th {\n",
              "        text-align: right;\n",
              "    }\n",
              "</style>\n",
              "<table border=\"1\" class=\"dataframe\">\n",
              "  <thead>\n",
              "    <tr style=\"text-align: right;\">\n",
              "      <th></th>\n",
              "      <th>ID</th>\n",
              "      <th>y_pred</th>\n",
              "    </tr>\n",
              "  </thead>\n",
              "  <tbody>\n",
              "    <tr>\n",
              "      <th>0</th>\n",
              "      <td>0</td>\n",
              "      <td>6.171739</td>\n",
              "    </tr>\n",
              "    <tr>\n",
              "      <th>1</th>\n",
              "      <td>1</td>\n",
              "      <td>5.906527</td>\n",
              "    </tr>\n",
              "    <tr>\n",
              "      <th>2</th>\n",
              "      <td>2</td>\n",
              "      <td>5.639320</td>\n",
              "    </tr>\n",
              "    <tr>\n",
              "      <th>3</th>\n",
              "      <td>3</td>\n",
              "      <td>4.820230</td>\n",
              "    </tr>\n",
              "    <tr>\n",
              "      <th>4</th>\n",
              "      <td>4</td>\n",
              "      <td>5.653701</td>\n",
              "    </tr>\n",
              "    <tr>\n",
              "      <th>5</th>\n",
              "      <td>5</td>\n",
              "      <td>5.675818</td>\n",
              "    </tr>\n",
              "    <tr>\n",
              "      <th>6</th>\n",
              "      <td>6</td>\n",
              "      <td>5.301559</td>\n",
              "    </tr>\n",
              "    <tr>\n",
              "      <th>7</th>\n",
              "      <td>7</td>\n",
              "      <td>5.675579</td>\n",
              "    </tr>\n",
              "    <tr>\n",
              "      <th>8</th>\n",
              "      <td>8</td>\n",
              "      <td>6.013045</td>\n",
              "    </tr>\n",
              "    <tr>\n",
              "      <th>9</th>\n",
              "      <td>9</td>\n",
              "      <td>6.263892</td>\n",
              "    </tr>\n",
              "    <tr>\n",
              "      <th>10</th>\n",
              "      <td>10</td>\n",
              "      <td>6.384178</td>\n",
              "    </tr>\n",
              "    <tr>\n",
              "      <th>11</th>\n",
              "      <td>11</td>\n",
              "      <td>5.833636</td>\n",
              "    </tr>\n",
              "    <tr>\n",
              "      <th>12</th>\n",
              "      <td>12</td>\n",
              "      <td>6.672220</td>\n",
              "    </tr>\n",
              "    <tr>\n",
              "      <th>13</th>\n",
              "      <td>13</td>\n",
              "      <td>6.143174</td>\n",
              "    </tr>\n",
              "    <tr>\n",
              "      <th>14</th>\n",
              "      <td>14</td>\n",
              "      <td>6.046268</td>\n",
              "    </tr>\n",
              "    <tr>\n",
              "      <th>15</th>\n",
              "      <td>15</td>\n",
              "      <td>5.224958</td>\n",
              "    </tr>\n",
              "    <tr>\n",
              "      <th>16</th>\n",
              "      <td>16</td>\n",
              "      <td>5.556161</td>\n",
              "    </tr>\n",
              "    <tr>\n",
              "      <th>17</th>\n",
              "      <td>17</td>\n",
              "      <td>5.835332</td>\n",
              "    </tr>\n",
              "    <tr>\n",
              "      <th>18</th>\n",
              "      <td>18</td>\n",
              "      <td>5.908266</td>\n",
              "    </tr>\n",
              "    <tr>\n",
              "      <th>19</th>\n",
              "      <td>19</td>\n",
              "      <td>6.273641</td>\n",
              "    </tr>\n",
              "    <tr>\n",
              "      <th>20</th>\n",
              "      <td>20</td>\n",
              "      <td>5.211738</td>\n",
              "    </tr>\n",
              "    <tr>\n",
              "      <th>21</th>\n",
              "      <td>21</td>\n",
              "      <td>5.844422</td>\n",
              "    </tr>\n",
              "    <tr>\n",
              "      <th>22</th>\n",
              "      <td>22</td>\n",
              "      <td>5.395221</td>\n",
              "    </tr>\n",
              "    <tr>\n",
              "      <th>23</th>\n",
              "      <td>23</td>\n",
              "      <td>6.418965</td>\n",
              "    </tr>\n",
              "    <tr>\n",
              "      <th>24</th>\n",
              "      <td>24</td>\n",
              "      <td>6.021963</td>\n",
              "    </tr>\n",
              "    <tr>\n",
              "      <th>25</th>\n",
              "      <td>25</td>\n",
              "      <td>5.198527</td>\n",
              "    </tr>\n",
              "    <tr>\n",
              "      <th>26</th>\n",
              "      <td>26</td>\n",
              "      <td>6.239238</td>\n",
              "    </tr>\n",
              "    <tr>\n",
              "      <th>27</th>\n",
              "      <td>27</td>\n",
              "      <td>5.409377</td>\n",
              "    </tr>\n",
              "    <tr>\n",
              "      <th>28</th>\n",
              "      <td>28</td>\n",
              "      <td>5.656741</td>\n",
              "    </tr>\n",
              "    <tr>\n",
              "      <th>29</th>\n",
              "      <td>29</td>\n",
              "      <td>5.621104</td>\n",
              "    </tr>\n",
              "    <tr>\n",
              "      <th>...</th>\n",
              "      <td>...</td>\n",
              "      <td>...</td>\n",
              "    </tr>\n",
              "    <tr>\n",
              "      <th>1270</th>\n",
              "      <td>1270</td>\n",
              "      <td>5.208991</td>\n",
              "    </tr>\n",
              "    <tr>\n",
              "      <th>1271</th>\n",
              "      <td>1271</td>\n",
              "      <td>5.512238</td>\n",
              "    </tr>\n",
              "    <tr>\n",
              "      <th>1272</th>\n",
              "      <td>1272</td>\n",
              "      <td>6.215717</td>\n",
              "    </tr>\n",
              "    <tr>\n",
              "      <th>1273</th>\n",
              "      <td>1273</td>\n",
              "      <td>5.581416</td>\n",
              "    </tr>\n",
              "    <tr>\n",
              "      <th>1274</th>\n",
              "      <td>1274</td>\n",
              "      <td>5.558377</td>\n",
              "    </tr>\n",
              "    <tr>\n",
              "      <th>1275</th>\n",
              "      <td>1275</td>\n",
              "      <td>6.225383</td>\n",
              "    </tr>\n",
              "    <tr>\n",
              "      <th>1276</th>\n",
              "      <td>1276</td>\n",
              "      <td>5.343438</td>\n",
              "    </tr>\n",
              "    <tr>\n",
              "      <th>1277</th>\n",
              "      <td>1277</td>\n",
              "      <td>6.214667</td>\n",
              "    </tr>\n",
              "    <tr>\n",
              "      <th>1278</th>\n",
              "      <td>1278</td>\n",
              "      <td>5.957566</td>\n",
              "    </tr>\n",
              "    <tr>\n",
              "      <th>1279</th>\n",
              "      <td>1279</td>\n",
              "      <td>5.281985</td>\n",
              "    </tr>\n",
              "    <tr>\n",
              "      <th>1280</th>\n",
              "      <td>1280</td>\n",
              "      <td>5.712599</td>\n",
              "    </tr>\n",
              "    <tr>\n",
              "      <th>1281</th>\n",
              "      <td>1281</td>\n",
              "      <td>6.282409</td>\n",
              "    </tr>\n",
              "    <tr>\n",
              "      <th>1282</th>\n",
              "      <td>1282</td>\n",
              "      <td>5.500620</td>\n",
              "    </tr>\n",
              "    <tr>\n",
              "      <th>1283</th>\n",
              "      <td>1283</td>\n",
              "      <td>5.537635</td>\n",
              "    </tr>\n",
              "    <tr>\n",
              "      <th>1284</th>\n",
              "      <td>1284</td>\n",
              "      <td>5.329369</td>\n",
              "    </tr>\n",
              "    <tr>\n",
              "      <th>1285</th>\n",
              "      <td>1285</td>\n",
              "      <td>6.466185</td>\n",
              "    </tr>\n",
              "    <tr>\n",
              "      <th>1286</th>\n",
              "      <td>1286</td>\n",
              "      <td>5.248185</td>\n",
              "    </tr>\n",
              "    <tr>\n",
              "      <th>1287</th>\n",
              "      <td>1287</td>\n",
              "      <td>5.481945</td>\n",
              "    </tr>\n",
              "    <tr>\n",
              "      <th>1288</th>\n",
              "      <td>1288</td>\n",
              "      <td>6.033213</td>\n",
              "    </tr>\n",
              "    <tr>\n",
              "      <th>1289</th>\n",
              "      <td>1289</td>\n",
              "      <td>5.741826</td>\n",
              "    </tr>\n",
              "    <tr>\n",
              "      <th>1290</th>\n",
              "      <td>1290</td>\n",
              "      <td>6.356127</td>\n",
              "    </tr>\n",
              "    <tr>\n",
              "      <th>1291</th>\n",
              "      <td>1291</td>\n",
              "      <td>6.542243</td>\n",
              "    </tr>\n",
              "    <tr>\n",
              "      <th>1292</th>\n",
              "      <td>1292</td>\n",
              "      <td>5.794649</td>\n",
              "    </tr>\n",
              "    <tr>\n",
              "      <th>1293</th>\n",
              "      <td>1293</td>\n",
              "      <td>5.500174</td>\n",
              "    </tr>\n",
              "    <tr>\n",
              "      <th>1294</th>\n",
              "      <td>1294</td>\n",
              "      <td>5.690590</td>\n",
              "    </tr>\n",
              "    <tr>\n",
              "      <th>1295</th>\n",
              "      <td>1295</td>\n",
              "      <td>5.403314</td>\n",
              "    </tr>\n",
              "    <tr>\n",
              "      <th>1296</th>\n",
              "      <td>1296</td>\n",
              "      <td>6.218489</td>\n",
              "    </tr>\n",
              "    <tr>\n",
              "      <th>1297</th>\n",
              "      <td>1297</td>\n",
              "      <td>6.293424</td>\n",
              "    </tr>\n",
              "    <tr>\n",
              "      <th>1298</th>\n",
              "      <td>1298</td>\n",
              "      <td>5.420469</td>\n",
              "    </tr>\n",
              "    <tr>\n",
              "      <th>1299</th>\n",
              "      <td>1299</td>\n",
              "      <td>6.432167</td>\n",
              "    </tr>\n",
              "  </tbody>\n",
              "</table>\n",
              "<p>1300 rows × 2 columns</p>\n",
              "</div>"
            ],
            "text/plain": [
              "        ID    y_pred\n",
              "0        0  6.171739\n",
              "1        1  5.906527\n",
              "2        2  5.639320\n",
              "3        3  4.820230\n",
              "4        4  5.653701\n",
              "5        5  5.675818\n",
              "6        6  5.301559\n",
              "7        7  5.675579\n",
              "8        8  6.013045\n",
              "9        9  6.263892\n",
              "10      10  6.384178\n",
              "11      11  5.833636\n",
              "12      12  6.672220\n",
              "13      13  6.143174\n",
              "14      14  6.046268\n",
              "15      15  5.224958\n",
              "16      16  5.556161\n",
              "17      17  5.835332\n",
              "18      18  5.908266\n",
              "19      19  6.273641\n",
              "20      20  5.211738\n",
              "21      21  5.844422\n",
              "22      22  5.395221\n",
              "23      23  6.418965\n",
              "24      24  6.021963\n",
              "25      25  5.198527\n",
              "26      26  6.239238\n",
              "27      27  5.409377\n",
              "28      28  5.656741\n",
              "29      29  5.621104\n",
              "...    ...       ...\n",
              "1270  1270  5.208991\n",
              "1271  1271  5.512238\n",
              "1272  1272  6.215717\n",
              "1273  1273  5.581416\n",
              "1274  1274  5.558377\n",
              "1275  1275  6.225383\n",
              "1276  1276  5.343438\n",
              "1277  1277  6.214667\n",
              "1278  1278  5.957566\n",
              "1279  1279  5.281985\n",
              "1280  1280  5.712599\n",
              "1281  1281  6.282409\n",
              "1282  1282  5.500620\n",
              "1283  1283  5.537635\n",
              "1284  1284  5.329369\n",
              "1285  1285  6.466185\n",
              "1286  1286  5.248185\n",
              "1287  1287  5.481945\n",
              "1288  1288  6.033213\n",
              "1289  1289  5.741826\n",
              "1290  1290  6.356127\n",
              "1291  1291  6.542243\n",
              "1292  1292  5.794649\n",
              "1293  1293  5.500174\n",
              "1294  1294  5.690590\n",
              "1295  1295  5.403314\n",
              "1296  1296  6.218489\n",
              "1297  1297  6.293424\n",
              "1298  1298  5.420469\n",
              "1299  1299  6.432167\n",
              "\n",
              "[1300 rows x 2 columns]"
            ]
          },
          "metadata": {
            "tags": []
          },
          "execution_count": 69
        }
      ]
    },
    {
      "cell_type": "code",
      "metadata": {
        "id": "SLMP2pmmwbXG",
        "colab_type": "code",
        "colab": {}
      },
      "source": [
        "resultado.to_csv('regresion-pizarro_maximiliano-wine.csv')"
      ],
      "execution_count": 0,
      "outputs": []
    }
  ]
}